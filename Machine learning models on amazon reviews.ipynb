{
 "cells": [
  {
   "cell_type": "code",
   "execution_count": 253,
   "metadata": {},
   "outputs": [],
   "source": [
    "%matplotlib inline\n",
    "import warnings\n",
    "warnings.filterwarnings(\"ignore\")\n",
    "\n",
    "import sqlite3\n",
    "import pandas as pd\n",
    "import numpy as np\n",
    "import nltk\n",
    "import string\n",
    "import matplotlib.pyplot as plt\n",
    "import seaborn as sns\n",
    "from sklearn.feature_extraction.text import TfidfTransformer\n",
    "from sklearn.feature_extraction.text import TfidfVectorizer\n",
    "\n",
    "from sklearn.feature_extraction.text import CountVectorizer\n",
    "from sklearn.metrics import confusion_matrix\n",
    "from sklearn import metrics\n",
    "from sklearn.metrics import roc_curve, auc\n",
    "from nltk.stem.porter import PorterStemmer\n",
    "\n",
    "import re\n",
    "# Tutorial about Python regular expressions: https://pymotw.com/2/re/\n",
    "import string\n",
    "from nltk.corpus import stopwords\n",
    "from nltk.stem import PorterStemmer\n",
    "from nltk.stem.wordnet import WordNetLemmatizer\n",
    "\n",
    "from gensim.models import Word2Vec\n",
    "from gensim.models import KeyedVectors\n",
    "import pickle\n",
    "\n",
    "from tqdm import tqdm\n",
    "import os\n",
    "#Metrics\n",
    "from sklearn.metrics import accuracy_score\n",
    "from sklearn.metrics import confusion_matrix\n",
    "from sklearn.metrics import precision_score\n",
    "from sklearn.metrics import f1_score\n",
    "from sklearn.metrics import recall_score\n",
    "\n",
    "warnings.filterwarnings(\"ignore\")\n",
    "\n",
    "%matplotlib inline \n",
    "# sets the backend of matplotlib to the 'inline' backend:\n",
    "#With this backend, the output of plotting commands is displayed inline within frontends like the Jupyter notebook,\n",
    "#directly below the code cell that produced it. The resulting plots will then also be stored in the notebook document.\n",
    "\n",
    "#Functions to save objects for later use and retireve it\n",
    "import pickle\n",
    "def savetofile(obj,filename):\n",
    "    pickle.dump(obj,open(filename+\".p\",\"wb\"))\n",
    "def openfromfile(filename):\n",
    "    temp = pickle.load(open(filename+\".p\",\"rb\"))\n",
    "    return temp"
   ]
  },
  {
   "cell_type": "code",
   "execution_count": 254,
   "metadata": {},
   "outputs": [
    {
     "data": {
      "text/html": [
       "<div>\n",
       "<style scoped>\n",
       "    .dataframe tbody tr th:only-of-type {\n",
       "        vertical-align: middle;\n",
       "    }\n",
       "\n",
       "    .dataframe tbody tr th {\n",
       "        vertical-align: top;\n",
       "    }\n",
       "\n",
       "    .dataframe thead th {\n",
       "        text-align: right;\n",
       "    }\n",
       "</style>\n",
       "<table border=\"1\" class=\"dataframe\">\n",
       "  <thead>\n",
       "    <tr style=\"text-align: right;\">\n",
       "      <th></th>\n",
       "      <th>Id</th>\n",
       "      <th>ProductId</th>\n",
       "      <th>UserId</th>\n",
       "      <th>ProfileName</th>\n",
       "      <th>HelpfulnessNumerator</th>\n",
       "      <th>HelpfulnessDenominator</th>\n",
       "      <th>Score</th>\n",
       "      <th>Time</th>\n",
       "      <th>Summary</th>\n",
       "      <th>Text</th>\n",
       "    </tr>\n",
       "  </thead>\n",
       "  <tbody>\n",
       "    <tr>\n",
       "      <th>0</th>\n",
       "      <td>1</td>\n",
       "      <td>B001E4KFG0</td>\n",
       "      <td>A3SGXH7AUHU8GW</td>\n",
       "      <td>delmartian</td>\n",
       "      <td>1</td>\n",
       "      <td>1</td>\n",
       "      <td>5</td>\n",
       "      <td>1303862400</td>\n",
       "      <td>Good Quality Dog Food</td>\n",
       "      <td>I have bought several of the Vitality canned d...</td>\n",
       "    </tr>\n",
       "    <tr>\n",
       "      <th>1</th>\n",
       "      <td>2</td>\n",
       "      <td>B00813GRG4</td>\n",
       "      <td>A1D87F6ZCVE5NK</td>\n",
       "      <td>dll pa</td>\n",
       "      <td>0</td>\n",
       "      <td>0</td>\n",
       "      <td>1</td>\n",
       "      <td>1346976000</td>\n",
       "      <td>Not as Advertised</td>\n",
       "      <td>Product arrived labeled as Jumbo Salted Peanut...</td>\n",
       "    </tr>\n",
       "    <tr>\n",
       "      <th>2</th>\n",
       "      <td>3</td>\n",
       "      <td>B000LQOCH0</td>\n",
       "      <td>ABXLMWJIXXAIN</td>\n",
       "      <td>Natalia Corres \"Natalia Corres\"</td>\n",
       "      <td>1</td>\n",
       "      <td>1</td>\n",
       "      <td>4</td>\n",
       "      <td>1219017600</td>\n",
       "      <td>\"Delight\" says it all</td>\n",
       "      <td>This is a confection that has been around a fe...</td>\n",
       "    </tr>\n",
       "    <tr>\n",
       "      <th>3</th>\n",
       "      <td>4</td>\n",
       "      <td>B000UA0QIQ</td>\n",
       "      <td>A395BORC6FGVXV</td>\n",
       "      <td>Karl</td>\n",
       "      <td>3</td>\n",
       "      <td>3</td>\n",
       "      <td>2</td>\n",
       "      <td>1307923200</td>\n",
       "      <td>Cough Medicine</td>\n",
       "      <td>If you are looking for the secret ingredient i...</td>\n",
       "    </tr>\n",
       "    <tr>\n",
       "      <th>4</th>\n",
       "      <td>5</td>\n",
       "      <td>B006K2ZZ7K</td>\n",
       "      <td>A1UQRSCLF8GW1T</td>\n",
       "      <td>Michael D. Bigham \"M. Wassir\"</td>\n",
       "      <td>0</td>\n",
       "      <td>0</td>\n",
       "      <td>5</td>\n",
       "      <td>1350777600</td>\n",
       "      <td>Great taffy</td>\n",
       "      <td>Great taffy at a great price.  There was a wid...</td>\n",
       "    </tr>\n",
       "  </tbody>\n",
       "</table>\n",
       "</div>"
      ],
      "text/plain": [
       "   Id   ProductId          UserId                      ProfileName  \\\n",
       "0   1  B001E4KFG0  A3SGXH7AUHU8GW                       delmartian   \n",
       "1   2  B00813GRG4  A1D87F6ZCVE5NK                           dll pa   \n",
       "2   3  B000LQOCH0   ABXLMWJIXXAIN  Natalia Corres \"Natalia Corres\"   \n",
       "3   4  B000UA0QIQ  A395BORC6FGVXV                             Karl   \n",
       "4   5  B006K2ZZ7K  A1UQRSCLF8GW1T    Michael D. Bigham \"M. Wassir\"   \n",
       "\n",
       "   HelpfulnessNumerator  HelpfulnessDenominator  Score        Time  \\\n",
       "0                     1                       1      5  1303862400   \n",
       "1                     0                       0      1  1346976000   \n",
       "2                     1                       1      4  1219017600   \n",
       "3                     3                       3      2  1307923200   \n",
       "4                     0                       0      5  1350777600   \n",
       "\n",
       "                 Summary                                               Text  \n",
       "0  Good Quality Dog Food  I have bought several of the Vitality canned d...  \n",
       "1      Not as Advertised  Product arrived labeled as Jumbo Salted Peanut...  \n",
       "2  \"Delight\" says it all  This is a confection that has been around a fe...  \n",
       "3         Cough Medicine  If you are looking for the secret ingredient i...  \n",
       "4            Great taffy  Great taffy at a great price.  There was a wid...  "
      ]
     },
     "execution_count": 254,
     "metadata": {},
     "output_type": "execute_result"
    }
   ],
   "source": [
    "final = pd.read_csv(r\"C:\\Users\\Saniya\\Reviews.csv\",nrows=8000)\n",
    "\n",
    "\n",
    "#Reviews is the name of the table given\n",
    "#Taking only the data where score != 3 as score 3 will be neutral and it won't help us much\n",
    "final.head()"
   ]
  },
  {
   "cell_type": "code",
   "execution_count": 255,
   "metadata": {},
   "outputs": [],
   "source": [
    "final['Score'] = final['Score'].replace('positive',1)\n",
    "final['Score'] = final['Score'].replace('negative',0)"
   ]
  },
  {
   "cell_type": "code",
   "execution_count": 256,
   "metadata": {},
   "outputs": [
    {
     "data": {
      "text/plain": [
       "False    7972\n",
       "True       28\n",
       "dtype: int64"
      ]
     },
     "execution_count": 256,
     "metadata": {},
     "output_type": "execute_result"
    }
   ],
   "source": [
    "final.duplicated(subset={\"UserId\",\"ProfileName\",\"Time\",\"Text\"}).value_counts()"
   ]
  },
  {
   "cell_type": "code",
   "execution_count": 257,
   "metadata": {},
   "outputs": [
    {
     "name": "stdout",
     "output_type": "stream",
     "text": [
      "Size of data 8000  rows \n"
     ]
    }
   ],
   "source": [
    "final = final[final.HelpfulnessNumerator <= final.HelpfulnessDenominator]\n",
    "print(\"Size of data\",final['Id'].size,\" rows \")"
   ]
  },
  {
   "cell_type": "code",
   "execution_count": 258,
   "metadata": {},
   "outputs": [
    {
     "data": {
      "text/plain": [
       "'I Want This text!'"
      ]
     },
     "execution_count": 258,
     "metadata": {},
     "output_type": "execute_result"
    }
   ],
   "source": [
    "import re\n",
    "def striphtml(data):\n",
    "    p = re.compile('<.*?>')#Find this kind of pattern\n",
    "#     print(p.findall(data))#List of strings which follow the regex pattern\n",
    "    return p.sub('',data) #Substitute nothing at the place of strings which matched the patterns\n",
    "\n",
    "striphtml('<a href=\"foo.com\" class=\"bar\">I Want This <b>text!</b></a><>')"
   ]
  },
  {
   "cell_type": "code",
   "execution_count": 259,
   "metadata": {},
   "outputs": [
    {
     "data": {
      "text/plain": [
       "'fsd sdfsdfdsvv'"
      ]
     },
     "execution_count": 259,
     "metadata": {},
     "output_type": "execute_result"
    }
   ],
   "source": [
    "def strippunc(data):\n",
    "    p = re.compile(r'[?|!|\\'|\"|#|.|,|)|(|\\|/|~|%|*]')\n",
    "    return p.sub('',data)\n",
    "strippunc(\"fsd*?~,,,( sdfsdfdsvv)#\")"
   ]
  },
  {
   "cell_type": "code",
   "execution_count": 260,
   "metadata": {},
   "outputs": [
    {
     "name": "stdout",
     "output_type": "stream",
     "text": [
      "['i', 'me', 'my', 'myself', 'we', 'our', 'ours', 'ourselves', 'you', \"you're\", \"you've\", \"you'll\", \"you'd\", 'your', 'yours', 'yourself', 'yourselves', 'he', 'him', 'his', 'himself', 'she', \"she's\", 'her', 'hers', 'herself', 'it', \"it's\", 'its', 'itself', 'they', 'them', 'their', 'theirs', 'themselves', 'what', 'which', 'who', 'whom', 'this', 'that', \"that'll\", 'these', 'those', 'am', 'is', 'are', 'was', 'were', 'be', 'been', 'being', 'have', 'has', 'had', 'having', 'do', 'does', 'did', 'doing', 'a', 'an', 'the', 'and', 'but', 'if', 'or', 'because', 'as', 'until', 'while', 'of', 'at', 'by', 'for', 'with', 'about', 'between', 'into', 'through', 'during', 'before', 'after', 'above', 'below', 'to', 'from', 'up', 'down', 'in', 'out', 'on', 'off', 'over', 'under', 'again', 'further', 'then', 'once', 'here', 'there', 'when', 'where', 'why', 'how', 'all', 'any', 'both', 'each', 'few', 'more', 'most', 'other', 'some', 'such', 'no', 'nor', 'only', 'own', 'same', 'so', 'than', 'too', 'very', 's', 't', 'can', 'will', 'just', 'should', \"should've\", 'now', 'd', 'll', 'm', 'o', 're', 've', 'y', 'ma', 'shan', \"shan't\"]\n"
     ]
    }
   ],
   "source": [
    "from nltk.corpus import stopwords\n",
    "from nltk.stem import PorterStemmer\n",
    "from nltk.stem.wordnet import WordNetLemmatizer\n",
    "import nltk\n",
    "#nltk.download('stopwords')\n",
    "\n",
    "stop = stopwords.words('english') #All the stopwords in English language\n",
    "#excluding some useful words from stop words list as we doing sentiment analysis\n",
    "excluding = ['against','not','don', \"don't\",'ain', 'aren', \"aren't\", 'couldn', \"couldn't\", 'didn', \"didn't\",\n",
    "             'doesn', \"doesn't\", 'hadn', \"hadn't\", 'hasn', \"hasn't\", 'haven', \"haven't\", 'isn', \"isn't\", \n",
    "             'mightn', \"mightn't\", 'mustn', \"mustn't\", 'needn', \"needn't\",'shouldn', \"shouldn't\", 'wasn',\n",
    "             \"wasn't\", 'weren', \"weren't\", 'won', \"won't\", 'wouldn', \"wouldn't\"]\n",
    "stop = [words for words in stop if words not in excluding]\n",
    "print(stop)"
   ]
  },
  {
   "cell_type": "code",
   "execution_count": 261,
   "metadata": {},
   "outputs": [
    {
     "name": "stdout",
     "output_type": "stream",
     "text": [
      "Stem/Root words of the some of the words using SnowBall Stemmer:\n",
      "tasti\n",
      "tast\n",
      "tastiest\n",
      "delici\n",
      "amaz\n",
      "amaz\n",
      "initi\n",
      "fabul\n",
      "honda c\n",
      "unpleas\n"
     ]
    }
   ],
   "source": [
    "from nltk.stem import SnowballStemmer\n",
    "snow = SnowballStemmer('english') #initialising the snowball stemmer\n",
    "print(\"Stem/Root words of the some of the words using SnowBall Stemmer:\")\n",
    "print(snow.stem('tasty'))\n",
    "print(snow.stem('tasteful'))\n",
    "print(snow.stem('tastiest'))\n",
    "print(snow.stem('delicious'))\n",
    "print(snow.stem('amazing'))\n",
    "print(snow.stem('amaze'))\n",
    "print(snow.stem('initialize'))\n",
    "print(snow.stem('fabulous'))\n",
    "print(snow.stem('Honda City'))\n",
    "print(snow.stem('unpleasant'\n",
    "\n",
    "))"
   ]
  },
  {
   "cell_type": "code",
   "execution_count": 262,
   "metadata": {},
   "outputs": [
    {
     "name": "stdout",
     "output_type": "stream",
     "text": [
      "This is a confection that has been around a few centuries.  It is a light, pillowy citrus gelatin with nuts - in this case Filberts. And it is cut into tiny squares and then liberally coated with powdered sugar.  And it is a tiny mouthful of heaven.  Not too chewy, and very flavorful.  I highly recommend this yummy treat.  If you are familiar with the story of C.S. Lewis' \"The Lion, The Witch, and The Wardrobe\" - this is the treat that seduces Edmund into selling out his Brother and Sisters to the Witch.\n",
      "['This', 'is', 'a', 'confection', 'that', 'has', 'been', 'around', 'a', 'few', 'centuries', 'It', 'is', 'a', 'light', 'pillowy', 'citrus', 'gelatin', 'with', 'nuts', '-', 'in', 'this', 'case', 'Filberts', 'And', 'it', 'is', 'cut', 'into', 'tiny', 'squares', 'and', 'then', 'liberally', 'coated', 'with', 'powdered', 'sugar', 'And', 'it', 'is', 'a', 'tiny', 'mouthful', 'of', 'heaven', 'Not', 'too', 'chewy', 'and', 'very', 'flavorful', 'I', 'highly', 'recommend', 'this', 'yummy', 'treat', 'If', 'you', 'are', 'familiar', 'with', 'the', 'story', 'of', 'CS', 'Lewis', 'The', 'Lion', 'The', 'Witch', 'and', 'The', 'Wardrobe', '-', 'this', 'is', 'the', 'treat', 'that', 'seduces', 'Edmund', 'into', 'selling', 'out', 'his', 'Brother', 'and', 'Sisters', 'to', 'the', 'Witch']\n",
      "================================> This\n",
      "Eliminated as it is a stopword\n",
      "================================> is\n",
      "Eliminated as it is a numerical value or character of lenght less than 2\n",
      "================================> a\n",
      "Eliminated as it is a numerical value or character of lenght less than 2\n",
      "================================> confection\n",
      "Selected: Stem Word-> b'confect'\n",
      "================================> that\n",
      "Eliminated as it is a stopword\n",
      "================================> has\n",
      "Eliminated as it is a stopword\n",
      "================================> been\n",
      "Eliminated as it is a stopword\n",
      "================================> around\n",
      "Selected: Stem Word-> b'around'\n",
      "================================> a\n",
      "Eliminated as it is a numerical value or character of lenght less than 2\n",
      "================================> few\n",
      "Eliminated as it is a stopword\n",
      "================================> centuries\n",
      "Selected: Stem Word-> b'centuri'\n",
      "================================> It\n",
      "Eliminated as it is a numerical value or character of lenght less than 2\n",
      "================================> is\n",
      "Eliminated as it is a numerical value or character of lenght less than 2\n",
      "================================> a\n",
      "Eliminated as it is a numerical value or character of lenght less than 2\n",
      "================================> light\n",
      "Selected: Stem Word-> b'light'\n",
      "================================> pillowy\n",
      "Selected: Stem Word-> b'pillowi'\n",
      "================================> citrus\n",
      "Selected: Stem Word-> b'citrus'\n",
      "================================> gelatin\n",
      "Selected: Stem Word-> b'gelatin'\n",
      "================================> with\n",
      "Eliminated as it is a stopword\n",
      "================================> nuts\n",
      "Selected: Stem Word-> b'nut'\n",
      "================================> -\n",
      "Eliminated as it is a numerical value or character of lenght less than 2\n",
      "================================> in\n",
      "Eliminated as it is a numerical value or character of lenght less than 2\n",
      "================================> this\n",
      "Eliminated as it is a stopword\n",
      "================================> case\n",
      "Selected: Stem Word-> b'case'\n",
      "================================> Filberts\n",
      "Selected: Stem Word-> b'filbert'\n",
      "================================> And\n",
      "Eliminated as it is a stopword\n",
      "================================> it\n",
      "Eliminated as it is a numerical value or character of lenght less than 2\n",
      "================================> is\n",
      "Eliminated as it is a numerical value or character of lenght less than 2\n",
      "================================> cut\n",
      "Selected: Stem Word-> b'cut'\n",
      "================================> into\n",
      "Eliminated as it is a stopword\n",
      "================================> tiny\n",
      "Selected: Stem Word-> b'tini'\n",
      "================================> squares\n",
      "Selected: Stem Word-> b'squar'\n",
      "================================> and\n",
      "Eliminated as it is a stopword\n",
      "================================> then\n",
      "Eliminated as it is a stopword\n",
      "================================> liberally\n",
      "Selected: Stem Word-> b'liber'\n",
      "================================> coated\n",
      "Selected: Stem Word-> b'coat'\n",
      "================================> with\n",
      "Eliminated as it is a stopword\n",
      "================================> powdered\n",
      "Selected: Stem Word-> b'powder'\n",
      "================================> sugar\n",
      "Selected: Stem Word-> b'sugar'\n",
      "================================> And\n",
      "Eliminated as it is a stopword\n",
      "================================> it\n",
      "Eliminated as it is a numerical value or character of lenght less than 2\n",
      "================================> is\n",
      "Eliminated as it is a numerical value or character of lenght less than 2\n",
      "================================> a\n",
      "Eliminated as it is a numerical value or character of lenght less than 2\n",
      "================================> tiny\n",
      "Selected: Stem Word-> b'tini'\n",
      "================================> mouthful\n",
      "Selected: Stem Word-> b'mouth'\n",
      "================================> of\n",
      "Eliminated as it is a numerical value or character of lenght less than 2\n",
      "================================> heaven\n",
      "Selected: Stem Word-> b'heaven'\n",
      "================================> Not\n",
      "Selected: Stem Word-> b'not'\n",
      "================================> too\n",
      "Eliminated as it is a stopword\n",
      "================================> chewy\n",
      "Selected: Stem Word-> b'chewi'\n",
      "================================> and\n",
      "Eliminated as it is a stopword\n",
      "================================> very\n",
      "Eliminated as it is a stopword\n",
      "================================> flavorful\n",
      "Selected: Stem Word-> b'flavor'\n",
      "================================> I\n",
      "Eliminated as it is a numerical value or character of lenght less than 2\n",
      "================================> highly\n",
      "Selected: Stem Word-> b'high'\n",
      "================================> recommend\n",
      "Selected: Stem Word-> b'recommend'\n",
      "================================> this\n",
      "Eliminated as it is a stopword\n",
      "================================> yummy\n",
      "Selected: Stem Word-> b'yummi'\n",
      "================================> treat\n",
      "Selected: Stem Word-> b'treat'\n",
      "================================> If\n",
      "Eliminated as it is a numerical value or character of lenght less than 2\n",
      "================================> you\n",
      "Eliminated as it is a stopword\n",
      "================================> are\n",
      "Eliminated as it is a stopword\n",
      "================================> familiar\n",
      "Selected: Stem Word-> b'familiar'\n",
      "================================> with\n",
      "Eliminated as it is a stopword\n",
      "================================> the\n",
      "Eliminated as it is a stopword\n",
      "================================> story\n",
      "Selected: Stem Word-> b'stori'\n",
      "================================> of\n",
      "Eliminated as it is a numerical value or character of lenght less than 2\n",
      "================================> CS\n",
      "Eliminated as it is a numerical value or character of lenght less than 2\n",
      "================================> Lewis\n",
      "Selected: Stem Word-> b'lewi'\n",
      "================================> The\n",
      "Eliminated as it is a stopword\n",
      "================================> Lion\n",
      "Selected: Stem Word-> b'lion'\n",
      "================================> The\n",
      "Eliminated as it is a stopword\n",
      "================================> Witch\n",
      "Selected: Stem Word-> b'witch'\n",
      "================================> and\n",
      "Eliminated as it is a stopword\n",
      "================================> The\n",
      "Eliminated as it is a stopword\n",
      "================================> Wardrobe\n",
      "Selected: Stem Word-> b'wardrob'\n",
      "================================> -\n",
      "Eliminated as it is a numerical value or character of lenght less than 2\n",
      "================================> this\n",
      "Eliminated as it is a stopword\n",
      "================================> is\n",
      "Eliminated as it is a numerical value or character of lenght less than 2\n",
      "================================> the\n",
      "Eliminated as it is a stopword\n",
      "================================> treat\n",
      "Selected: Stem Word-> b'treat'\n",
      "================================> that\n",
      "Eliminated as it is a stopword\n",
      "================================> seduces\n",
      "Selected: Stem Word-> b'seduc'\n",
      "================================> Edmund\n",
      "Selected: Stem Word-> b'edmund'\n",
      "================================> into\n",
      "Eliminated as it is a stopword\n",
      "================================> selling\n",
      "Selected: Stem Word-> b'sell'\n",
      "================================> out\n",
      "Eliminated as it is a stopword\n",
      "================================> his\n",
      "Eliminated as it is a stopword\n",
      "================================> Brother\n",
      "Selected: Stem Word-> b'brother'\n",
      "================================> and\n",
      "Eliminated as it is a stopword\n",
      "================================> Sisters\n",
      "Selected: Stem Word-> b'sister'\n",
      "================================> to\n",
      "Eliminated as it is a numerical value or character of lenght less than 2\n",
      "================================> the\n",
      "Eliminated as it is a stopword\n",
      "================================> Witch\n",
      "Selected: Stem Word-> b'witch'\n",
      "***********************************************************************\n",
      "Finally selected words from the review:\n",
      " [b'confect around centuri light pillowi citrus gelatin nut case filbert cut tini squar liber coat powder sugar tini mouth heaven not chewi flavor high recommend yummi treat familiar stori lewi lion witch wardrob treat seduc edmund sell brother sister witch']\n"
     ]
    }
   ],
   "source": [
    "str1=' '\n",
    "final_string=[]\n",
    "all_positive_words=[] # store words from +ve reviews here\n",
    "all_negative_words=[] # store words from -ve reviews here.\n",
    "s=''\n",
    "for sent in final['Text'][2:3].values: #Running only for 2nd review\n",
    "    filtered_sentence=[]\n",
    "    print(sent) #Each review\n",
    "    sent=striphtml(sent)# remove HTMl tags\n",
    "    sent=strippunc(sent)# remove Punctuation Symbols\n",
    "    print(sent.split())\n",
    "    for w in sent.split():\n",
    "        print(\"================================>\",w)\n",
    "        if((w.isalpha()) and (len(w)>2)):#If it is a numerical value or character of lenght less than 2    \n",
    "            if(w.lower() not in stop):# If it is a stopword\n",
    "                s=(snow.stem(w.lower())).encode('utf8') #Stemming the word using SnowBall Stemmer\n",
    "                print(\"Selected: Stem Word->\",s)\n",
    "                filtered_sentence.append(s)\n",
    "            else:\n",
    "                print(\"Eliminated as it is a stopword\")\n",
    "                continue\n",
    "        else:\n",
    "            print(\"Eliminated as it is a numerical value or character of lenght less than 2\")\n",
    "            continue \n",
    "#     print(filtered_sentence)\n",
    "    str1 = b\" \".join(filtered_sentence) #final string of cleaned words\n",
    "    \n",
    "    final_string.append(str1)\n",
    "    print(\"***********************************************************************\")\n",
    "    print(\"Finally selected words from the review:\\n\",final_string)"
   ]
  },
  {
   "cell_type": "code",
   "execution_count": 263,
   "metadata": {},
   "outputs": [
    {
     "name": "stdout",
     "output_type": "stream",
     "text": [
      "Wall time: 27.3 s\n"
     ]
    }
   ],
   "source": [
    "%%time\n",
    "# Code takes a while to run as it needs to run on around 500k sentences.\n",
    "i=0\n",
    "str1=' '\n",
    "final_string=[]\n",
    "all_positive_words=[] # store words from +ve reviews here\n",
    "all_negative_words=[] # store words from -ve reviews here.\n",
    "s=''\n",
    "for sent in final['Text'].values:\n",
    "    filtered_sentence=[]\n",
    "#     print(sent) #Each review\n",
    "    sent=striphtml(sent)# remove HTMl tags\n",
    "    sent=strippunc(sent)# remove Punctuation Symbols\n",
    "#     print(sent.split())\n",
    "    for w in sent.split():\n",
    "#         print(\"================================>\",w)\n",
    "        if((w.isalpha()) and (len(w)>2)):#If it is a numerical value or character of lenght less than 2    \n",
    "            if(w.lower() not in stop):# If it is a stopword\n",
    "                s=(snow.stem(w.lower())).encode('utf8') #Stemming the word using SnowBall Stemmer\n",
    "                                        #encoding as byte-string/utf-8\n",
    "#                 print(\"Selected: Stem Word->\",s)\n",
    "                filtered_sentence.append(s)\n",
    "                if (final['Score'].values)[i] == 'Positive': \n",
    "                    all_positive_words.append(s) #list of all words used to describe positive reviews\n",
    "                if(final['Score'].values)[i] == 'Negative':\n",
    "                    all_negative_words.append(s) #list of all words used to describe negative reviews reviews\n",
    "            else:\n",
    "#                 print(\"Eliminated as it is a stopword\")\n",
    "                continue\n",
    "        else:\n",
    "#             print(\"Eliminated as it is a numerical value or character of lenght less than 2\")\n",
    "            continue \n",
    "#     print(filtered_sentence)\n",
    "    str1 = b\" \".join(filtered_sentence) #final string of cleaned words\n",
    "            #encoding as byte-string/utf-8\n",
    "    \n",
    "    final_string.append(str1)\n",
    "#     print(\"***********************************************************************\")\n",
    "#     print(\"Finally selected words from the review:\\n\",final_string)\n",
    "    i+=1"
   ]
  },
  {
   "cell_type": "code",
   "execution_count": 264,
   "metadata": {},
   "outputs": [
    {
     "name": "stdout",
     "output_type": "stream",
     "text": [
      "Wall time: 1.75 s\n"
     ]
    }
   ],
   "source": [
    "%%time\n",
    "# Code takes a while to run as it needs to run on around 500k sentences.\n",
    "i=0\n",
    "str1=' '\n",
    "final_string_nostem=[]\n",
    "s=''\n",
    "for sent in final['Text'].values:\n",
    "    filtered_sentence=[]\n",
    "    sent=striphtml(sent)# remove HTMl tags\n",
    "    sent=strippunc(sent)# remove Punctuation Symbols\n",
    "    for w in sent.split():\n",
    "        if((w.isalpha()) and (len(w)>2)):#If it is a numerical value or character of lenght less than 2    \n",
    "            if(w.lower() not in stop):# If it is a stopword\n",
    "                s=w.lower().encode('utf8') #encoding as byte-string/utf-8\n",
    "            else:\n",
    "                continue\n",
    "        else:\n",
    "            continue \n",
    "    str1 = b\" \".join(filtered_sentence)     \n",
    "    final_string_nostem.append(str1)\n",
    "    i+=1"
   ]
  },
  {
   "cell_type": "code",
   "execution_count": 265,
   "metadata": {},
   "outputs": [
    {
     "data": {
      "text/html": [
       "<div>\n",
       "<style scoped>\n",
       "    .dataframe tbody tr th:only-of-type {\n",
       "        vertical-align: middle;\n",
       "    }\n",
       "\n",
       "    .dataframe tbody tr th {\n",
       "        vertical-align: top;\n",
       "    }\n",
       "\n",
       "    .dataframe thead th {\n",
       "        text-align: right;\n",
       "    }\n",
       "</style>\n",
       "<table border=\"1\" class=\"dataframe\">\n",
       "  <thead>\n",
       "    <tr style=\"text-align: right;\">\n",
       "      <th></th>\n",
       "      <th>Id</th>\n",
       "      <th>ProductId</th>\n",
       "      <th>UserId</th>\n",
       "      <th>ProfileName</th>\n",
       "      <th>HelpfulnessNumerator</th>\n",
       "      <th>HelpfulnessDenominator</th>\n",
       "      <th>Score</th>\n",
       "      <th>Time</th>\n",
       "      <th>Summary</th>\n",
       "      <th>Text</th>\n",
       "      <th>CleanedText</th>\n",
       "      <th>CleanedText_NoStem</th>\n",
       "    </tr>\n",
       "  </thead>\n",
       "  <tbody>\n",
       "    <tr>\n",
       "      <th>0</th>\n",
       "      <td>1</td>\n",
       "      <td>B001E4KFG0</td>\n",
       "      <td>A3SGXH7AUHU8GW</td>\n",
       "      <td>delmartian</td>\n",
       "      <td>1</td>\n",
       "      <td>1</td>\n",
       "      <td>5</td>\n",
       "      <td>1303862400</td>\n",
       "      <td>Good Quality Dog Food</td>\n",
       "      <td>I have bought several of the Vitality canned d...</td>\n",
       "      <td>b'bought sever vital can dog food product foun...</td>\n",
       "      <td>b''</td>\n",
       "    </tr>\n",
       "    <tr>\n",
       "      <th>1</th>\n",
       "      <td>2</td>\n",
       "      <td>B00813GRG4</td>\n",
       "      <td>A1D87F6ZCVE5NK</td>\n",
       "      <td>dll pa</td>\n",
       "      <td>0</td>\n",
       "      <td>0</td>\n",
       "      <td>1</td>\n",
       "      <td>1346976000</td>\n",
       "      <td>Not as Advertised</td>\n",
       "      <td>Product arrived labeled as Jumbo Salted Peanut...</td>\n",
       "      <td>b'product arriv label jumbo salt peanutsth pea...</td>\n",
       "      <td>b''</td>\n",
       "    </tr>\n",
       "    <tr>\n",
       "      <th>2</th>\n",
       "      <td>3</td>\n",
       "      <td>B000LQOCH0</td>\n",
       "      <td>ABXLMWJIXXAIN</td>\n",
       "      <td>Natalia Corres \"Natalia Corres\"</td>\n",
       "      <td>1</td>\n",
       "      <td>1</td>\n",
       "      <td>4</td>\n",
       "      <td>1219017600</td>\n",
       "      <td>\"Delight\" says it all</td>\n",
       "      <td>This is a confection that has been around a fe...</td>\n",
       "      <td>b'confect around centuri light pillowi citrus ...</td>\n",
       "      <td>b''</td>\n",
       "    </tr>\n",
       "  </tbody>\n",
       "</table>\n",
       "</div>"
      ],
      "text/plain": [
       "   Id   ProductId          UserId                      ProfileName  \\\n",
       "0   1  B001E4KFG0  A3SGXH7AUHU8GW                       delmartian   \n",
       "1   2  B00813GRG4  A1D87F6ZCVE5NK                           dll pa   \n",
       "2   3  B000LQOCH0   ABXLMWJIXXAIN  Natalia Corres \"Natalia Corres\"   \n",
       "\n",
       "   HelpfulnessNumerator  HelpfulnessDenominator  Score        Time  \\\n",
       "0                     1                       1      5  1303862400   \n",
       "1                     0                       0      1  1346976000   \n",
       "2                     1                       1      4  1219017600   \n",
       "\n",
       "                 Summary                                               Text  \\\n",
       "0  Good Quality Dog Food  I have bought several of the Vitality canned d...   \n",
       "1      Not as Advertised  Product arrived labeled as Jumbo Salted Peanut...   \n",
       "2  \"Delight\" says it all  This is a confection that has been around a fe...   \n",
       "\n",
       "                                         CleanedText CleanedText_NoStem  \n",
       "0  b'bought sever vital can dog food product foun...                b''  \n",
       "1  b'product arriv label jumbo salt peanutsth pea...                b''  \n",
       "2  b'confect around centuri light pillowi citrus ...                b''  "
      ]
     },
     "execution_count": 265,
     "metadata": {},
     "output_type": "execute_result"
    }
   ],
   "source": [
    "final['CleanedText']=final_string\n",
    "final['CleanedText_NoStem']=final_string_nostem\n",
    "final.head(3)"
   ]
  },
  {
   "cell_type": "code",
   "execution_count": 266,
   "metadata": {},
   "outputs": [],
   "source": [
    "from sklearn.model_selection import train_test_split\n",
    "##Sorting data according to Time in ascending order for Time Based Splitting\n",
    "time_sorted_data = final.sort_values('Time', axis=0, ascending=True, inplace=False, kind='quicksort', na_position='last')\n",
    "\n",
    "x = time_sorted_data['CleanedText'].values\n",
    "y = time_sorted_data['Score']\n",
    "\n",
    "# split the data set into train and test\n",
    "X_train, X_test, Y_train, Y_test = train_test_split(x, y, test_size=0.3, random_state=0)"
   ]
  },
  {
   "cell_type": "code",
   "execution_count": 267,
   "metadata": {},
   "outputs": [
    {
     "name": "stdout",
     "output_type": "stream",
     "text": [
      "the type of count vectorizer : <class 'scipy.sparse.csr.csr_matrix'>\n",
      "the shape of out text BOW vectorizer :  (5600, 1996)\n",
      "the number of unique words : 1996\n"
     ]
    }
   ],
   "source": [
    "#[7.2.2] Bag of Words (BoW)\n",
    "count_vect = CountVectorizer(min_df = 10) \n",
    "X_train_vec = count_vect.fit_transform(X_train)\n",
    "X_test_vec = count_vect.transform(X_test)\n",
    "print(\"the type of count vectorizer :\",type(X_train_vec))\n",
    "print(\"the shape of out text BOW vectorizer : \",X_train_vec.get_shape())\n",
    "print(\"the number of unique words :\", X_train_vec.get_shape()[1])"
   ]
  },
  {
   "cell_type": "code",
   "execution_count": 268,
   "metadata": {},
   "outputs": [],
   "source": [
    "import warnings\n",
    "warnings.filterwarnings('ignore')\n",
    "# Data-preprocessing: Standardizing the data\n",
    "\n",
    "from sklearn.preprocessing import StandardScaler\n",
    "sc = StandardScaler(with_mean=False)\n",
    "X_train_vec_standardized = sc.fit_transform(X_train_vec)\n",
    "X_test_vec_standardized = sc.transform(X_test_vec)"
   ]
  },
  {
   "cell_type": "code",
   "execution_count": 269,
   "metadata": {},
   "outputs": [
    {
     "name": "stdout",
     "output_type": "stream",
     "text": [
      "Model with best parameters :\n",
      " SGDClassifier(alpha=1, average=False, class_weight=None, early_stopping=False,\n",
      "              epsilon=0.1, eta0=0.0, fit_intercept=True, l1_ratio=0.15,\n",
      "              learning_rate='optimal', loss='hinge', max_iter=1000,\n",
      "              n_iter_no_change=5, n_jobs=None, penalty='l2', power_t=0.5,\n",
      "              random_state=None, shuffle=True, tol=0.001,\n",
      "              validation_fraction=0.1, verbose=0, warm_start=False)\n",
      "Accuracy of the model :  0.6691666666666667\n",
      "The optimal value of alpha(1/C) is :  1\n"
     ]
    }
   ],
   "source": [
    "#GridSearchCV Implementation\n",
    "# Importing libraries\n",
    "from sklearn.linear_model import SGDClassifier\n",
    "from sklearn.model_selection import GridSearchCV\n",
    "from sklearn.model_selection import RandomizedSearchCV\n",
    "from sklearn.metrics import accuracy_score,confusion_matrix,f1_score,precision_score,recall_score\n",
    "from sklearn.model_selection import cross_val_score\n",
    "\n",
    "Alpha = [0.0001,0.001, 0.01, 0.1, 1, 10]\n",
    "\n",
    "param_grid = {'alpha': Alpha}\n",
    "model = GridSearchCV(SGDClassifier(), param_grid, scoring = 'f1_micro', cv=3 , n_jobs = -1,pre_dispatch=2)\n",
    "model.fit(X_train_vec_standardized, Y_train)\n",
    "print(\"Model with best parameters :\\n\",model.best_estimator_)\n",
    "print(\"Accuracy of the model : \",model.score(X_test_vec_standardized, Y_test))\n",
    "\n",
    "optimal_alpha = model.best_estimator_.alpha\n",
    "print(\"The optimal value of alpha(1/C) is : \",optimal_alpha)"
   ]
  },
  {
   "cell_type": "code",
   "execution_count": 270,
   "metadata": {},
   "outputs": [
    {
     "data": {
      "image/png": "[encoded data removed]",
      "text/plain": [
       "<Figure size 432x288 with 1 Axes>"
      ]
     },
     "metadata": {
      "needs_background": "light"
     },
     "output_type": "display_data"
    }
   ],
   "source": [
    "import matplotlib.pyplot as plt\n",
    "import numpy as np\n",
    "\n",
    "from sklearn.model_selection import validation_curve\n",
    "\n",
    "\n",
    "param_range = np.logspace(-5, 1, 5)\n",
    "train_scores, test_scores = validation_curve(\n",
    "    SGDClassifier(),X_train_vec_standardized, Y_train, param_name=\"alpha\", param_range=param_range,\n",
    "    cv=3, scoring=\"f1_micro\", n_jobs=1)\n",
    "train_scores_mean = np.mean(train_scores, axis=1)\n",
    "train_scores_std = np.std(train_scores, axis=1)\n",
    "test_scores_mean = np.mean(test_scores, axis=1)\n",
    "test_scores_std = np.std(test_scores, axis=1)\n",
    "\n",
    "plt.title(\"Validation Curve with Sgdclassifier\")\n",
    "plt.xlabel(\"$alpha$\")\n",
    "plt.ylabel(\"Score\")\n",
    "plt.ylim(0.0, 1.1)\n",
    "lw = 2\n",
    "plt.semilogx(param_range, train_scores_mean, label=\"Training score\",\n",
    "             color=\"darkorange\", lw=lw)\n",
    "plt.fill_between(param_range, train_scores_mean - train_scores_std,\n",
    "                 train_scores_mean + train_scores_std, alpha=0.2,\n",
    "                 color=\"darkorange\", lw=lw)\n",
    "plt.semilogx(param_range, test_scores_mean, label=\"Cross-validation score\",\n",
    "             color=\"navy\", lw=lw)\n",
    "plt.fill_between(param_range, test_scores_mean - test_scores_std,\n",
    "                 test_scores_mean + test_scores_std, alpha=0.2,\n",
    "                 color=\"navy\", lw=lw)\n",
    "plt.legend(loc=\"best\")\n",
    "plt.show()"
   ]
  },
  {
   "cell_type": "code",
   "execution_count": null,
   "metadata": {},
   "outputs": [],
   "source": [
    "\n"
   ]
  },
  {
   "cell_type": "code",
   "execution_count": 272,
   "metadata": {},
   "outputs": [],
   "source": []
  },
  {
   "cell_type": "code",
   "execution_count": 273,
   "metadata": {},
   "outputs": [
    {
     "name": "stdout",
     "output_type": "stream",
     "text": [
      "Accuracy of the model at optimal hyperparameter alpha = 1.000000% is:  66.875000%\n",
      "f1 score value for   the model is: 0.5821638797212622\n",
      "precision score  for   the model is: 0.6034604493045796\n",
      "Accuracy of the model at optimal hyperparameter alpha = 1.000000% is:  72.232143%\n",
      "f1 score value for   the model is: 0.6582789750424943\n",
      "precision score  for   the model is: 0.7455269588213692\n"
     ]
    }
   ],
   "source": [
    "#confusion matrix,precision matrix,recall matrix,accuracy\n",
    "from sklearn.metrics import accuracy_score, precision_recall_fscore_support, f1_score\n",
    "sgd = SGDClassifier(alpha=optimal_alpha, n_jobs=-1)\n",
    "sgd.fit(X_train_vec_standardized,Y_train)\n",
    "Y_pred = sgd.predict(X_test_vec_standardized)\n",
    "Y_test_accuracy = accuracy_score(Y_test, Y_pred, normalize=True, sample_weight=None)*100\n",
    "print('Accuracy of the model at optimal hyperparameter alpha = %f%% is:  %f%%' % (optimal_alpha,Y_test_accuracy))\n",
    "#print('Confusion matrix for the model is:')\n",
    "#plot_confusion_matrix(Y_test, Y_pred)\n",
    "f1score= f1_score(Y_test, Y_pred, average='weighted')\n",
    "print('f1 score value for   the model is: %s'% f1score)\n",
    "precisionscore=precision_score(Y_test, Y_pred,average='weighted')\n",
    "print('precision score  for   the model is: %s'% precisionscore)\n",
    "y_train_pred = sgd.predict(X_train_vec_standardized)\n",
    "Y_train_accuracy =accuracy_score(Y_train, y_train_pred, normalize=True, sample_weight=None)*100\n",
    "#plot_confusion_matrix(Y_train, y_train_pred)\n",
    "print('Accuracy of the model at optimal hyperparameter alpha = %f%% is:  %f%%' % (optimal_alpha,Y_train_accuracy))\n",
    "f1score= f1_score(Y_train, y_train_pred, average='weighted')\n",
    "print('f1 score value for   the model is: %s'% f1score)\n",
    "precisionscore=precision_score(Y_train, y_train_pred,pos_label='positive',average='weighted')\n",
    "print('precision score  for   the model is: %s'% precisionscore)\n"
   ]
  },
  {
   "cell_type": "code",
   "execution_count": 274,
   "metadata": {},
   "outputs": [
    {
     "name": "stdout",
     "output_type": "stream",
     "text": [
      "Model with best parameters :\n",
      " SGDClassifier(alpha=0.8893780319169973, average=False, class_weight=None,\n",
      "              early_stopping=False, epsilon=0.1, eta0=0.0, fit_intercept=True,\n",
      "              l1_ratio=0.15, learning_rate='optimal', loss='hinge',\n",
      "              max_iter=1000, n_iter_no_change=5, n_jobs=None, penalty='l2',\n",
      "              power_t=0.5, random_state=None, shuffle=True, tol=0.001,\n",
      "              validation_fraction=0.1, verbose=0, warm_start=False)\n",
      "Accuracy of the model :  0.67375\n",
      "The optimal value of alpha(1/C) is :  0.8893780319169973\n"
     ]
    }
   ],
   "source": [
    "#Using Randomized Search CV to find best parameters\n",
    "# Load libraries\n",
    "from scipy.stats import uniform\n",
    "\n",
    "# Create regularization hyperparameter distribution using uniform distribution\n",
    "Alpha = uniform(loc=0, scale=1)\n",
    "\n",
    "# Create hyperparameter options\n",
    "hyperparameters = dict(alpha=Alpha)\n",
    "\n",
    "#Using RandomizedSearchCV\n",
    "model = RandomizedSearchCV(SGDClassifier(), hyperparameters, scoring = 'f1_micro', cv=3 , n_jobs = -1,pre_dispatch=2)\n",
    "model.fit(X_train_vec_standardized, Y_train)\n",
    "print(\"Model with best parameters :\\n\",model.best_estimator_)\n",
    "print(\"Accuracy of the model : \",model.score(X_test_vec_standardized, Y_test))\n",
    "\n",
    "optimal_alpha = model.best_estimator_.alpha\n",
    "print(\"The optimal value of alpha(1/C) is : \",optimal_alpha)"
   ]
  },
  {
   "cell_type": "code",
   "execution_count": 275,
   "metadata": {},
   "outputs": [
    {
     "data": {
      "image/png": "[encoded data removed]",
      "text/plain": [
       "<Figure size 432x288 with 1 Axes>"
      ]
     },
     "metadata": {
      "needs_background": "light"
     },
     "output_type": "display_data"
    }
   ],
   "source": [
    "import matplotlib.pyplot as plt\n",
    "import numpy as np\n",
    "\n",
    "from sklearn.model_selection import validation_curve\n",
    "\n",
    "\n",
    "param_range = np.logspace(-5, 1, 5)\n",
    "train_scores, test_scores = validation_curve(\n",
    "    SGDClassifier(),X_train_vec_standardized, Y_train, param_name=\"alpha\", param_range=param_range,\n",
    "    cv=3, scoring=\"f1_micro\", n_jobs=1)\n",
    "train_scores_mean = np.mean(train_scores, axis=1)\n",
    "train_scores_std = np.std(train_scores, axis=1)\n",
    "test_scores_mean = np.mean(test_scores, axis=1)\n",
    "test_scores_std = np.std(test_scores, axis=1)\n",
    "\n",
    "plt.title(\"Validation Curve with Sgdclassifier\")\n",
    "plt.xlabel(\"$alpha$\")\n",
    "plt.ylabel(\"Score\")\n",
    "plt.ylim(0.0, 1.1)\n",
    "lw = 2\n",
    "plt.semilogx(param_range, train_scores_mean, label=\"Training score\",\n",
    "             color=\"darkorange\", lw=lw)\n",
    "plt.fill_between(param_range, train_scores_mean - train_scores_std,\n",
    "                 train_scores_mean + train_scores_std, alpha=0.2,\n",
    "                 color=\"darkorange\", lw=lw)\n",
    "plt.semilogx(param_range, test_scores_mean, label=\"Cross-validation score\",\n",
    "             color=\"navy\", lw=lw)\n",
    "plt.fill_between(param_range, test_scores_mean - test_scores_std,\n",
    "                 test_scores_mean + test_scores_std, alpha=0.2,\n",
    "                 color=\"navy\", lw=lw)\n",
    "plt.legend(loc=\"best\")\n",
    "plt.show()"
   ]
  },
  {
   "cell_type": "code",
   "execution_count": 276,
   "metadata": {},
   "outputs": [
    {
     "name": "stdout",
     "output_type": "stream",
     "text": [
      "Accuracy of the model at optimal hyperparameter alpha = 0.889378% is:  67.208333%\n",
      "f1 score value for   the model is: 0.5891677298064721\n",
      "precision score  for   the model is: 0.6088385335265999\n",
      "Accuracy of the model at optimal hyperparameter alpha = 0.889378% is:  73.071429%\n",
      "f1 score value for   the model is: 0.6723230420749017\n",
      "precision score  for   the model is: 0.7497879292917029\n"
     ]
    }
   ],
   "source": [
    "#confusion matrix,precision matrix,recall matrix,accuracy\n",
    "from sklearn.metrics import accuracy_score, precision_recall_fscore_support, f1_score\n",
    "sgd = SGDClassifier(alpha=optimal_alpha, n_jobs=-1)\n",
    "sgd.fit(X_train_vec_standardized,Y_train)\n",
    "Y_pred = sgd.predict(X_test_vec_standardized)\n",
    "Y_test_accuracy = accuracy_score(Y_test, Y_pred, normalize=True, sample_weight=None)*100\n",
    "print('Accuracy of the model at optimal hyperparameter alpha = %f%% is:  %f%%' % (optimal_alpha,Y_test_accuracy))\n",
    "#print('Confusion matrix for the model is:')\n",
    "#plot_confusion_matrix(Y_test, Y_pred)\n",
    "f1score= f1_score(Y_test, Y_pred, average='weighted')\n",
    "print('f1 score value for   the model is: %s'% f1score)\n",
    "precisionscore=precision_score(Y_test, Y_pred,average='weighted')\n",
    "print('precision score  for   the model is: %s'% precisionscore)\n",
    "y_train_pred = sgd.predict(X_train_vec_standardized)\n",
    "Y_train_accuracy =accuracy_score(Y_train, y_train_pred, normalize=True, sample_weight=None)*100\n",
    "#plot_confusion_matrix(Y_train, y_train_pred)\n",
    "print('Accuracy of the model at optimal hyperparameter alpha = %f%% is:  %f%%' % (optimal_alpha,Y_train_accuracy))\n",
    "f1score= f1_score(Y_train, y_train_pred, average='weighted')\n",
    "print('f1 score value for   the model is: %s'% f1score)\n",
    "precisionscore=precision_score(Y_train, y_train_pred,average='weighted')\n",
    "print('precision score  for   the model is: %s'% precisionscore)"
   ]
  },
  {
   "cell_type": "code",
   "execution_count": 277,
   "metadata": {},
   "outputs": [
    {
     "name": "stdout",
     "output_type": "stream",
     "text": [
      "the type of count vectorizer : <class 'scipy.sparse.csr.csr_matrix'>\n",
      "the shape of out text TFIDF vectorizer :  (5600, 1996)\n",
      "the number of unique words : 1996\n"
     ]
    }
   ],
   "source": [
    "#[7.2.5] TF-IDF\n",
    "tf_idf_vect = TfidfVectorizer(min_df=10)\n",
    "X_train_vec = tf_idf_vect.fit_transform(X_train)\n",
    "X_test_vec = tf_idf_vect.transform(X_test)\n",
    "print(\"the type of count vectorizer :\",type(X_train_vec))\n",
    "print(\"the shape of out text TFIDF vectorizer : \",X_train_vec.get_shape())\n",
    "print(\"the number of unique words :\", X_train_vec.get_shape()[1])\n",
    "\n",
    "# Data-preprocessing: Standardizing the data\n",
    "sc = StandardScaler(with_mean=False)\n",
    "X_train_vec_standardized = sc.fit_transform(X_train_vec)\n",
    "X_test_vec_standardized = sc.transform(X_test_vec)\n"
   ]
  },
  {
   "cell_type": "code",
   "execution_count": 278,
   "metadata": {},
   "outputs": [
    {
     "name": "stdout",
     "output_type": "stream",
     "text": [
      "Model with best parameters :\n",
      " SGDClassifier(alpha=1, average=False, class_weight=None, early_stopping=False,\n",
      "              epsilon=0.1, eta0=0.0, fit_intercept=True, l1_ratio=0.15,\n",
      "              learning_rate='optimal', loss='hinge', max_iter=1000,\n",
      "              n_iter_no_change=5, n_jobs=None, penalty='l2', power_t=0.5,\n",
      "              random_state=None, shuffle=True, tol=0.001,\n",
      "              validation_fraction=0.1, verbose=0, warm_start=False)\n",
      "Accuracy of the model :  0.6625\n",
      "The optimal value of alpha(1/C) is :  1\n"
     ]
    }
   ],
   "source": [
    "Alpha = [0.0001,0.001, 0.01, 0.1, 1, 10]\n",
    "\n",
    "param_grid = {'alpha': Alpha}\n",
    "model = GridSearchCV(SGDClassifier(), param_grid, scoring = 'f1_micro', cv=3 , n_jobs = -1,pre_dispatch=2)\n",
    "model.fit(X_train_vec_standardized, Y_train)\n",
    "print(\"Model with best parameters :\\n\",model.best_estimator_)\n",
    "print(\"Accuracy of the model : \",model.score(X_test_vec_standardized, Y_test))\n",
    "\n",
    "optimal_alpha = model.best_estimator_.alpha\n",
    "print(\"The optimal value of alpha(1/C) is : \",optimal_alpha)"
   ]
  },
  {
   "cell_type": "code",
   "execution_count": 279,
   "metadata": {},
   "outputs": [
    {
     "data": {
      "image/png": "[encoded data removed]",
      "text/plain": [
       "<Figure size 432x288 with 1 Axes>"
      ]
     },
     "metadata": {
      "needs_background": "light"
     },
     "output_type": "display_data"
    }
   ],
   "source": [
    "import matplotlib.pyplot as plt\n",
    "import numpy as np\n",
    "\n",
    "from sklearn.model_selection import validation_curve\n",
    "\n",
    "\n",
    "param_range = np.logspace(-6, 1, 5)\n",
    "train_scores, test_scores = validation_curve(\n",
    "    SGDClassifier(),X_train_vec_standardized, Y_train, param_name=\"alpha\", param_range=param_range,\n",
    "    cv=3, scoring=\"f1_micro\", n_jobs=1)\n",
    "train_scores_mean = np.mean(train_scores, axis=1)\n",
    "train_scores_std = np.std(train_scores, axis=1)\n",
    "test_scores_mean = np.mean(test_scores, axis=1)\n",
    "test_scores_std = np.std(test_scores, axis=1)\n",
    "\n",
    "plt.title(\"Validation Curve with Sgdclassifier\")\n",
    "plt.xlabel(\"$alpha$\")\n",
    "plt.ylabel(\"Score\")\n",
    "plt.ylim(0.0, 1.1)\n",
    "lw = 2\n",
    "plt.semilogx(param_range, train_scores_mean, label=\"Training score\",\n",
    "             color=\"darkorange\", lw=lw)\n",
    "plt.fill_between(param_range, train_scores_mean - train_scores_std,\n",
    "                 train_scores_mean + train_scores_std, alpha=0.2,\n",
    "                 color=\"darkorange\", lw=lw)\n",
    "plt.semilogx(param_range, test_scores_mean, label=\"Cross-validation score\",\n",
    "             color=\"navy\", lw=lw)\n",
    "plt.fill_between(param_range, test_scores_mean - test_scores_std,\n",
    "                 test_scores_mean + test_scores_std, alpha=0.2,\n",
    "                 color=\"navy\", lw=lw)\n",
    "plt.legend(loc=\"best\")\n",
    "plt.show()"
   ]
  },
  {
   "cell_type": "code",
   "execution_count": 370,
   "metadata": {},
   "outputs": [
    {
     "ename": "TypeError",
     "evalue": "'<' not supported between instances of 'list' and 'float'",
     "output_type": "error",
     "traceback": [
      "\u001b[1;31m---------------------------------------------------------------------------\u001b[0m",
      "\u001b[1;31mTypeError\u001b[0m                                 Traceback (most recent call last)",
      "\u001b[1;32m<ipython-input-370-8c5e8047600b>\u001b[0m in \u001b[0;36m<module>\u001b[1;34m\u001b[0m\n\u001b[0;32m      1\u001b[0m \u001b[1;31m#confusion matrix,precision matrix,recall matrix,accuracy\u001b[0m\u001b[1;33m\u001b[0m\u001b[1;33m\u001b[0m\u001b[1;33m\u001b[0m\u001b[0m\n\u001b[0;32m      2\u001b[0m \u001b[1;32mfrom\u001b[0m \u001b[0msklearn\u001b[0m\u001b[1;33m.\u001b[0m\u001b[0mmetrics\u001b[0m \u001b[1;32mimport\u001b[0m \u001b[0maccuracy_score\u001b[0m\u001b[1;33m,\u001b[0m \u001b[0mprecision_recall_fscore_support\u001b[0m\u001b[1;33m,\u001b[0m \u001b[0mf1_score\u001b[0m\u001b[1;33m\u001b[0m\u001b[1;33m\u001b[0m\u001b[0m\n\u001b[1;32m----> 3\u001b[1;33m \u001b[0msgd\u001b[0m \u001b[1;33m=\u001b[0m \u001b[0mSGDClassifier\u001b[0m\u001b[1;33m(\u001b[0m\u001b[0malpha\u001b[0m\u001b[1;33m=\u001b[0m\u001b[0moptimal_alpha\u001b[0m\u001b[1;33m,\u001b[0m \u001b[0mn_jobs\u001b[0m\u001b[1;33m=\u001b[0m\u001b[1;33m-\u001b[0m\u001b[1;36m1\u001b[0m\u001b[1;33m)\u001b[0m\u001b[1;33m\u001b[0m\u001b[1;33m\u001b[0m\u001b[0m\n\u001b[0m\u001b[0;32m      4\u001b[0m \u001b[0msgd\u001b[0m\u001b[1;33m.\u001b[0m\u001b[0mfit\u001b[0m\u001b[1;33m(\u001b[0m\u001b[0mX_train_vec_standardized\u001b[0m\u001b[1;33m,\u001b[0m\u001b[0mY_train\u001b[0m\u001b[1;33m)\u001b[0m\u001b[1;33m\u001b[0m\u001b[1;33m\u001b[0m\u001b[0m\n\u001b[0;32m      5\u001b[0m \u001b[0mY_pred\u001b[0m \u001b[1;33m=\u001b[0m \u001b[0msgd\u001b[0m\u001b[1;33m.\u001b[0m\u001b[0mpredict\u001b[0m\u001b[1;33m(\u001b[0m\u001b[0mX_test_vec_standardized\u001b[0m\u001b[1;33m)\u001b[0m\u001b[1;33m\u001b[0m\u001b[1;33m\u001b[0m\u001b[0m\n",
      "\u001b[1;32m~\\anaconda3\\lib\\site-packages\\sklearn\\linear_model\\_stochastic_gradient.py\u001b[0m in \u001b[0;36m__init__\u001b[1;34m(self, loss, penalty, alpha, l1_ratio, fit_intercept, max_iter, tol, shuffle, verbose, epsilon, n_jobs, random_state, learning_rate, eta0, power_t, early_stopping, validation_fraction, n_iter_no_change, class_weight, warm_start, average)\u001b[0m\n\u001b[0;32m    949\u001b[0m             \u001b[0mvalidation_fraction\u001b[0m\u001b[1;33m=\u001b[0m\u001b[0mvalidation_fraction\u001b[0m\u001b[1;33m,\u001b[0m\u001b[1;33m\u001b[0m\u001b[1;33m\u001b[0m\u001b[0m\n\u001b[0;32m    950\u001b[0m             \u001b[0mn_iter_no_change\u001b[0m\u001b[1;33m=\u001b[0m\u001b[0mn_iter_no_change\u001b[0m\u001b[1;33m,\u001b[0m \u001b[0mclass_weight\u001b[0m\u001b[1;33m=\u001b[0m\u001b[0mclass_weight\u001b[0m\u001b[1;33m,\u001b[0m\u001b[1;33m\u001b[0m\u001b[1;33m\u001b[0m\u001b[0m\n\u001b[1;32m--> 951\u001b[1;33m             warm_start=warm_start, average=average)\n\u001b[0m\u001b[0;32m    952\u001b[0m \u001b[1;33m\u001b[0m\u001b[0m\n\u001b[0;32m    953\u001b[0m     \u001b[1;32mdef\u001b[0m \u001b[0m_check_proba\u001b[0m\u001b[1;33m(\u001b[0m\u001b[0mself\u001b[0m\u001b[1;33m)\u001b[0m\u001b[1;33m:\u001b[0m\u001b[1;33m\u001b[0m\u001b[1;33m\u001b[0m\u001b[0m\n",
      "\u001b[1;32m~\\anaconda3\\lib\\site-packages\\sklearn\\linear_model\\_stochastic_gradient.py\u001b[0m in \u001b[0;36m__init__\u001b[1;34m(self, loss, penalty, alpha, l1_ratio, fit_intercept, max_iter, tol, shuffle, verbose, epsilon, n_jobs, random_state, learning_rate, eta0, power_t, early_stopping, validation_fraction, n_iter_no_change, class_weight, warm_start, average)\u001b[0m\n\u001b[0;32m    465\u001b[0m             \u001b[0mvalidation_fraction\u001b[0m\u001b[1;33m=\u001b[0m\u001b[0mvalidation_fraction\u001b[0m\u001b[1;33m,\u001b[0m\u001b[1;33m\u001b[0m\u001b[1;33m\u001b[0m\u001b[0m\n\u001b[0;32m    466\u001b[0m             \u001b[0mn_iter_no_change\u001b[0m\u001b[1;33m=\u001b[0m\u001b[0mn_iter_no_change\u001b[0m\u001b[1;33m,\u001b[0m \u001b[0mwarm_start\u001b[0m\u001b[1;33m=\u001b[0m\u001b[0mwarm_start\u001b[0m\u001b[1;33m,\u001b[0m\u001b[1;33m\u001b[0m\u001b[1;33m\u001b[0m\u001b[0m\n\u001b[1;32m--> 467\u001b[1;33m             average=average)\n\u001b[0m\u001b[0;32m    468\u001b[0m         \u001b[0mself\u001b[0m\u001b[1;33m.\u001b[0m\u001b[0mclass_weight\u001b[0m \u001b[1;33m=\u001b[0m \u001b[0mclass_weight\u001b[0m\u001b[1;33m\u001b[0m\u001b[1;33m\u001b[0m\u001b[0m\n\u001b[0;32m    469\u001b[0m         \u001b[0mself\u001b[0m\u001b[1;33m.\u001b[0m\u001b[0mn_jobs\u001b[0m \u001b[1;33m=\u001b[0m \u001b[0mn_jobs\u001b[0m\u001b[1;33m\u001b[0m\u001b[1;33m\u001b[0m\u001b[0m\n",
      "\u001b[1;32m~\\anaconda3\\lib\\site-packages\\sklearn\\linear_model\\_stochastic_gradient.py\u001b[0m in \u001b[0;36m__init__\u001b[1;34m(self, loss, penalty, alpha, C, l1_ratio, fit_intercept, max_iter, tol, shuffle, verbose, epsilon, random_state, learning_rate, eta0, power_t, early_stopping, validation_fraction, n_iter_no_change, warm_start, average)\u001b[0m\n\u001b[0;32m     97\u001b[0m         \u001b[1;31m# current tests expect init to do parameter validation\u001b[0m\u001b[1;33m\u001b[0m\u001b[1;33m\u001b[0m\u001b[1;33m\u001b[0m\u001b[0m\n\u001b[0;32m     98\u001b[0m         \u001b[1;31m# but we are not allowed to set attributes\u001b[0m\u001b[1;33m\u001b[0m\u001b[1;33m\u001b[0m\u001b[1;33m\u001b[0m\u001b[0m\n\u001b[1;32m---> 99\u001b[1;33m         \u001b[0mself\u001b[0m\u001b[1;33m.\u001b[0m\u001b[0m_validate_params\u001b[0m\u001b[1;33m(\u001b[0m\u001b[1;33m)\u001b[0m\u001b[1;33m\u001b[0m\u001b[1;33m\u001b[0m\u001b[0m\n\u001b[0m\u001b[0;32m    100\u001b[0m \u001b[1;33m\u001b[0m\u001b[0m\n\u001b[0;32m    101\u001b[0m     \u001b[1;32mdef\u001b[0m \u001b[0mset_params\u001b[0m\u001b[1;33m(\u001b[0m\u001b[0mself\u001b[0m\u001b[1;33m,\u001b[0m \u001b[1;33m**\u001b[0m\u001b[0mkwargs\u001b[0m\u001b[1;33m)\u001b[0m\u001b[1;33m:\u001b[0m\u001b[1;33m\u001b[0m\u001b[1;33m\u001b[0m\u001b[0m\n",
      "\u001b[1;32m~\\anaconda3\\lib\\site-packages\\sklearn\\linear_model\\_stochastic_gradient.py\u001b[0m in \u001b[0;36m_validate_params\u001b[1;34m(self, for_partial_fit)\u001b[0m\n\u001b[0;32m    132\u001b[0m         \u001b[1;32mif\u001b[0m \u001b[1;32mnot\u001b[0m \u001b[1;33m(\u001b[0m\u001b[1;36m0.0\u001b[0m \u001b[1;33m<=\u001b[0m \u001b[0mself\u001b[0m\u001b[1;33m.\u001b[0m\u001b[0ml1_ratio\u001b[0m \u001b[1;33m<=\u001b[0m \u001b[1;36m1.0\u001b[0m\u001b[1;33m)\u001b[0m\u001b[1;33m:\u001b[0m\u001b[1;33m\u001b[0m\u001b[1;33m\u001b[0m\u001b[0m\n\u001b[0;32m    133\u001b[0m             \u001b[1;32mraise\u001b[0m \u001b[0mValueError\u001b[0m\u001b[1;33m(\u001b[0m\u001b[1;34m\"l1_ratio must be in [0, 1]\"\u001b[0m\u001b[1;33m)\u001b[0m\u001b[1;33m\u001b[0m\u001b[1;33m\u001b[0m\u001b[0m\n\u001b[1;32m--> 134\u001b[1;33m         \u001b[1;32mif\u001b[0m \u001b[0mself\u001b[0m\u001b[1;33m.\u001b[0m\u001b[0malpha\u001b[0m \u001b[1;33m<\u001b[0m \u001b[1;36m0.0\u001b[0m\u001b[1;33m:\u001b[0m\u001b[1;33m\u001b[0m\u001b[1;33m\u001b[0m\u001b[0m\n\u001b[0m\u001b[0;32m    135\u001b[0m             \u001b[1;32mraise\u001b[0m \u001b[0mValueError\u001b[0m\u001b[1;33m(\u001b[0m\u001b[1;34m\"alpha must be >= 0\"\u001b[0m\u001b[1;33m)\u001b[0m\u001b[1;33m\u001b[0m\u001b[1;33m\u001b[0m\u001b[0m\n\u001b[0;32m    136\u001b[0m         \u001b[1;32mif\u001b[0m \u001b[0mself\u001b[0m\u001b[1;33m.\u001b[0m\u001b[0mn_iter_no_change\u001b[0m \u001b[1;33m<\u001b[0m \u001b[1;36m1\u001b[0m\u001b[1;33m:\u001b[0m\u001b[1;33m\u001b[0m\u001b[1;33m\u001b[0m\u001b[0m\n",
      "\u001b[1;31mTypeError\u001b[0m: '<' not supported between instances of 'list' and 'float'"
     ]
    }
   ],
   "source": [
    "#confusion matrix,precision matrix,recall matrix,accuracy\n",
    "from sklearn.metrics import accuracy_score, precision_recall_fscore_support, f1_score\n",
    "sgd = SGDClassifier(alpha=optimal_alpha, n_jobs=-1)\n",
    "sgd.fit(X_train_vec_standardized,Y_train)\n",
    "Y_pred = sgd.predict(X_test_vec_standardized)\n",
    "Y_test_accuracy = accuracy_score(Y_test, Y_pred, normalize=True, sample_weight=None)*100\n",
    "print('Accuracy of the model at optimal hyperparameter alpha = %f%% is:  %f%%' % (optimal_alpha,Y_test_accuracy))\n",
    "#print('Confusion matrix for the model is:')\n",
    "#plot_confusion_matrix(Y_test, Y_pred)\n",
    "f1score= f1_score(Y_test, Y_pred, average='weighted')\n",
    "print('f1 score value for   the model is: %s'% f1score)\n",
    "precisionscore=precision_score(Y_test, Y_pred,average='weighted')\n",
    "print('precision score  for   the model is: %s'% precisionscore)\n",
    "y_train_pred = sgd.predict(X_train_vec_standardized)\n",
    "Y_train_accuracy =accuracy_score(Y_train, y_train_pred, normalize=True, sample_weight=None)*100\n",
    "#plot_confusion_matrix(Y_train, y_train_pred)\n",
    "print('Accuracy of the model at optimal hyperparameter alpha = %f%% is:  %f%%' % (optimal_alpha,Y_train_accuracy))\n",
    "f1score= f1_score(Y_train, y_train_pred, average='weighted')\n",
    "print('f1 score value for   the model is: %s'% f1score)\n",
    "precisionscore=precision_score(Y_train, y_train_pred,average='weighted')\n",
    "print('precision score  for   the model is: %s'% precisionscore)"
   ]
  },
  {
   "cell_type": "code",
   "execution_count": 281,
   "metadata": {},
   "outputs": [
    {
     "name": "stdout",
     "output_type": "stream",
     "text": [
      "Model with best parameters :\n",
      " SGDClassifier(alpha=0.6923688897025195, average=False, class_weight=None,\n",
      "              early_stopping=False, epsilon=0.1, eta0=0.0, fit_intercept=True,\n",
      "              l1_ratio=0.15, learning_rate='optimal', loss='hinge',\n",
      "              max_iter=1000, n_iter_no_change=5, n_jobs=None, penalty='l2',\n",
      "              power_t=0.5, random_state=None, shuffle=True, tol=0.001,\n",
      "              validation_fraction=0.1, verbose=0, warm_start=False)\n",
      "Accuracy of the model :  0.6670833333333334\n",
      "The optimal value of alpha(1/C) is :  0.6923688897025195\n"
     ]
    }
   ],
   "source": [
    "#RandomizedSearchCV Implementation\n",
    "Alpha = uniform(loc=0, scale=1)\n",
    "\n",
    "# Create hyperparameter options\n",
    "hyperparameters = dict(alpha=Alpha)\n",
    "\n",
    "#Using RandomizedSearchCV\n",
    "model = RandomizedSearchCV(SGDClassifier(), hyperparameters, scoring = 'f1_micro', cv=3 , n_jobs = -1,pre_dispatch=2)\n",
    "model.fit(X_train_vec_standardized, Y_train)\n",
    "print(\"Model with best parameters :\\n\",model.best_estimator_)\n",
    "print(\"Accuracy of the model : \",model.score(X_test_vec_standardized, Y_test))\n",
    "\n",
    "optimal_alpha = model.best_estimator_.alpha\n",
    "print(\"The optimal value of alpha(1/C) is : \",optimal_alpha)"
   ]
  },
  {
   "cell_type": "code",
   "execution_count": 282,
   "metadata": {},
   "outputs": [
    {
     "data": {
      "image/png": "[encoded data removed]",
      "text/plain": [
       "<Figure size 432x288 with 1 Axes>"
      ]
     },
     "metadata": {
      "needs_background": "light"
     },
     "output_type": "display_data"
    }
   ],
   "source": [
    "import matplotlib.pyplot as plt\n",
    "import numpy as np\n",
    "\n",
    "from sklearn.model_selection import validation_curve\n",
    "\n",
    "\n",
    "param_range = np.logspace(-6, 1, 5)\n",
    "train_scores, test_scores = validation_curve(\n",
    "    SGDClassifier(),X_train_vec_standardized, Y_train, param_name=\"alpha\", param_range=param_range,\n",
    "    cv=3, scoring=\"f1_micro\", n_jobs=1)\n",
    "train_scores_mean = np.mean(train_scores, axis=1)\n",
    "train_scores_std = np.std(train_scores, axis=1)\n",
    "test_scores_mean = np.mean(test_scores, axis=1)\n",
    "test_scores_std = np.std(test_scores, axis=1)\n",
    "\n",
    "plt.title(\"Validation Curve with Sgdclassifier\")\n",
    "plt.xlabel(\"$alpha$\")\n",
    "plt.ylabel(\"Score\")\n",
    "plt.ylim(0.0, 1.1)\n",
    "lw = 2\n",
    "plt.semilogx(param_range, train_scores_mean, label=\"Training score\",\n",
    "             color=\"darkorange\", lw=lw)\n",
    "plt.fill_between(param_range, train_scores_mean - train_scores_std,\n",
    "                 train_scores_mean + train_scores_std, alpha=0.2,\n",
    "                 color=\"darkorange\", lw=lw)\n",
    "plt.semilogx(param_range, test_scores_mean, label=\"Cross-validation score\",\n",
    "             color=\"navy\", lw=lw)\n",
    "plt.fill_between(param_range, test_scores_mean - test_scores_std,\n",
    "                 test_scores_mean + test_scores_std, alpha=0.2,\n",
    "                 color=\"navy\", lw=lw)\n",
    "plt.legend(loc=\"best\")\n",
    "plt.show()"
   ]
  },
  {
   "cell_type": "code",
   "execution_count": 283,
   "metadata": {},
   "outputs": [
    {
     "name": "stdout",
     "output_type": "stream",
     "text": [
      "Accuracy of the model at optimal hyperparameter alpha = 0.692369% is:  66.625000%\n",
      "Confusion matrix for the model is:\n"
     ]
    },
    {
     "data": {
      "image/png": "[encoded data removed]",
      "text/plain": [
       "<Figure size 1440x288 with 6 Axes>"
      ]
     },
     "metadata": {
      "needs_background": "light"
     },
     "output_type": "display_data"
    },
    {
     "name": "stdout",
     "output_type": "stream",
     "text": [
      "f1 score value for   the model is: 0.5884660875788188\n",
      "precision score  for   the model is: 0.5845515377996312\n"
     ]
    },
    {
     "data": {
      "image/png": "[encoded data removed]",
      "text/plain": [
       "<Figure size 1440x288 with 6 Axes>"
      ]
     },
     "metadata": {
      "needs_background": "light"
     },
     "output_type": "display_data"
    },
    {
     "name": "stdout",
     "output_type": "stream",
     "text": [
      "Accuracy of the model at optimal hyperparameter alpha = 0.692369% is:  75.142857%\n",
      "f1 score value for   the model is: 0.7060683778879062\n",
      "precision score  for   the model is: 0.7692005023994095\n"
     ]
    }
   ],
   "source": [
    "#confusion matrix,precision matrix,recall matrix,accuracy\n",
    "from sklearn.metrics import accuracy_score, precision_recall_fscore_support, f1_score\n",
    "sgd = SGDClassifier(alpha=optimal_alpha, n_jobs=-1)\n",
    "sgd.fit(X_train_vec_standardized,Y_train)\n",
    "Y_pred = sgd.predict(X_test_vec_standardized)\n",
    "Y_test_accuracy = accuracy_score(Y_test, Y_pred, normalize=True, sample_weight=None)*100\n",
    "print('Accuracy of the model at optimal hyperparameter alpha = %f%% is:  %f%%' % (optimal_alpha,Y_test_accuracy))\n",
    "print('Confusion matrix for the model is:')\n",
    "plot_confusion_matrix(Y_test, Y_pred)\n",
    "f1score= f1_score(Y_test, Y_pred, average='weighted')\n",
    "print('f1 score value for   the model is: %s'% f1score)\n",
    "precisionscore=precision_score(Y_test, Y_pred,pos_label='positive',average='weighted')\n",
    "print('precision score  for   the model is: %s'% precisionscore)\n",
    "y_train_pred = sgd.predict(X_train_vec_standardized)\n",
    "Y_train_accuracy =accuracy_score(Y_train, y_train_pred, normalize=True, sample_weight=None)*100\n",
    "plot_confusion_matrix(Y_train, y_train_pred)\n",
    "print('Accuracy of the model at optimal hyperparameter alpha = %f%% is:  %f%%' % (optimal_alpha,Y_train_accuracy))\n",
    "f1score= f1_score(Y_train, y_train_pred, average='weighted')\n",
    "print('f1 score value for   the model is: %s'% f1score)\n",
    "precisionscore=precision_score(Y_train, y_train_pred,pos_label='positive',average='weighted')\n",
    "print('precision score  for   the model is: %s'% precisionscore)"
   ]
  },
  {
   "cell_type": "code",
   "execution_count": 371,
   "metadata": {},
   "outputs": [
    {
     "name": "stdout",
     "output_type": "stream",
     "text": [
      "+-------+---------------+--------------+----------+----------+----------+-----------+\n",
      "| S.NO. |     MODEL     |    method    | scoring  | accuracy | F1 score | precision |\n",
      "+-------+---------------+--------------+----------+----------+----------+-----------+\n",
      "|   1   | Bag of Words  |  gridsearch  | f1_micro |  66.87   |  0.5821  |   0.6034  |\n",
      "|   2   |  Bag of Words | randomsearch | f1_micro |   67.2   |  0.5821  |   0.6088  |\n",
      "|   3   |    Tf-Idf     |  gridsearch  | f1_micro |  66.98   |  0.5881  |   0.6022  |\n",
      "|   4   |    Tf-Idf     | randomsearch | f1_micro |  66.625  |  0.588   |   0.584   |\n",
      "+-------+---------------+--------------+----------+----------+----------+-----------+\n"
     ]
    }
   ],
   "source": [
    "from prettytable import PrettyTable\n",
    "\n",
    "# Names of models\n",
    "featurization = ['Bag of Words ','Bag of Words','Tf-Idf ',\\\n",
    "                 'Tf-Idf ']\n",
    "\n",
    "\n",
    "# Testing accuracies\n",
    "accuracy = [66.87,67.20,66.98,66.625,]\n",
    "F1score = [0.5821,0.5821,0.5881,0.588]\n",
    "precision=[0.6034,0.6088,0.6022,0.584]\n",
    "alpha=[0.10,0.16,0.10,0.08]\n",
    "numbering = [1,2,3,4]\n",
    "method=['gridsearch','randomsearch','gridsearch','randomsearch']\n",
    "scoring=['f1_micro','f1_micro','f1_micro','f1_micro']\n",
    "# Initializing prettytable\n",
    "ptable = PrettyTable()\n",
    "\n",
    "# Adding columns\n",
    "ptable.add_column(\"S.NO.\",numbering)\n",
    "ptable.add_column(\"MODEL\",featurization)\n",
    "ptable.add_column(\"method\",method)\n",
    "ptable.add_column(\"scoring\",scoring)\n",
    "ptable.add_column(\"accuracy\",accuracy)\n",
    "ptable.add_column(\"F1 score\",F1score)\n",
    "ptable.add_column(\"precision\",precision)\n",
    "\n",
    "# Printing the Table\n",
    "print(ptable)"
   ]
  },
  {
   "cell_type": "code",
   "execution_count": 284,
   "metadata": {},
   "outputs": [],
   "source": [
    "#K-Means++ and K-medoids\n"
   ]
  },
  {
   "cell_type": "code",
   "execution_count": 285,
   "metadata": {},
   "outputs": [],
   "source": [
    "my_final = final[:10000]\n",
    "my_final.sort_values('Time',inplace=True) \n",
    "\n",
    "x = my_final['CleanedText'].values"
   ]
  },
  {
   "cell_type": "code",
   "execution_count": 286,
   "metadata": {},
   "outputs": [
    {
     "name": "stdout",
     "output_type": "stream",
     "text": [
      "the type of count vectorizer : <class 'scipy.sparse.csr.csr_matrix'>\n",
      "the shape of out text BOW vectorizer :  (8000, 2406)\n",
      "the number of unique words : 2406\n"
     ]
    }
   ],
   "source": [
    "#Implementing K-Means++ and K-medoids\n",
    "#Bag of Words (BoW)\n",
    "\n",
    "count_vect = CountVectorizer(min_df = 10) \n",
    "data = count_vect.fit_transform(x)\n",
    "print(\"the type of count vectorizer :\",type(data))\n",
    "print(\"the shape of out text BOW vectorizer : \",data.get_shape())\n",
    "print(\"the number of unique words :\", data.get_shape()[1])"
   ]
  },
  {
   "cell_type": "code",
   "execution_count": 287,
   "metadata": {},
   "outputs": [],
   "source": [
    "#K-Means++ Implementation\n",
    "\n",
    "from sklearn.cluster import KMeans\n",
    "\n",
    "k_values = [2,3,4,5,6,7,8,9,10]\n",
    "loss = []\n",
    "for i in k_values:\n",
    "    kmeans = KMeans(n_clusters=i, n_jobs=-1).fit(data)\n",
    "    loss.append(kmeans.inertia_)"
   ]
  },
  {
   "cell_type": "code",
   "execution_count": 288,
   "metadata": {},
   "outputs": [
    {
     "data": {
      "image/png": "[encoded data removed]",
      "text/plain": [
       "<Figure size 432x288 with 1 Axes>"
      ]
     },
     "metadata": {
      "needs_background": "light"
     },
     "output_type": "display_data"
    }
   ],
   "source": [
    "plt.plot(k_values, loss)\n",
    "plt.xlabel('K-values',size=14)\n",
    "plt.ylabel('Loss',size=14)\n",
    "plt.title('Loss VS K-values Plot\\n',size=18)\n",
    "plt.grid()\n",
    "plt.show()"
   ]
  },
  {
   "cell_type": "code",
   "execution_count": 289,
   "metadata": {},
   "outputs": [],
   "source": [
    "optimal_k = 4\n",
    "# Variable that will be used in the conclusion \n",
    "bow_means_k = optimal_k\n",
    "\n",
    "# Implementing K-Means++ using optimal value of K\n",
    "kmeans = KMeans(n_clusters=optimal_k, n_jobs=-1).fit(data)"
   ]
  },
  {
   "cell_type": "code",
   "execution_count": 290,
   "metadata": {},
   "outputs": [
    {
     "name": "stdout",
     "output_type": "stream",
     "text": [
      "No. of reviews in Cluster-1 :  202\n",
      "\n",
      "No. of reviews in Cluster-2 :  167\n",
      "\n",
      "No. of reviews in Cluster-3 :  1137\n",
      "\n",
      "No. of reviews in Cluster-4 :  6494\n"
     ]
    }
   ],
   "source": [
    "reviews = my_final['Text'].values\n",
    "# Getting all the reviews in different clusters\n",
    "cluster1 = []\n",
    "cluster2 = []\n",
    "cluster3 = []\n",
    "cluster4 = []\n",
    "for i in range(kmeans.labels_.shape[0]):\n",
    "    if kmeans.labels_[i] == 0:\n",
    "        cluster1.append(reviews[i])\n",
    "    elif kmeans.labels_[i] == 1:\n",
    "        cluster2.append(reviews[i])\n",
    "    elif kmeans.labels_[i] == 2:\n",
    "        cluster3.append(reviews[i])\n",
    "    else :\n",
    "        cluster4.append(reviews[i]) \n",
    "        \n",
    "# Number of reviews in different clusters\n",
    "print(\"No. of reviews in Cluster-1 : \",len(cluster1))\n",
    "print(\"\\nNo. of reviews in Cluster-2 : \",len(cluster2))\n",
    "print(\"\\nNo. of reviews in Cluster-3 : \",len(cluster3))\n",
    "print(\"\\nNo. of reviews in Cluster-4 : \",len(cluster4))"
   ]
  },
  {
   "cell_type": "code",
   "execution_count": 291,
   "metadata": {},
   "outputs": [
    {
     "name": "stdout",
     "output_type": "stream",
     "text": [
      "Review-1 : \n",
      " The grapefruit and blackberry flavors are the current favorite at my house on Tuesday nights when we try to always have a rotisserie chicken and homemade gravy while watching TV.<br /><br />Once you taste the subtle fruit flavors mingling perfectly in a not overly carbonated sparkling water, you may want to order this by the case.<br /><br />There are no artificial flavorings or colorings, not to mention extra sugar. The only sweetener is grape juice and apple juice concentrate. Lemon juice and fruit concentrates mingle with the sparkling water to create a delicate, smooth, slightly tingly and delicious drink.<br /><br />Perfect for drinking with dinner or taking along on a picnic.<br /><br />~The Rebecca Review\n",
      "\n",
      "Review-2 : \n",
      " I'm not much of a soda drinker, but I enjoy a good natural fruit soda in the summertime. Izze describes their sodas as \"100% Pure Fruit Juice and Sparkling Water\". That's an exaggeration, as there are a few more natural ingredients beside fruit juice and water in these drinks. But the description is apt in that Izze's drinks are more sparkling fruit juices than sodas. They are lightly carbonated, not super-fizzy. And the best of them taste like fresh fruit. The Sparkling Grapefruit will be a fast favorite of grapefruit fans, because it tastes like fresh squeezed pink grapefruit juice, but lighter and a little sweeter. It's a little tart. A little sweet. A little fizzy. Very refreshing. It's like drinking fresh grapefruit juice, only better. There's never any trace of sourness. No refined sugar, artificial ingredients, or caffeine either. 12 fl.oz. glass bottles.<br /><br />Ingredients: sparkling water, grape juice concentrate, grape fruit juice concentrate, lemon juice concentrate, natural flavor, gum acacia (from acacia trees), ester gum, red cabbage extract (color). One serving (which is 8 fl.oz.) contains 10 mg sodium and 25 g total carbs.\n",
      "\n",
      "Review-3 : \n",
      " My teens and their friends drink regular soda pop by the gallon!  They're obviously addicted to the stuff - a very unhealthy habit.<br /><br />I can't drink soda pop myself, it's been 5 years or so since I had one, and so I began searching for a drink that tasted like regular soda pop, but wasn't unhealthy.  I searched high and low for a suitable alternative - and then I found  Izze.<br /><br />I love the fruity, tangy flavor of Izze's sparkling grafefruit soda.  The grapefruit flavor goes well with spicy mexican foods, but it is also great just by itself.<br /><br />My teens love Izze and drink it now just like soda pop!  I'm so happy to know they aren't guzzling down corn syrup and artificial colors and flavors, but instead are enjoying all-natural Izze, with no added sweeetners!<br /><br />If you're looking for a great alternative to regular soda pop - you can't do better than to buy Izze.\n",
      "\n"
     ]
    }
   ],
   "source": [
    "#reading reviews manually\n",
    "count=1\n",
    "for i in range(3):\n",
    "    print('Review-%d : \\n %s\\n'%(count,cluster1[i]))\n",
    "    count +=1"
   ]
  },
  {
   "cell_type": "code",
   "execution_count": 292,
   "metadata": {},
   "outputs": [
    {
     "name": "stdout",
     "output_type": "stream",
     "text": [
      "Review-1 : \n",
      " Cat Grass is not only a treat that cats love to eat, it is also good for them and will help deter them away from eating houseplants!  My cat often nibbles on houseplants then throws up and I'm always afraid that it will do damage to her digestive system.  When there is cat grass around, though, she only eats that - she really chows it down, and it makes her happy, too!  Cat grass is also good for cats - it contains vitamins that may or may not be present in cat food, and it aids their digestive system and helps to eliminate fur balls.<br /><br />Even if you do not have a green thumb, cat grass is so easy to grow, that anyone can do it and it's also a great \"project\" for kids, too.  The seeds sprout very quickly (if you keep them moist) and will grow quickly to 4-6inches in a window sill.<br /><br />If you have cats, cat grass is a must!\n",
      "\n",
      "Review-2 : \n",
      " As I get older and fatter, I seek opportunities to eat snacks that at least make a nominal attempt to be healthy.  Oreo cookies fail to reach very high on my list of healthy foods.  However, Oreo cookies are delicious beyond belief.  Not only are Oreo cookies delicious, but I sometimes think I hear Oreo cookies calling my name as I walk by them.  Honest.  I am unable to buy Oreo cookies because if I do I know I will eat them; generally in a few days.  Not a good idea.<br /><br />Nabisco, realizing that many of us are making some nominal attempt at eating more healthy foods, have created a brand-identified snack eliminates all the bad fats and most of the fat, creating a yummy and crunchy chocolate wafer snack that is like a chocolate cracker.  To this point no one has ever created a truly healthy snack that is like a cookie.  However, this wafer snack, which Nabisco has decided not to call a cookie, perhaps because cookie sounds fattening, is reasonably yummy.  I have eaten these things several times and still eat them.  I actually eat them more than regular Oreos, which I count as quite a nod to health.<br /><br />You may be tempted to add icing to this baked cookie.  If you are going to add the fat and calories in icing, perhaps you should just skip in pretense at reducing calories and fat and go straight to regular Oreo cookies.  In fact, just revel in the calories and go for the Double Stuff Oreos.<br /><br />Oreos have been around since 1912, and remain the best-selling cookie brand in history.  According to our friends at Kraft, which owns Nabisco, and which is owned by the Altria Group (renamed from Philip Morris, presumably for marketing reasons), more then 450 billion Oreo cookies were sold in the first 90 years of their existence.  Though Oreo Thin Crisps fall quite a bit short of the real thing, they are high quality and have sufficient flavor that allows these baked chocolate wafers to have the Oreo name.<br /><br />Of course, you could just stick with rabbit food and be truly healthy, but where is the fun in that?  For those of us that find a constant diet of veggies to be just too healthy to be fun, and yet the thought of pigging out on a pound of Oreos smacks of chunks of fat floating through our circulatory system, Oreo Thin Crisps are a lovely alternative.  Or course, you probably should avoid eating pounds of these, even with the reduced fat.  Food is food and too much low fat food still is not good for you, even if it tastes good.  At least Oreo Thin Crisps do not talk to me when I walk by.<br /><br />Enjoy!\n",
      "\n",
      "Review-3 : \n",
      " My youngest cat is very particular about what he eats.  He absolutely will not eat if something doesn't meet his expectations.  Between that and the recent pet food recalls, I've had a really hard time finding cat food that I can feed him.  I'm happy to say that the Merrick Turducken clicks with him, plus it has no wheat gluten or other fillers.  The texture of it is appealing, too . . . it's not just \"mush\" or Spam-looking like many foods.  I'll continue to buy Turducken and plan to also try out some of the other Merrick flavors.\n",
      "\n"
     ]
    }
   ],
   "source": [
    "count=1\n",
    "for i in range(3):\n",
    "    print('Review-%d : \\n %s\\n'%(count,cluster2[i]))\n",
    "    count +=1"
   ]
  },
  {
   "cell_type": "code",
   "execution_count": 293,
   "metadata": {},
   "outputs": [
    {
     "name": "stdout",
     "output_type": "stream",
     "text": [
      "Review-1 : \n",
      " Once or twice a year for a little variety and that's about enough for my cat of this particular variety.  He likes it for a change from his chicken, turkey and beef, but not very often.  He will eat about 3/4 of the can and then he's had enough. He's not a huge fish fan anyway, but this stuff looks to be about the best out there in the fish varieties.  The chunks are bit sized so if your cat has a small mouth like mine does, it will be easier to chew.  Don't know why my cat doesn't like this type of fish, but he really could care less about it.\n",
      "\n",
      "Review-2 : \n",
      " This version is ground.  NOt my current cat's favorite version, but he really likes the taste. I do wish they'd make this one not ground but in the pieces variety too.  My previous cat really liked this one and usually licked the bowl clean. But, neither wanted it more than once or twice a month.  Why, I don't know but it seems to be a little richer than the others.\n",
      "\n",
      "Review-3 : \n",
      " Buy these cookies. You will not regret it.<br /><br />They are, hands down, the best store-bought chocolate cookies out there, and I buy every new brand that comes out (from Mrs Fields to all the permuatations offerred by Pepperidge Farms).<br /><br />These are much better than Entenmann's recent incarnation of \"new recipe\" chocolate chip cookies, the milk chocolate chip and \"soft baked\" chocolate chip cookies. Both of these newer cookie species are awful: the milk chocolate tastes like rotting bananas and the cookie part tastes like all the other crappy store-bought soft cookies out there.<br /><br />In contrast, Entenmann's Original Recipe chocolate cookie is a mind-blowing experience: delicious dark chocolate chips and a soft mouth-watering cookie with a unique but ineffable taste. They seem to have perfected the ratio of flour to sugar, so that the cookie is delicious without weighing you down with excessive sugary sweetness (this is again in contrast to their horrible new cookies).<br /><br />I have absolutely no idea why Entenmann's decided to nearly eliminate their sales of the classical recipe and replace it with these disgusting brands. It seems to have happened when the Entenmann name was bought by a larger multinational company, so it was probably a money-saving opportunity. The Original Recipe cookies likely have expensive ingredients.<br /><br />The only problem is they are so hard to find: thank goodness they are now on Amazon!!!\n",
      "\n"
     ]
    }
   ],
   "source": [
    "count=1\n",
    "for i in range(3):\n",
    "    print('Review-%d : \\n %s\\n'%(count,cluster3[i]))\n",
    "    count +=1"
   ]
  },
  {
   "cell_type": "code",
   "execution_count": 294,
   "metadata": {},
   "outputs": [
    {
     "name": "stdout",
     "output_type": "stream",
     "text": [
      "Review-1 : \n",
      " This was a really good idea and the final product is outstanding. I use the decals on my car window and everybody asks where i bought the decals i made.  Two thumbs up!\n",
      "\n",
      "Review-2 : \n",
      " I just received my shipment and could hardly wait to try this product. We love &quot;slickers&quot; which is what we call them, instead of stickers because they can be removed so easily. My daughter designed signs to be  printed in reverse to use on her car windows. They printed beautifully (we  have 'The Print Shop' program). I am going to have a lot of fun with this  product because there are windows everywhere and other surfaces like tv  screens and computer monitors.\n",
      "\n",
      "Review-3 : \n",
      " Mae Ploy Sweet Chili Sauce is becoming a standard condiment on my dinner table. It has just the right blend of sweet and heat; Mae Ploy enhances the taste of all meat and fish foods. Catsup is almost a condiment of the past. Salsa and Mae Ploy are the answers!\n",
      "\n"
     ]
    }
   ],
   "source": [
    "count=1\n",
    "for i in range(3):\n",
    "    print('Review-%d : \\n %s\\n'%(count,cluster4[i]))\n",
    "    count +=1"
   ]
  },
  {
   "cell_type": "code",
   "execution_count": 295,
   "metadata": {},
   "outputs": [],
   "source": [
    "#K-Medoids Implementation\n",
    "\n",
    "def print_cluster_reviews_k_medoids(cluster_label_reviews,cluster_number = 0,review_count=3):\n",
    "    reviews = cluster_label_reviews[cluster_number]\n",
    "    reviews = reviews[0:review_count]\n",
    "    print(\"---: Cluster {0} :---\".format(cluster_number))\n",
    "    index = 1\n",
    "    for review in reviews:\n",
    "        print(\"Review {0} : \".format(index))\n",
    "        print(CLEANED_TEXT[review])\n",
    "        print()\n",
    "        index += 1"
   ]
  },
  {
   "cell_type": "code",
   "execution_count": 296,
   "metadata": {},
   "outputs": [],
   "source": [
    "def get_cluster_N_medoids(k_medoids):\n",
    "    return k_medoids.get_clusters(),k_medoids.get_medoids()"
   ]
  },
  {
   "cell_type": "code",
   "execution_count": 297,
   "metadata": {},
   "outputs": [
    {
     "data": {
      "text/plain": [
       "(8000, 2)"
      ]
     },
     "execution_count": 297,
     "metadata": {},
     "output_type": "execute_result"
    }
   ],
   "source": [
    "from sklearn.decomposition import TruncatedSVD\n",
    "#from pyclustering.utils import calculate_distance_matrix\n",
    "#from pyclustering.cluster import kmedoids\n",
    "\n",
    "svd = TruncatedSVD(n_components=2)\n",
    "bow_dtm_2_dim = svd.fit_transform(data)\n",
    "bow_dtm_2_dim.shape"
   ]
  },
  {
   "cell_type": "code",
   "execution_count": 298,
   "metadata": {},
   "outputs": [
    {
     "data": {
      "text/plain": [
       "<pyclustering.cluster.kmedoids.kmedoids at 0x1b812357688>"
      ]
     },
     "execution_count": 298,
     "metadata": {},
     "output_type": "execute_result"
    }
   ],
   "source": [
    "from pyclustering.cluster import kmedoids\n",
    "k_medoids = kmedoids.kmedoids(bow_dtm_2_dim,[2, 9, 12],0.001,ccore=True)\n",
    "# Run cluster analysis and obtain results\n",
    "k_medoids.process()"
   ]
  },
  {
   "cell_type": "code",
   "execution_count": 299,
   "metadata": {},
   "outputs": [],
   "source": [
    "clusters,medoids = get_cluster_N_medoids(k_medoids)"
   ]
  },
  {
   "cell_type": "code",
   "execution_count": 300,
   "metadata": {},
   "outputs": [
    {
     "name": "stdout",
     "output_type": "stream",
     "text": [
      "Number of Reviews in Cluster 0 : 5265 \n",
      "Number of Reviews in Cluster 1 : 502 \n",
      "Number of Reviews in Cluster 2 : 2233 \n"
     ]
    }
   ],
   "source": [
    "for i in range(0,len(clusters)):\n",
    "    list_if_indices = clusters[i]\n",
    "    # Number of reviews in different clusters\n",
    "    print(\"Number of Reviews in Cluster {0} : {1} \".format(i,len(list_if_indices)))"
   ]
  },
  {
   "cell_type": "code",
   "execution_count": 301,
   "metadata": {},
   "outputs": [],
   "source": [
    "CLEANED_TEXT = my_final['Text'].values"
   ]
  },
  {
   "cell_type": "code",
   "execution_count": 302,
   "metadata": {},
   "outputs": [
    {
     "name": "stdout",
     "output_type": "stream",
     "text": [
      "---: Cluster 0 :---\n",
      "Review 1 : \n",
      "I ordered this for my Mother-in-law who could not find this product anywhere near where she lives.  She is really enjoying this product.\n",
      "\n",
      "Review 2 : \n",
      "This was a really good idea and the final product is outstanding. I use the decals on my car window and everybody asks where i bought the decals i made.  Two thumbs up!\n",
      "\n",
      "Review 3 : \n",
      "I just received my shipment and could hardly wait to try this product. We love &quot;slickers&quot; which is what we call them, instead of stickers because they can be removed so easily. My daughter designed signs to be  printed in reverse to use on her car windows. They printed beautifully (we  have 'The Print Shop' program). I am going to have a lot of fun with this  product because there are windows everywhere and other surfaces like tv  screens and computer monitors.\n",
      "\n",
      "\n",
      "\n",
      "\n",
      "---: Cluster 1 :---\n",
      "Review 1 : \n",
      "I'm not sure how you review something that's as subjective as taste, but suffice to say that if you like chocolate and graham cracker, you'll like this (it doesn't taste exactly like either of those, but that's the closest analogy for me).  The sticks themselves are a cracker of some kind, dipped in chocolate, with one end left just normal cracker to you don't get your fingers covered in chocolate while eating.<br /><br />Here's some of the nitty gritty details - each of the boxes contain two individually sealed packets, that contain probably 20 or so of the sticks.  The packets themselves are really cleverly designed, with a little slit cut in the folded part, you just grab both sides and pull, and it opens up the package without any hassle - gotta love Japanese product design!  :)  Another nice design touch is that when you open it properly the grabbing-side of the stick is right at the top.<br /><br />Each of the packets has 210 calories (90 from fat), and about 80mg of sodium - so in terms of snacks this is a pretty good option.  It does contain milk, wheat, soybeans and sheanut - so if any of these are an issue for you, then you'll want to pass.  It also says on the packaging that the facility they're manufactured in also processes eggs and peanuts - the product doesn't use either of them, but the disclosure is nice if you're particularly sensitive to either.<br /><br />Overall a great snack at a great price - the 10 pack really is 20 of the packets, so that's quite a few snacks.  One note, if you live in a hot climate, don't order them in the summer because they will melt together (in shipping)!  Duh!  :)\n",
      "\n",
      "Review 2 : \n",
      "Buy these cookies. You will not regret it.<br /><br />They are, hands down, the best store-bought chocolate cookies out there, and I buy every new brand that comes out (from Mrs Fields to all the permuatations offerred by Pepperidge Farms).<br /><br />These are much better than Entenmann's recent incarnation of \"new recipe\" chocolate chip cookies, the milk chocolate chip and \"soft baked\" chocolate chip cookies. Both of these newer cookie species are awful: the milk chocolate tastes like rotting bananas and the cookie part tastes like all the other crappy store-bought soft cookies out there.<br /><br />In contrast, Entenmann's Original Recipe chocolate cookie is a mind-blowing experience: delicious dark chocolate chips and a soft mouth-watering cookie with a unique but ineffable taste. They seem to have perfected the ratio of flour to sugar, so that the cookie is delicious without weighing you down with excessive sugary sweetness (this is again in contrast to their horrible new cookies).<br /><br />I have absolutely no idea why Entenmann's decided to nearly eliminate their sales of the classical recipe and replace it with these disgusting brands. It seems to have happened when the Entenmann name was bought by a larger multinational company, so it was probably a money-saving opportunity. The Original Recipe cookies likely have expensive ingredients.<br /><br />The only problem is they are so hard to find: thank goodness they are now on Amazon!!!\n",
      "\n",
      "Review 3 : \n",
      "SOMETHING TO EAT IF YOU'RE STARVING - BUT PLEASE GIVE REAL FOOD TO HUNGRY PEOPLE,<br /><br />What's in Kellogg's Corn Flakes? \"Milled Corn, Sugar, Malt Flavoring, High Fructose Corn Syrup, Salt.\" Yes, of course, it also has lots of yummy preservatives such as BHT and a few synthetic vitamins and iron in minute quantities. For nutrition you get basically 100% Carbs from lots of SUGAR and almost NO PROTEIN. Add skim milk, or you'll get saturated fat with a little protein from whole milk. For added nutrition, include a sliced banana and a capful of wheat germ.<br /><br />If you like Corn Flakes, that is your business and you should enjoy them, but this is not health food and it is a very poor value for more than 0.29 cents an ounce [$3.49 per package]. At this price, the inner package's failure to maintain freshness is an even bigger drawback when one thinks of how long it may take to finish 12 ounces of this stuff. Why not use a vacuum-sealed container like Kretschmer's Wheat Germ to preserve freshness? After all, it's in the same price range!<br /><br />So if you are hungry, you are really eating the wrong stuff. SOMETHING TO EAT IF YOU ARE STARVING - BUT PLEASE GIVE REAL FOOD TO OTHER HUNGRY PEOPLE PLEASE!\n",
      "\n",
      "\n",
      "\n",
      "\n",
      "---: Cluster 2 :---\n",
      "Review 1 : \n",
      "I originally found this Roasted Garlic Juice at one of those roadside shops that sell a variety of foodstuffs, plants and ice cream. That was about a year ago and unfortunately, the place is now out of business. I was getting low on it and was glad to find it here on Amazon, as I couldn't find anything even close at any grocery store in a 50-mile radius. Store Managers were saying they never heard of pure garlic juice. I told them if they carried it, they would sell a lot.<br /><br />I have used this product for many dishes and marinades and the flavor can't be beat! It is pungent yet smooth and will bring out the flavor in any meat or dish you can imagine. I prefer the Roasted over the Cold Pressed, but both are great in their own way. It's nice to be able to pour or spray.<br /><br />Bottom line: If you are a garlic lover, buy this!!!!!\n",
      "\n",
      "Review 2 : \n",
      "I honestly cannot say that I saw any difference whatsoever in this variety compared to Friskies regular sliced beef version.  Actually, my cat preferred the regular Friskies over this one.  He's not really all that jazzed over these Fancy Feast varieties anyway, so if you're going to buy this one or the chicken, save your money and buy the regular Friskies versions.  They seem to taste better to the cat and it saves you money.  I've never had a cat that ever got too thrilled over this variety over the years so I guess I'll get the special ones instead.\n",
      "\n",
      "Review 3 : \n",
      "This one is a great basic food. Whatever is in it, cats really go for and mine is no exception.  My current cat really doesn't like the ground variety which is what this is.  He will eat it occasionally, so I only buy it about twice a year.  My previous cat had to have it more often and really enjoyed it.  It's hard to judge what a cat will eat so if your cat likes ground, give this one a go because it really seems to be a big favorite.\n",
      "\n",
      "\n",
      "\n",
      "\n"
     ]
    }
   ],
   "source": [
    "print_cluster_reviews_k_medoids(clusters,cluster_number = 0, review_count = 3)\n",
    "print(\"\\n\\n\")\n",
    "print_cluster_reviews_k_medoids(clusters,cluster_number = 1, review_count = 3)\n",
    "print(\"\\n\\n\")\n",
    "print_cluster_reviews_k_medoids(clusters,cluster_number = 2, review_count = 3)\n",
    "print(\"\\n\\n\")"
   ]
  },
  {
   "cell_type": "code",
   "execution_count": null,
   "metadata": {},
   "outputs": [],
   "source": []
  },
  {
   "cell_type": "code",
   "execution_count": 303,
   "metadata": {},
   "outputs": [
    {
     "name": "stdout",
     "output_type": "stream",
     "text": [
      "the type of count vectorizer : <class 'scipy.sparse.csr.csr_matrix'>\n",
      "the shape of out text TFIDF vectorizer :  (8000, 2406)\n",
      "the number of unique words : 2406\n"
     ]
    }
   ],
   "source": [
    "#TFIDF\n",
    "\n",
    "tf_idf_vect = TfidfVectorizer(min_df=10)\n",
    "data = tf_idf_vect.fit_transform(x)\n",
    "print(\"the type of count vectorizer :\",type(data))\n",
    "print(\"the shape of out text TFIDF vectorizer : \",data.get_shape())\n",
    "print(\"the number of unique words :\", data.get_shape()[1])"
   ]
  },
  {
   "cell_type": "code",
   "execution_count": 304,
   "metadata": {},
   "outputs": [],
   "source": [
    "from sklearn.cluster import KMeans\n",
    "k_values = [2,3,4,5,6,7,8,9]\n",
    "loss = []\n",
    "for i in k_values:\n",
    "    kmeans = KMeans(n_clusters=i, n_jobs=-1).fit(data)\n",
    "    loss.append(kmeans.inertia_)"
   ]
  },
  {
   "cell_type": "code",
   "execution_count": 305,
   "metadata": {},
   "outputs": [
    {
     "data": {
      "image/png": "[encoded data removed]",
      "text/plain": [
       "<Figure size 432x288 with 1 Axes>"
      ]
     },
     "metadata": {
      "needs_background": "light"
     },
     "output_type": "display_data"
    }
   ],
   "source": [
    "plt.plot(k_values, loss)\n",
    "plt.xlabel('K-values',size=14)\n",
    "plt.ylabel('Loss',size=14)\n",
    "plt.title('Loss VS K-values Plot\\n',size=18)\n",
    "plt.grid()\n",
    "plt.show()"
   ]
  },
  {
   "cell_type": "code",
   "execution_count": 306,
   "metadata": {},
   "outputs": [
    {
     "name": "stdout",
     "output_type": "stream",
     "text": [
      "No. of reviews in Cluster-1 :  524\n",
      "\n",
      "No. of reviews in Cluster-2 :  524\n",
      "\n",
      "No. of reviews in Cluster-3 :  5538\n",
      "\n",
      "No. of reviews in Cluster-4 :  417\n",
      "\n",
      "No. of reviews in Cluster-5 :  339\n",
      "\n",
      "No. of reviews in Cluster-6 :  658\n"
     ]
    }
   ],
   "source": [
    "reviews = my_final['Text'].values\n",
    "optimal_k = 6\n",
    "# Variable that will be used in the conclusion \n",
    "tfidf_means_k = optimal_k\n",
    "\n",
    "# Implementing K-Means++ using optimal value of K\n",
    "kmeans = KMeans(n_clusters=optimal_k, n_jobs=-1).fit(data)\n",
    "\n",
    "# Getting all the reviews in different clusters\n",
    "cluster1 = []\n",
    "cluster2 = []\n",
    "cluster3 = []\n",
    "cluster4 = []\n",
    "cluster5 = []\n",
    "cluster6 = []\n",
    "\n",
    "for i in range(kmeans.labels_.shape[0]):\n",
    "    if kmeans.labels_[i] == 0:\n",
    "        cluster1.append(reviews[i])\n",
    "    elif kmeans.labels_[i] == 1:\n",
    "        cluster2.append(reviews[i])\n",
    "    elif kmeans.labels_[i] == 2:\n",
    "        cluster3.append(reviews[i])\n",
    "    elif kmeans.labels_[i] == 3:\n",
    "        cluster4.append(reviews[i])\n",
    "    elif kmeans.labels_[i] == 4:\n",
    "        cluster5.append(reviews[i])    \n",
    "    else :\n",
    "        cluster6.append(reviews[i]) \n",
    "        \n",
    "# Number of reviews in different clusters\n",
    "print(\"No. of reviews in Cluster-1 : \",len(cluster1))\n",
    "print(\"\\nNo. of reviews in Cluster-2 : \",len(cluster2))\n",
    "print(\"\\nNo. of reviews in Cluster-3 : \",len(cluster3))\n",
    "print(\"\\nNo. of reviews in Cluster-4 : \",len(cluster4))\n",
    "print(\"\\nNo. of reviews in Cluster-5 : \",len(cluster5))\n",
    "print(\"\\nNo. of reviews in Cluster-6 : \",len(cluster6))\n"
   ]
  },
  {
   "cell_type": "code",
   "execution_count": 307,
   "metadata": {},
   "outputs": [
    {
     "name": "stdout",
     "output_type": "stream",
     "text": [
      "Review-1 : \n",
      " This one is a great basic food. Whatever is in it, cats really go for and mine is no exception.  My current cat really doesn't like the ground variety which is what this is.  He will eat it occasionally, so I only buy it about twice a year.  My previous cat had to have it more often and really enjoyed it.  It's hard to judge what a cat will eat so if your cat likes ground, give this one a go because it really seems to be a big favorite.\n",
      "\n",
      "Review-2 : \n",
      " This is my cat's third favorite food.  It's great stuff - the gravy is so very thick and the food looks like bits of steak slicked off for your friend.  My cat licks the bowl clean every time and wants more.  They should send me discounts for as much of this stuff I buy.  I buy it by the case if that gives you some idea!\n",
      "\n",
      "Review-3 : \n",
      " This is my cat's favorite one.  He just licks that bowl clean whenever he gets it.  I usually buy a case of this one at a time and judging from how often it sells out, other cats must love it too.  The cheese hunks are large and look quite tasty.  It's just a very nice variety and something I'm sure every cat loves.  My previous cat about ran me down whenever I got it out to give to him and my current cat is no different.  Give this one a try - you'll be glad you did!\n",
      "\n"
     ]
    }
   ],
   "source": [
    "count=1\n",
    "for i in range(3):\n",
    "    print('Review-%d : \\n %s\\n'%(count,cluster1[i]))\n",
    "    count +=1"
   ]
  },
  {
   "cell_type": "code",
   "execution_count": 308,
   "metadata": {},
   "outputs": [
    {
     "name": "stdout",
     "output_type": "stream",
     "text": [
      "Review-1 : \n",
      " I found these tubs at Costco and was dismayed to discover that they are no longer carrying them. I buy the 4-pack here at amazon and I am very satisfied. The snacks are tasty; not too salty and offers a variety of chips in the mix that all blend nicely.\n",
      "\n",
      "Review-2 : \n",
      " I can't believe how wonderful this chip is! The slightly spicy after taste gives the chip extra punch and flavor. My family and I are offically addicted.\n",
      "\n",
      "Review-3 : \n",
      " Slightly crumbly, but overall a very good cookie.  In my opinion very similar to Chips Ahoy but more airy, less dense.\n",
      "\n"
     ]
    }
   ],
   "source": [
    "count=1\n",
    "for i in range(3):\n",
    "    print('Review-%d : \\n %s\\n'%(count,cluster2[i]))\n",
    "    count +=1"
   ]
  },
  {
   "cell_type": "code",
   "execution_count": 309,
   "metadata": {},
   "outputs": [
    {
     "name": "stdout",
     "output_type": "stream",
     "text": [
      "Review-1 : \n",
      " This was a really good idea and the final product is outstanding. I use the decals on my car window and everybody asks where i bought the decals i made.  Two thumbs up!\n",
      "\n",
      "Review-2 : \n",
      " I just received my shipment and could hardly wait to try this product. We love &quot;slickers&quot; which is what we call them, instead of stickers because they can be removed so easily. My daughter designed signs to be  printed in reverse to use on her car windows. They printed beautifully (we  have 'The Print Shop' program). I am going to have a lot of fun with this  product because there are windows everywhere and other surfaces like tv  screens and computer monitors.\n",
      "\n",
      "Review-3 : \n",
      " Mae Ploy Sweet Chili Sauce is becoming a standard condiment on my dinner table. It has just the right blend of sweet and heat; Mae Ploy enhances the taste of all meat and fish foods. Catsup is almost a condiment of the past. Salsa and Mae Ploy are the answers!\n",
      "\n"
     ]
    }
   ],
   "source": [
    "count=1\n",
    "for i in range(3):\n",
    "    print('Review-%d : \\n %s\\n'%(count,cluster3[i]))\n",
    "    count +=1"
   ]
  },
  {
   "cell_type": "code",
   "execution_count": 310,
   "metadata": {},
   "outputs": [
    {
     "name": "stdout",
     "output_type": "stream",
     "text": [
      "Review-1 : \n",
      " Sleepytime is a popular tea that has been around a long time due to its high quality. The natural flavors and ingredients have made it a required tea for the cupboard of persons interested in healthy eating for the last 30 years! The predominant flavors are of chamomile and spearmint--but the additional ingredients--including rose buds--create a satisfying, complex blend that is very tasty and soothing. Not only is Sleepytime caffeine-free but it contains herbs that are mildly relaxing and healing for the stomach. Drink this lovely tea before bed either with or without honey.<br /><br />Sleepytime contains chamomile, spearmint, lemongrass, tilia flowers, blackberry leaves, orange blossoms, hawthorne berries and rosebuds. The healing qualities of some the herbs in Sleepytime are listed below, however please note that there is insufficient quantities of each herb to have anything more than a very mild effect. Blackberry leaves, which are soothing to the stomach, contain tannins which provides a tea-like base for the flowery flavors of chamomile and rosebuds. Spearmint is one of the milder mints and is also useful to soothe tummy ache. Chamomile is a wonderful herb that has a relaxing effect; it also can be used to soothe tummy aches, headache, menstrual cramps and is a mild anti-fungal.<br /><br />Celestial Seasonings gets extra points for their packaging: they utilize 100% natural recycled paperboard in their boxes and they don't package each tea bag individually. Instead they use a system of a waxed paper bag inside the box that stays shut when you fold it. It keeps the bags fresh and utilizes less packaging than individually wrapping each bag. The art they use on each box is beautiful as are the quotes and information they put on every surface.<br /><br />Quote from the box:<br /><br />\"Ultimately, the bond of all companionship, whether in marriage or friendship, is conversation.\" Oscar Wilde.\n",
      "\n",
      "Review-2 : \n",
      " Zen brews up to an golden amber liquor. The aroma is sweet spearmint. The blending of this tea is excellent--spearmint could be overpowering but they use just the right amount of it. Slightly sweet spearmint is the primary flavor, then you taste a hint of lemon. The green tea provides an herbal base for these two flavors that makes the intial impression of zesty spearmint and lemon modulate into a substantial potion. Very nice and satisfying with a clean spearmint aftertaste.<br /><br />Remember that this tea does have caffeine--however, it does not say how much on the box. A good estimate might be 30 mg--compared to 90mg for the average cup of coffee. Make sure you time how long you brew this tea because if you brew too long it becomes bitter. Four minutes is ample.\n",
      "\n",
      "Review-3 : \n",
      " I ordered the White Christmas, Christmas Eve, and Christmas Morning blends last year for the holidays and fell in love with the Christmas eve.  It's the smoothest of the bunch and has such a wonderful flavor, I use it for iced teas all year round.  I can honestly say that I never got into tea that much until I tried STASH teas.  I sent the licorice and lemon flavors to my father, and he called me to ask where I'd gotten it, because his neighbor wanted to get some for his wife, too.  Once tried, you will be addicted. Visit the stashtea website for lots of tea related bits and baubles.  These make perfect hostess gifts over the holidays along with a plate of cookies.\n",
      "\n"
     ]
    }
   ],
   "source": [
    "count=1\n",
    "for i in range(3):\n",
    "    print('Review-%d : \\n %s\\n'%(count,cluster4[i]))\n",
    "    count +=1"
   ]
  },
  {
   "cell_type": "code",
   "execution_count": 311,
   "metadata": {},
   "outputs": [
    {
     "name": "stdout",
     "output_type": "stream",
     "text": [
      "Review-1 : \n",
      " Too much of the white pith on this orange peel making the product overly bitter and diluting the real good taste of the orange zest.\n",
      "\n",
      "Review-2 : \n",
      " Too much of the white pith on this orange peel making the product overly bitter and diluting the real good taste of the orange zest.\n",
      "\n",
      "Review-3 : \n",
      " Too much of the white pith on this orange peel making the product overly bitter and diluting the real good taste of the orange zest.\n",
      "\n"
     ]
    }
   ],
   "source": [
    "count=1\n",
    "for i in range(3):\n",
    "    print('Review-%d : \\n %s\\n'%(count,cluster5[i]))\n",
    "    count +=1"
   ]
  },
  {
   "cell_type": "code",
   "execution_count": 312,
   "metadata": {},
   "outputs": [
    {
     "name": "stdout",
     "output_type": "stream",
     "text": [
      "Review-1 : \n",
      " This is the coffee we crave in our house. It is a strong brew, yet not bitter. Yuban is the best ground coffee we have tasted, yet.\n",
      "\n",
      "Review-2 : \n",
      " First, Yuban is my favorite coffee. To be able to buy a case and save is great. The coffee was in date, the seals on the cans were excellent, and the freshness of the coffee was excellent. I will definitely buy more Yuban coffee when I need it from Amazon groceries.\n",
      "\n",
      "Review-3 : \n",
      " I am a true Seattle coffee addict, and I have never had a better coffee candy.\n",
      "\n"
     ]
    }
   ],
   "source": [
    "count=1\n",
    "for i in range(3):\n",
    "    print('Review-%d : \\n %s\\n'%(count,cluster6[i]))\n",
    "    count +=1"
   ]
  },
  {
   "cell_type": "code",
   "execution_count": 313,
   "metadata": {},
   "outputs": [],
   "source": [
    "#k-mediods\n",
    "from sklearn.decomposition import TruncatedSVD\n",
    "from pyclustering.utils import calculate_distance_matrix\n",
    "from pyclustering.cluster import kmedoids"
   ]
  },
  {
   "cell_type": "code",
   "execution_count": 314,
   "metadata": {},
   "outputs": [],
   "source": [
    "def print_cluster_reviews_k_medoids(cluster_label_reviews,cluster_number = 0,review_count=3):\n",
    "    reviews = cluster_label_reviews[cluster_number]\n",
    "    reviews = reviews[0:review_count]\n",
    "    print(\"---: Cluster {0} :---\".format(cluster_number))\n",
    "    index = 1\n",
    "    for review in reviews:\n",
    "        print(\"Review {0} : \".format(index))\n",
    "        print(CLEANED_TEXT[review])\n",
    "        print()\n",
    "        index += 1"
   ]
  },
  {
   "cell_type": "code",
   "execution_count": 315,
   "metadata": {},
   "outputs": [],
   "source": [
    "def get_cluster_N_medoids(k_medoids):\n",
    "    return k_medoids.get_clusters(),k_medoids.get_medoids()"
   ]
  },
  {
   "cell_type": "code",
   "execution_count": 316,
   "metadata": {},
   "outputs": [
    {
     "data": {
      "text/plain": [
       "(8000, 2)"
      ]
     },
     "execution_count": 316,
     "metadata": {},
     "output_type": "execute_result"
    }
   ],
   "source": [
    "svd = TruncatedSVD(n_components=2)\n",
    "tfidf_dtm_2_dim = svd.fit_transform(data)\n",
    "tfidf_dtm_2_dim.shape"
   ]
  },
  {
   "cell_type": "code",
   "execution_count": 317,
   "metadata": {},
   "outputs": [
    {
     "data": {
      "text/plain": [
       "<pyclustering.cluster.kmedoids.kmedoids at 0x1b81282fb08>"
      ]
     },
     "execution_count": 317,
     "metadata": {},
     "output_type": "execute_result"
    }
   ],
   "source": [
    "k_medoids = kmedoids.kmedoids(tfidf_dtm_2_dim,[2, 9, 12],0.001,ccore=True)\n",
    "# Run cluster analysis and obtain results\n",
    "k_medoids.process()"
   ]
  },
  {
   "cell_type": "code",
   "execution_count": 318,
   "metadata": {},
   "outputs": [],
   "source": [
    "clusters,medoids = get_cluster_N_medoids(k_medoids)"
   ]
  },
  {
   "cell_type": "code",
   "execution_count": null,
   "metadata": {},
   "outputs": [],
   "source": []
  },
  {
   "cell_type": "code",
   "execution_count": 319,
   "metadata": {},
   "outputs": [
    {
     "name": "stdout",
     "output_type": "stream",
     "text": [
      "Number of Reviews in Cluster 0 : 4208 \n",
      "Number of Reviews in Cluster 1 : 2308 \n",
      "Number of Reviews in Cluster 2 : 1484 \n"
     ]
    }
   ],
   "source": [
    "for i in range(0,len(clusters)):\n",
    "    list_if_indices = clusters[i]\n",
    "    # Number of reviews in different clusters\n",
    "    print(\"Number of Reviews in Cluster {0} : {1} \".format(i,len(list_if_indices)))"
   ]
  },
  {
   "cell_type": "code",
   "execution_count": 320,
   "metadata": {},
   "outputs": [],
   "source": [
    "CLEANED_TEXT = my_final['Text'].values"
   ]
  },
  {
   "cell_type": "code",
   "execution_count": 321,
   "metadata": {},
   "outputs": [
    {
     "name": "stdout",
     "output_type": "stream",
     "text": [
      "---: Cluster 0 :---\n",
      "Review 1 : \n",
      "Bought these for a change from the green split peas. They are tasty and I like them. Will buy again. Always like Bob's Red Mill products.\n",
      "\n",
      "Review 2 : \n",
      "This was a really good idea and the final product is outstanding. I use the decals on my car window and everybody asks where i bought the decals i made.  Two thumbs up!\n",
      "\n",
      "Review 3 : \n",
      "I just received my shipment and could hardly wait to try this product. We love &quot;slickers&quot; which is what we call them, instead of stickers because they can be removed so easily. My daughter designed signs to be  printed in reverse to use on her car windows. They printed beautifully (we  have 'The Print Shop' program). I am going to have a lot of fun with this  product because there are windows everywhere and other surfaces like tv  screens and computer monitors.\n",
      "\n",
      "\n",
      "\n",
      "\n",
      "---: Cluster 1 :---\n",
      "Review 1 : \n",
      "When I first found out that my 4 year old I had to go Gluten free I was a little worried about how she would handle it. GF Bisquick has made it a lot easier. I have been able to make her favorite foods such as chicken fingers, corn dogs, pizza and chinese (sweet and sour chicken)with this mix. Pancakes are also a big hit in our house. They have quick and easy recipes on the box. For the chinese- I take their chicken finger recipe and cute the pieces of chicken into bite size pieces, and bake according to the recipe. Cook up some rice and just use a GF sweet and sour sauce a quick simple easy meal that tastes wonderful!\n",
      "\n",
      "Review 2 : \n",
      "love the snack.  wanted to buy a bunch.<p>shipping at amazon is more than the price of the snack.  try ordering a dozen and then look at the shipping price.<p>every link i've tried to this snack takes you back to amazon's exhorbitant shipping rates.<p>another reason to buy your books at overstock.com.  too back they don't carry food as well.\n",
      "\n",
      "Review 3 : \n",
      "I honestly cannot say that I saw any difference whatsoever in this variety compared to Friskies regular sliced beef version.  Actually, my cat preferred the regular Friskies over this one.  He's not really all that jazzed over these Fancy Feast varieties anyway, so if you're going to buy this one or the chicken, save your money and buy the regular Friskies versions.  They seem to taste better to the cat and it saves you money.  I've never had a cat that ever got too thrilled over this variety over the years so I guess I'll get the special ones instead.\n",
      "\n",
      "\n",
      "\n",
      "\n",
      "---: Cluster 2 :---\n",
      "Review 1 : \n",
      "I used to go to a local coffee shop to get these drinks for about $4. Now I can make them at home for a fraction of the cost. They are delicious! I like the single serving packets, but my husband and I end up using three packets to make two good size drinks.\n",
      "\n",
      "Review 2 : \n",
      "If you are looking for a sweetener that is delicious in tea, Stevia can be used to sweeten hot or cold tea. You can almost say goodbye to regular sugars in your drinks once you get a taste for the Stevia powder.<br /><br />Unlike artificial sweeteners, Stevia is never bitter and won't leave a nasty aftertaste in your mouth. The packets are easy to carry with you and you may even notice you have less cravings for sugary foods.<br /><br />By using a low calorie (0 Calories) sweetener with only 1 gram of carbs, you will be ahead of the game. Every single time you use one packet of Stevia, you are using less sugar and you won't even miss it.<br /><br />~The Rebecca Review\n",
      "\n",
      "Review 3 : \n",
      "Zen brews up to an golden amber liquor. The aroma is sweet spearmint. The blending of this tea is excellent--spearmint could be overpowering but they use just the right amount of it. Slightly sweet spearmint is the primary flavor, then you taste a hint of lemon. The green tea provides an herbal base for these two flavors that makes the intial impression of zesty spearmint and lemon modulate into a substantial potion. Very nice and satisfying with a clean spearmint aftertaste.<br /><br />Remember that this tea does have caffeine--however, it does not say how much on the box. A good estimate might be 30 mg--compared to 90mg for the average cup of coffee. Make sure you time how long you brew this tea because if you brew too long it becomes bitter. Four minutes is ample.\n",
      "\n",
      "\n",
      "\n",
      "\n"
     ]
    }
   ],
   "source": [
    "print_cluster_reviews_k_medoids(clusters,cluster_number = 0, review_count = 3)\n",
    "print(\"\\n\\n\")\n",
    "print_cluster_reviews_k_medoids(clusters,cluster_number = 1, review_count = 3)\n",
    "print(\"\\n\\n\")\n",
    "print_cluster_reviews_k_medoids(clusters,cluster_number = 2, review_count = 3)\n",
    "print(\"\\n\\n\")"
   ]
  },
  {
   "cell_type": "code",
   "execution_count": 322,
   "metadata": {},
   "outputs": [
    {
     "name": "stdout",
     "output_type": "stream",
     "text": [
      "+-------+---------------------+---------------------+\n",
      "| S.NO. |        MODEL        | Number of Clusters  |\n",
      "+-------+---------------------+---------------------+\n",
      "|   1   |  K-means++ for BoW  |          4          |\n",
      "|   2   |  K-medoids for BoW  |          3          |\n",
      "|   3   | K-means++ for TFIDF |          6          |\n",
      "|   4   | K-medoids for TFIDF |          3          |\n",
      "+-------+---------------------+---------------------+\n"
     ]
    }
   ],
   "source": [
    "from prettytable import PrettyTable\n",
    "\n",
    "names = ['K-means++ for BoW','K-medoids for BoW','K-means++ for TFIDF','K-medoids for TFIDF']\n",
    "\n",
    "optimal_k = [4,3,6,3]\n",
    "\n",
    "numbering = [1,2,3,4]\n",
    "\n",
    "# Initializing prettytable\n",
    "table = PrettyTable()\n",
    "\n",
    "# Adding columns\n",
    "table.add_column(\"S.NO.\",numbering)\n",
    "table.add_column(\"MODEL\",names)\n",
    "table.add_column(\"Number of Clusters \",optimal_k)\n",
    "\n",
    "# Printing the Table\n",
    "print(table)"
   ]
  },
  {
   "cell_type": "code",
   "execution_count": 323,
   "metadata": {},
   "outputs": [
    {
     "data": {
      "text/html": [
       "<div>\n",
       "<style scoped>\n",
       "    .dataframe tbody tr th:only-of-type {\n",
       "        vertical-align: middle;\n",
       "    }\n",
       "\n",
       "    .dataframe tbody tr th {\n",
       "        vertical-align: top;\n",
       "    }\n",
       "\n",
       "    .dataframe thead th {\n",
       "        text-align: right;\n",
       "    }\n",
       "</style>\n",
       "<table border=\"1\" class=\"dataframe\">\n",
       "  <thead>\n",
       "    <tr style=\"text-align: right;\">\n",
       "      <th></th>\n",
       "      <th>Id</th>\n",
       "      <th>ProductId</th>\n",
       "      <th>UserId</th>\n",
       "      <th>ProfileName</th>\n",
       "      <th>HelpfulnessNumerator</th>\n",
       "      <th>HelpfulnessDenominator</th>\n",
       "      <th>Score</th>\n",
       "      <th>Time</th>\n",
       "      <th>Summary</th>\n",
       "      <th>Text</th>\n",
       "      <th>CleanedText</th>\n",
       "      <th>CleanedText_NoStem</th>\n",
       "    </tr>\n",
       "  </thead>\n",
       "  <tbody>\n",
       "    <tr>\n",
       "      <th>0</th>\n",
       "      <td>1</td>\n",
       "      <td>B001E4KFG0</td>\n",
       "      <td>A3SGXH7AUHU8GW</td>\n",
       "      <td>delmartian</td>\n",
       "      <td>1</td>\n",
       "      <td>1</td>\n",
       "      <td>5</td>\n",
       "      <td>1303862400</td>\n",
       "      <td>Good Quality Dog Food</td>\n",
       "      <td>I have bought several of the Vitality canned d...</td>\n",
       "      <td>b'bought sever vital can dog food product foun...</td>\n",
       "      <td>b''</td>\n",
       "    </tr>\n",
       "    <tr>\n",
       "      <th>1</th>\n",
       "      <td>2</td>\n",
       "      <td>B00813GRG4</td>\n",
       "      <td>A1D87F6ZCVE5NK</td>\n",
       "      <td>dll pa</td>\n",
       "      <td>0</td>\n",
       "      <td>0</td>\n",
       "      <td>1</td>\n",
       "      <td>1346976000</td>\n",
       "      <td>Not as Advertised</td>\n",
       "      <td>Product arrived labeled as Jumbo Salted Peanut...</td>\n",
       "      <td>b'product arriv label jumbo salt peanutsth pea...</td>\n",
       "      <td>b''</td>\n",
       "    </tr>\n",
       "    <tr>\n",
       "      <th>2</th>\n",
       "      <td>3</td>\n",
       "      <td>B000LQOCH0</td>\n",
       "      <td>ABXLMWJIXXAIN</td>\n",
       "      <td>Natalia Corres \"Natalia Corres\"</td>\n",
       "      <td>1</td>\n",
       "      <td>1</td>\n",
       "      <td>4</td>\n",
       "      <td>1219017600</td>\n",
       "      <td>\"Delight\" says it all</td>\n",
       "      <td>This is a confection that has been around a fe...</td>\n",
       "      <td>b'confect around centuri light pillowi citrus ...</td>\n",
       "      <td>b''</td>\n",
       "    </tr>\n",
       "    <tr>\n",
       "      <th>3</th>\n",
       "      <td>4</td>\n",
       "      <td>B000UA0QIQ</td>\n",
       "      <td>A395BORC6FGVXV</td>\n",
       "      <td>Karl</td>\n",
       "      <td>3</td>\n",
       "      <td>3</td>\n",
       "      <td>2</td>\n",
       "      <td>1307923200</td>\n",
       "      <td>Cough Medicine</td>\n",
       "      <td>If you are looking for the secret ingredient i...</td>\n",
       "      <td>b'look secret ingredi robitussin believ found ...</td>\n",
       "      <td>b''</td>\n",
       "    </tr>\n",
       "    <tr>\n",
       "      <th>4</th>\n",
       "      <td>5</td>\n",
       "      <td>B006K2ZZ7K</td>\n",
       "      <td>A1UQRSCLF8GW1T</td>\n",
       "      <td>Michael D. Bigham \"M. Wassir\"</td>\n",
       "      <td>0</td>\n",
       "      <td>0</td>\n",
       "      <td>5</td>\n",
       "      <td>1350777600</td>\n",
       "      <td>Great taffy</td>\n",
       "      <td>Great taffy at a great price.  There was a wid...</td>\n",
       "      <td>b'great taffi great price wide assort yummi ta...</td>\n",
       "      <td>b''</td>\n",
       "    </tr>\n",
       "  </tbody>\n",
       "</table>\n",
       "</div>"
      ],
      "text/plain": [
       "   Id   ProductId          UserId                      ProfileName  \\\n",
       "0   1  B001E4KFG0  A3SGXH7AUHU8GW                       delmartian   \n",
       "1   2  B00813GRG4  A1D87F6ZCVE5NK                           dll pa   \n",
       "2   3  B000LQOCH0   ABXLMWJIXXAIN  Natalia Corres \"Natalia Corres\"   \n",
       "3   4  B000UA0QIQ  A395BORC6FGVXV                             Karl   \n",
       "4   5  B006K2ZZ7K  A1UQRSCLF8GW1T    Michael D. Bigham \"M. Wassir\"   \n",
       "\n",
       "   HelpfulnessNumerator  HelpfulnessDenominator  Score        Time  \\\n",
       "0                     1                       1      5  1303862400   \n",
       "1                     0                       0      1  1346976000   \n",
       "2                     1                       1      4  1219017600   \n",
       "3                     3                       3      2  1307923200   \n",
       "4                     0                       0      5  1350777600   \n",
       "\n",
       "                 Summary                                               Text  \\\n",
       "0  Good Quality Dog Food  I have bought several of the Vitality canned d...   \n",
       "1      Not as Advertised  Product arrived labeled as Jumbo Salted Peanut...   \n",
       "2  \"Delight\" says it all  This is a confection that has been around a fe...   \n",
       "3         Cough Medicine  If you are looking for the secret ingredient i...   \n",
       "4            Great taffy  Great taffy at a great price.  There was a wid...   \n",
       "\n",
       "                                         CleanedText CleanedText_NoStem  \n",
       "0  b'bought sever vital can dog food product foun...                b''  \n",
       "1  b'product arriv label jumbo salt peanutsth pea...                b''  \n",
       "2  b'confect around centuri light pillowi citrus ...                b''  \n",
       "3  b'look secret ingredi robitussin believ found ...                b''  \n",
       "4  b'great taffi great price wide assort yummi ta...                b''  "
      ]
     },
     "execution_count": 323,
     "metadata": {},
     "output_type": "execute_result"
    }
   ],
   "source": [
    "#Naive Bayes\n",
    "\n",
    "\n",
    "final.head()"
   ]
  },
  {
   "cell_type": "code",
   "execution_count": 324,
   "metadata": {},
   "outputs": [],
   "source": [
    "from sklearn.model_selection import train_test_split\n",
    "##Sorting data according to Time in ascending order for Time Based Splitting\n",
    "time_sorted_data = final.sort_values('Time', axis=0, ascending=True, inplace=False, kind='quicksort', na_position='last')\n",
    "\n",
    "x = time_sorted_data['CleanedText'].values\n",
    "y = time_sorted_data['Score']\n",
    "\n",
    "# split the data set into train and test\n",
    "X_train, X_test, Y_train, Y_test = train_test_split(x, y, test_size=0.3, random_state=0)"
   ]
  },
  {
   "cell_type": "code",
   "execution_count": 325,
   "metadata": {},
   "outputs": [
    {
     "name": "stdout",
     "output_type": "stream",
     "text": [
      "the type of count vectorizer : <class 'scipy.sparse.csr.csr_matrix'>\n",
      "the shape of out text BOW vectorizer :  (5600, 1996)\n",
      "the number of unique words : 1996\n"
     ]
    }
   ],
   "source": [
    "count_vect = CountVectorizer(min_df = 10) \n",
    "X_train_vec = count_vect.fit_transform(X_train)\n",
    "X_test_vec = count_vect.transform(X_test)\n",
    "print(\"the type of count vectorizer :\",type(X_train_vec))\n",
    "print(\"the shape of out text BOW vectorizer : \",X_train_vec.get_shape())\n",
    "print(\"the number of unique words :\", X_train_vec.get_shape()[1])"
   ]
  },
  {
   "cell_type": "code",
   "execution_count": 326,
   "metadata": {},
   "outputs": [
    {
     "name": "stdout",
     "output_type": "stream",
     "text": [
      "\n",
      "The optimal value of alpha is 6.561.\n"
     ]
    }
   ],
   "source": [
    "# Importing libraries\n",
    "from sklearn.naive_bayes import BernoulliNB,MultinomialNB\n",
    "from sklearn.model_selection import cross_val_score\n",
    "from sklearn.metrics import accuracy_score,confusion_matrix,f1_score,precision_score,recall_score\n",
    "\n",
    "# Creating alpha values in the range from 10^-3 to 10^3\n",
    "neighbors = []\n",
    "i = 0.001\n",
    "while(i<=1000):\n",
    "    neighbors.append(np.round(i,3))\n",
    "    i *= 3\n",
    "\n",
    "# empty list that will hold cv scores\n",
    "cv_scores = []\n",
    "\n",
    "# perform 10-fold cross validation\n",
    "for k in neighbors:\n",
    "    bn = MultinomialNB(alpha = k)\n",
    "    scores = cross_val_score(bn, X_train_vec, Y_train, cv=10, scoring='accuracy', n_jobs=-1)\n",
    "    cv_scores.append(scores.mean())  \n",
    "    \n",
    "# determining best value of alpha\n",
    "optimal_alpha = neighbors[cv_scores.index(max(cv_scores))]\n",
    "print('\\nThe optimal value of alpha is %.3f.' % optimal_alpha)   "
   ]
  },
  {
   "cell_type": "code",
   "execution_count": 327,
   "metadata": {},
   "outputs": [
    {
     "data": {
      "image/png": "[encoded data removed]",
      "text/plain": [
       "<Figure size 432x288 with 1 Axes>"
      ]
     },
     "metadata": {
      "needs_background": "light"
     },
     "output_type": "display_data"
    },
    {
     "name": "stdout",
     "output_type": "stream",
     "text": [
      "\n",
      "\n",
      "Alpha values :\n",
      " [0.001, 0.003, 0.009, 0.027, 0.081, 0.243, 0.729, 2.187, 6.561, 19.683, 59.049, 177.147, 531.441]\n",
      "\n",
      "Accuracy for each alpha value is :\n",
      "  [0.63054 0.63179 0.63143 0.63161 0.63    0.63089 0.63464 0.64339 0.65143\n",
      " 0.63804 0.62696 0.62661 0.62661]\n"
     ]
    }
   ],
   "source": [
    "plt.plot(neighbors, cv_scores)\n",
    "plt.xlabel('Value of alpha',size=10)\n",
    "plt.ylabel('Accuracy',size=10)\n",
    "plt.title('Accuracy VS Alpha_Value Plot',size=16)\n",
    "plt.grid()\n",
    "plt.show()\n",
    "\n",
    "print(\"\\n\\nAlpha values :\\n\",neighbors)\n",
    "print(\"\\nAccuracy for each alpha value is :\\n \", np.round(cv_scores,5))"
   ]
  },
  {
   "cell_type": "code",
   "execution_count": 328,
   "metadata": {},
   "outputs": [
    {
     "name": "stdout",
     "output_type": "stream",
     "text": [
      "\n",
      "The Test Accuracy of the Multinomial naive Bayes classifier for alpha = 6.561 is 64.875000%\n"
     ]
    }
   ],
   "source": [
    "bn_optimal = MultinomialNB(alpha = optimal_alpha)\n",
    "\n",
    "# fitting the model\n",
    "bn_optimal.fit(X_train_vec, Y_train)\n",
    "\n",
    "# predict the response\n",
    "predictions = bn_optimal.predict(X_test_vec)\n",
    "\n",
    "# evaluate accuracy\n",
    "acc = accuracy_score(Y_test, predictions) * 100\n",
    "print('\\nThe Test Accuracy of the Multinomial naive Bayes classifier for alpha = %.3f is %f%%' % (optimal_alpha, acc))\n",
    "\n",
    "# Variables that will be used for  making table in Conclusion part of this assignment\n",
    "bow_multinomial_alpha = optimal_alpha\n",
    "bow_multinomial_train_acc = max(cv_scores)*100\n",
    "bow_multinomial_test_acc = acc"
   ]
  },
  {
   "cell_type": "code",
   "execution_count": 329,
   "metadata": {},
   "outputs": [
    {
     "data": {
      "text/plain": [
       "array([1, 2, 3, 4, 5], dtype=int64)"
      ]
     },
     "execution_count": 329,
     "metadata": {},
     "output_type": "execute_result"
    }
   ],
   "source": [
    "bn_optimal.classes_"
   ]
  },
  {
   "cell_type": "code",
   "execution_count": 330,
   "metadata": {},
   "outputs": [
    {
     "name": "stdout",
     "output_type": "stream",
     "text": [
      "Top 20 Important Features and their log probabilities For Negative Class :\n",
      "\n",
      "\n",
      "not\t -->\t-4.141136  \n",
      "like\t -->\t-4.819668  \n",
      "tast\t -->\t-4.835139  \n",
      "product\t -->\t-4.850853  \n",
      "tri\t -->\t-5.153747  \n",
      "would\t -->\t-5.208839  \n",
      "one\t -->\t-5.261158  \n",
      "food\t -->\t-5.285319  \n",
      "use\t -->\t-5.480488  \n",
      "buy\t -->\t-5.487947  \n",
      "flavor\t -->\t-5.495462  \n",
      "order\t -->\t-5.510665  \n",
      "eat\t -->\t-5.565770  \n",
      "even\t -->\t-5.582089  \n",
      "time\t -->\t-5.598679  \n",
      "good\t -->\t-5.607078  \n",
      "get\t -->\t-5.615548  \n",
      "amazon\t -->\t-5.686024  \n",
      "dont\t -->\t-5.713788  \n",
      "make\t -->\t-5.781735  \n",
      "\n",
      "\n",
      "Top 20 Important Features and their log probabilities For Positive Class :\n",
      "\n",
      "\n",
      "not\t -->\t-4.406291  \n",
      "tast\t -->\t-4.780190  \n",
      "like\t -->\t-4.784734  \n",
      "flavor\t -->\t-5.188922  \n",
      "product\t -->\t-5.209604  \n",
      "one\t -->\t-5.367755  \n",
      "good\t -->\t-5.426565  \n",
      "use\t -->\t-5.426565  \n",
      "tri\t -->\t-5.426565  \n",
      "drink\t -->\t-5.470797  \n",
      "would\t -->\t-5.545906  \n",
      "much\t -->\t-5.670340  \n",
      "get\t -->\t-5.681444  \n",
      "make\t -->\t-5.762826  \n",
      "juic\t -->\t-5.787349  \n",
      "food\t -->\t-5.838276  \n",
      "buy\t -->\t-5.838276  \n",
      "sugar\t -->\t-5.878249  \n",
      "water\t -->\t-5.919886  \n",
      "mix\t -->\t-5.919886  \n"
     ]
    }
   ],
   "source": [
    "# Now we can find log probabilities of different features for both the classes\n",
    "class_features = bn_optimal.feature_log_prob_\n",
    "\n",
    "#  row_0 is for 'negative' class and row_1 is for 'positive' class\n",
    "negative_features = class_features[0]\n",
    "positive_features = class_features[1]\n",
    "\n",
    "# Getting all feature names\n",
    "feature_names = count_vect.get_feature_names()\n",
    "\n",
    "# Sorting 'negative_features' and 'positive_features' in descending order using argsort() function\n",
    "sorted_negative_features = np.argsort(negative_features)[::-1]\n",
    "sorted_positive_features = np.argsort(positive_features)[::-1]\n",
    "\n",
    "print(\"Top 20 Important Features and their log probabilities For Negative Class :\\n\\n\")\n",
    "for i in list(sorted_negative_features[0:20]):\n",
    "    print(\"%s\\t -->\\t%f  \"%(feature_names[i],negative_features[i]))\n",
    "    \n",
    "print(\"\\n\\nTop 20 Important Features and their log probabilities For Positive Class :\\n\\n\")\n",
    "for i in list(sorted_positive_features[0:20]):\n",
    "    print(\"%s\\t -->\\t%f  \"%(feature_names[i],positive_features[i]))    "
   ]
  },
  {
   "cell_type": "code",
   "execution_count": 331,
   "metadata": {},
   "outputs": [
    {
     "name": "stdout",
     "output_type": "stream",
     "text": [
      "\n",
      "The Test Accuracy of the Multinomial naive Bayes classifier for alpha = 6.561 is 64.875000%\n",
      "\n",
      "The Test Precision of the Multinomial naive Bayes classifier for alpha = 6.561 is 0.568277\n",
      "\n",
      "The Test Recall of the Multinomial naive Bayes classifier for alpha = 6.561 is 0.648750\n",
      "\n",
      "The Test F1-Score of the Multinomial naive Bayes classifier for alpha = 6.561 is 0.592080\n"
     ]
    }
   ],
   "source": [
    "# evaluate accuracy\n",
    "acc = accuracy_score(Y_test, predictions) * 100\n",
    "print('\\nThe Test Accuracy of the Multinomial naive Bayes classifier for alpha = %.3f is %f%%' % (optimal_alpha, acc))\n",
    "\n",
    "# evaluate precision\n",
    "acc = precision_score(Y_test, predictions, pos_label = 'positive',average='weighted') \n",
    "print('\\nThe Test Precision of the Multinomial naive Bayes classifier for alpha = %.3f is %f' % (optimal_alpha, acc))\n",
    "\n",
    "# evaluate recall\n",
    "acc = recall_score(Y_test, predictions, pos_label = 'positive',average='weighted')\n",
    "print('\\nThe Test Recall of the Multinomial naive Bayes classifier for alpha = %.3f is %f' % (optimal_alpha, acc))\n",
    "\n",
    "# evaluate f1-score\n",
    "acc = f1_score(Y_test, predictions, pos_label = 'positive',average='weighted')\n",
    "print('\\nThe Test F1-Score of the Multinomial naive Bayes classifier for alpha = %.3f is %f' % (optimal_alpha, acc))\n"
   ]
  },
  {
   "cell_type": "code",
   "execution_count": 332,
   "metadata": {},
   "outputs": [],
   "source": [
    "# Code for drawing seaborn heatmaps\n",
    "#class_names = ['negative','positive']\n",
    "#df_heatmap = pd.DataFrame(confusion_matrix(Y_test, predictions), index=class_names, columns=class_names )\n",
    "#fig = plt.figure(figsize=(10,7))\n",
    "#heatmap = sns.heatmap(df_heatmap, annot=True, fmt=\"d\")\n",
    "\n",
    "# Setting tick labels for heatmap\n",
    "#heatmap.yaxis.set_ticklabels(heatmap.yaxis.get_ticklabels(), rotation=0, ha='right', fontsize=14)\n",
    "#heatmap.xaxis.set_ticklabels(heatmap.xaxis.get_ticklabels(), rotation=0, ha='right', fontsize=14)\n",
    "#plt.ylabel('Predicted label',size=18)\n",
    "#plt.xlabel('True label',size=18)\n",
    "#plt.title(\"Confusion Matrix\\n\",size=24)\n",
    "#plt.show()"
   ]
  },
  {
   "cell_type": "code",
   "execution_count": 333,
   "metadata": {},
   "outputs": [
    {
     "name": "stdout",
     "output_type": "stream",
     "text": [
      "the type of count vectorizer : <class 'scipy.sparse.csr.csr_matrix'>\n",
      "the shape of out text TFIDF vectorizer :  (5600, 1996)\n",
      "the number of unique words : 1996\n"
     ]
    }
   ],
   "source": [
    "tf_idf_vect = TfidfVectorizer(min_df=10)\n",
    "X_train_vec = tf_idf_vect.fit_transform(X_train)\n",
    "X_test_vec = tf_idf_vect.transform(X_test)\n",
    "print(\"the type of count vectorizer :\",type(X_train_vec))\n",
    "print(\"the shape of out text TFIDF vectorizer : \",X_train_vec.get_shape())\n",
    "print(\"the number of unique words :\", X_train_vec.get_shape()[1])"
   ]
  },
  {
   "cell_type": "code",
   "execution_count": 334,
   "metadata": {},
   "outputs": [
    {
     "name": "stdout",
     "output_type": "stream",
     "text": [
      "\n",
      "The optimal value of alpha is 0.081.\n"
     ]
    }
   ],
   "source": [
    "# Creating alpha values in the range from 10^-3 to 10^3\n",
    "neighbors = []\n",
    "i = 0.001\n",
    "while(i<=1000):\n",
    "    neighbors.append(np.round(i,3))\n",
    "    i *= 3\n",
    "\n",
    "# empty list that will hold cv scores\n",
    "cv_scores = []\n",
    "\n",
    "# perform 10-fold cross validation\n",
    "for k in neighbors:\n",
    "    bn = MultinomialNB(alpha = k)\n",
    "    scores = cross_val_score(bn, X_train_vec, Y_train, cv=10, scoring='accuracy', n_jobs=-1)\n",
    "    cv_scores.append(scores.mean())  \n",
    "    \n",
    "# determining best value of alpha\n",
    "optimal_alpha = neighbors[cv_scores.index(max(cv_scores))]\n",
    "print('\\nThe optimal value of alpha is %.3f.' % optimal_alpha)"
   ]
  },
  {
   "cell_type": "code",
   "execution_count": 335,
   "metadata": {},
   "outputs": [
    {
     "data": {
      "image/png": "[encoded data removed]",
      "text/plain": [
       "<Figure size 432x288 with 1 Axes>"
      ]
     },
     "metadata": {
      "needs_background": "light"
     },
     "output_type": "display_data"
    },
    {
     "name": "stdout",
     "output_type": "stream",
     "text": [
      "\n",
      "\n",
      "Alpha values :\n",
      " [0.001, 0.003, 0.009, 0.027, 0.081, 0.243, 0.729, 2.187, 6.561, 19.683, 59.049, 177.147, 531.441]\n",
      "\n",
      "Accuracy for each alpha value is :\n",
      "  [0.65054 0.65161 0.65125 0.65179 0.65179 0.65    0.64018 0.62732 0.62661\n",
      " 0.62661 0.62661 0.62661 0.62661]\n"
     ]
    }
   ],
   "source": [
    "# plot accuracy vs alpha \n",
    "plt.plot(neighbors, cv_scores)\n",
    "plt.xlabel('Value of alpha',size=10)\n",
    "plt.ylabel('Accuracy',size=10)\n",
    "plt.title('Accuracy VS Alpha_Value Plot',size=16)\n",
    "plt.grid()\n",
    "plt.show()\n",
    "\n",
    "print(\"\\n\\nAlpha values :\\n\",neighbors)\n",
    "print(\"\\nAccuracy for each alpha value is :\\n \", np.round(cv_scores,5))"
   ]
  },
  {
   "cell_type": "code",
   "execution_count": 336,
   "metadata": {},
   "outputs": [
    {
     "name": "stdout",
     "output_type": "stream",
     "text": [
      "\n",
      "The Test Accuracy of the Multinomial naive Bayes classifier for alpha = 0.081 is 65.208333%\n"
     ]
    }
   ],
   "source": [
    "# ============================== Multinomial Naive Bayes with alpha = optimal_alpha ==============================================\n",
    "# instantiate learning model alpha = optimal_alpha\n",
    "bn_optimal = MultinomialNB(alpha = optimal_alpha)\n",
    "\n",
    "# fitting the model\n",
    "bn_optimal.fit(X_train_vec, Y_train)\n",
    "\n",
    "# predict the response\n",
    "predictions = bn_optimal.predict(X_test_vec)\n",
    "\n",
    "# evaluate accuracy\n",
    "acc = accuracy_score(Y_test, predictions) * 100\n",
    "print('\\nThe Test Accuracy of the Multinomial naive Bayes classifier for alpha = %.3f is %f%%' % (optimal_alpha, acc))\n",
    "\n",
    "# Variables that will be used for  making table in Conclusion part of this assignment\n",
    "tfidf_multinomial_alpha = optimal_alpha\n",
    "tfidf_multinomial_train_acc = max(cv_scores)*100\n",
    "tfidf_multinomial_test_acc = acc"
   ]
  },
  {
   "cell_type": "code",
   "execution_count": 337,
   "metadata": {},
   "outputs": [
    {
     "data": {
      "text/plain": [
       "array([1, 2, 3, 4, 5], dtype=int64)"
      ]
     },
     "execution_count": 337,
     "metadata": {},
     "output_type": "execute_result"
    }
   ],
   "source": [
    "bn_optimal.classes_"
   ]
  },
  {
   "cell_type": "code",
   "execution_count": 338,
   "metadata": {},
   "outputs": [
    {
     "name": "stdout",
     "output_type": "stream",
     "text": [
      "Top 20 Important Features and their log probabilities For Negative Class :\n",
      "\n",
      "\n",
      "not\t -->\t-4.348797  \n",
      "tast\t -->\t-4.872224  \n",
      "product\t -->\t-4.885766  \n",
      "like\t -->\t-4.942006  \n",
      "would\t -->\t-5.187617  \n",
      "tri\t -->\t-5.254155  \n",
      "order\t -->\t-5.345365  \n",
      "even\t -->\t-5.355095  \n",
      "disappoint\t -->\t-5.366358  \n",
      "buy\t -->\t-5.376213  \n",
      "one\t -->\t-5.387385  \n",
      "food\t -->\t-5.422890  \n",
      "flavor\t -->\t-5.517160  \n",
      "eat\t -->\t-5.518309  \n",
      "dont\t -->\t-5.547883  \n",
      "get\t -->\t-5.551828  \n",
      "box\t -->\t-5.557673  \n",
      "tea\t -->\t-5.599638  \n",
      "use\t -->\t-5.604971  \n",
      "item\t -->\t-5.606040  \n",
      "\n",
      "\n",
      "Top 20 Important Features and their log probabilities For Positive Class :\n",
      "\n",
      "\n",
      "not\t -->\t-4.481591  \n",
      "tast\t -->\t-4.688971  \n",
      "like\t -->\t-4.801147  \n",
      "product\t -->\t-5.109593  \n",
      "flavor\t -->\t-5.131915  \n",
      "drink\t -->\t-5.207848  \n",
      "tri\t -->\t-5.224336  \n",
      "would\t -->\t-5.286671  \n",
      "one\t -->\t-5.361550  \n",
      "good\t -->\t-5.390990  \n",
      "use\t -->\t-5.396413  \n",
      "juic\t -->\t-5.459892  \n",
      "much\t -->\t-5.540440  \n",
      "tea\t -->\t-5.542983  \n",
      "orang\t -->\t-5.560375  \n",
      "get\t -->\t-5.592415  \n",
      "buy\t -->\t-5.593757  \n",
      "water\t -->\t-5.630650  \n",
      "sugar\t -->\t-5.633430  \n",
      "dont\t -->\t-5.659231  \n"
     ]
    }
   ],
   "source": [
    "# Now we can find log probabilities of different features for both the classes\n",
    "class_features = bn_optimal.feature_log_prob_\n",
    "\n",
    "#  row_0 is for 'negative' class and row_1 is for 'positive' class\n",
    "negative_features = class_features[0]\n",
    "positive_features = class_features[1]\n",
    "\n",
    "# Getting all feature names\n",
    "feature_names = tf_idf_vect.get_feature_names()\n",
    "\n",
    "# Sorting 'negative_features' and 'positive_features' in descending order using argsort() function\n",
    "sorted_negative_features = np.argsort(negative_features)[::-1]\n",
    "sorted_positive_features = np.argsort(positive_features)[::-1]\n",
    "\n",
    "print(\"Top 20 Important Features and their log probabilities For Negative Class :\\n\\n\")\n",
    "for i in list(sorted_negative_features[0:20]):\n",
    "    print(\"%s\\t -->\\t%f  \"%(feature_names[i],negative_features[i]))\n",
    "    \n",
    "print(\"\\n\\nTop 20 Important Features and their log probabilities For Positive Class :\\n\\n\")\n",
    "for i in list(sorted_positive_features[0:20]):\n",
    "    print(\"%s\\t -->\\t%f  \"%(feature_names[i],positive_features[i]))    "
   ]
  },
  {
   "cell_type": "code",
   "execution_count": 339,
   "metadata": {},
   "outputs": [
    {
     "name": "stdout",
     "output_type": "stream",
     "text": [
      "\n",
      "The Test Accuracy of the Multinomial naive Bayes classifier for alpha = 0.081 is 65.208333%\n",
      "\n",
      "The Test Precision of the Multinomial naive Bayes classifier for alpha = 0.081 is 0.588972\n",
      "\n",
      "The Test Recall of the Multinomial naive Bayes classifier for alpha = 0.081 is 0.652083\n",
      "\n",
      "The Test F1-Score of the Multinomial naive Bayes classifier for alpha = 0.081 is 0.560796\n"
     ]
    }
   ],
   "source": [
    "# evaluate accuracy\n",
    "acc = accuracy_score(Y_test, predictions) * 100\n",
    "print('\\nThe Test Accuracy of the Multinomial naive Bayes classifier for alpha = %.3f is %f%%' % (optimal_alpha, acc))\n",
    "\n",
    "# evaluate precision\n",
    "acc = precision_score(Y_test, predictions,average='weighted') \n",
    "print('\\nThe Test Precision of the Multinomial naive Bayes classifier for alpha = %.3f is %f' % (optimal_alpha, acc))\n",
    "\n",
    "# evaluate recall\n",
    "acc = recall_score(Y_test, predictions,average='weighted')\n",
    "print('\\nThe Test Recall of the Multinomial naive Bayes classifier for alpha = %.3f is %f' % (optimal_alpha, acc))\n",
    "\n",
    "# evaluate f1-score\n",
    "acc = f1_score(Y_test, predictions,average='weighted')\n",
    "print('\\nThe Test F1-Score of the Multinomial naive Bayes classifier for alpha = %.3f is %f' % (optimal_alpha, acc))\n"
   ]
  },
  {
   "cell_type": "code",
   "execution_count": 340,
   "metadata": {},
   "outputs": [],
   "source": [
    "# Code for drawing seaborn heatmaps\n",
    "#class_names = ['negative','positive']\n",
    "#df_heatmap = pd.DataFrame(confusion_matrix(Y_test, predictions), index=class_names, columns=class_names )\n",
    "#fig = plt.figure(figsize=(10,7))\n",
    "#heatmap = sns.heatmap(df_heatmap, annot=True, fmt=\"d\")\n",
    "\n",
    "# Setting tick labels for heatmap\n",
    "#heatmap.yaxis.set_ticklabels(heatmap.yaxis.get_ticklabels(), rotation=0, ha='right', fontsize=14)\n",
    "#heatmap.xaxis.set_ticklabels(heatmap.xaxis.get_ticklabels(), rotation=0, ha='right', fontsize=14)\n",
    "#plt.ylabel('Predicted label',size=18)\n",
    "#plt.xlabel('True label',size=18)\n",
    "#plt.title(\"Confusion Matrix\\n\",size=24)\n",
    "#plt.show()"
   ]
  },
  {
   "cell_type": "code",
   "execution_count": 341,
   "metadata": {},
   "outputs": [
    {
     "name": "stdout",
     "output_type": "stream",
     "text": [
      "+-------+-------------------------+------------+-------------------+-------------------+\n",
      "| S.NO. |          MODEL          | Best Alpha | Training Accuracy |   Test Accuracy   |\n",
      "+-------+-------------------------+------------+-------------------+-------------------+\n",
      "|   1   |  MultinomialNB for BoW  |   6.561    | 65.14285714285715 |       64.875      |\n",
      "|   2   | MultinomialNB for TFIDF |   0.081    | 65.17857142857143 | 65.20833333333333 |\n",
      "+-------+-------------------------+------------+-------------------+-------------------+\n"
     ]
    }
   ],
   "source": [
    "# Creating table using PrettyTable library\n",
    "from prettytable import PrettyTable\n",
    "\n",
    "names = [\"MultinomialNB for BoW\", \"MultinomialNB for TFIDF\"]\n",
    "\n",
    "optimal_alpha = [bow_multinomial_alpha, tfidf_multinomial_alpha]\n",
    "\n",
    "train_acc = [bow_multinomial_train_acc, tfidf_multinomial_train_acc]\n",
    "\n",
    "test_acc = [bow_multinomial_test_acc,  tfidf_multinomial_test_acc]\n",
    "\n",
    "numbering = [1,2]\n",
    "\n",
    "# Initializing prettytable\n",
    "ptable = PrettyTable()\n",
    "\n",
    "# Adding columns\n",
    "ptable.add_column(\"S.NO.\",numbering)\n",
    "ptable.add_column(\"MODEL\",names)\n",
    "ptable.add_column(\"Best Alpha\",optimal_alpha)\n",
    "ptable.add_column(\"Training Accuracy\",train_acc)\n",
    "ptable.add_column(\"Test Accuracy\",test_acc)\n",
    "\n",
    "# Printing the Table\n",
    "print(ptable)"
   ]
  },
  {
   "cell_type": "code",
   "execution_count": 342,
   "metadata": {},
   "outputs": [
    {
     "name": "stdout",
     "output_type": "stream",
     "text": [
      "Test Data Size:  (2400, 12378)\n",
      "Train Data Size:  (5600, 12378)\n"
     ]
    }
   ],
   "source": [
    "#logistic Regression\n",
    "\n",
    "from sklearn.feature_extraction.text import CountVectorizer\n",
    "from sklearn.model_selection import train_test_split\n",
    "from sklearn import preprocessing\n",
    "\n",
    "#Breaking into Train and test\n",
    "X_train, X_test, y_train, y_test = train_test_split(final['CleanedText'].values,final['Score'].values,test_size=0.3,shuffle=False)\n",
    "\n",
    "#Text -> Uni gram Vectors\n",
    "uni_gram = CountVectorizer() \n",
    "X_train = uni_gram.fit_transform(X_train)\n",
    "#Normalize Data\n",
    "X_train = preprocessing.normalize(X_train)\n",
    "\n",
    "X_test = uni_gram.transform(X_test)\n",
    "#Normalize Data\n",
    "X_test = preprocessing.normalize(X_test)\n",
    "from sklearn.preprocessing import StandardScaler\n",
    "sc = StandardScaler(with_mean=False)\n",
    "X_train = sc.fit_transform(X_train)\n",
    "X_test= sc.transform(X_test)\n",
    "print(\"Test Data Size: \",X_test.shape)\n",
    "print(\"Train Data Size: \",X_train.shape)"
   ]
  },
  {
   "cell_type": "code",
   "execution_count": 343,
   "metadata": {},
   "outputs": [
    {
     "name": "stdout",
     "output_type": "stream",
     "text": [
      "(510, 12378) (509, 12378)\n",
      "(1019, 12378) (509, 12378)\n",
      "(1528, 12378) (509, 12378)\n",
      "(2037, 12378) (509, 12378)\n",
      "(2546, 12378) (509, 12378)\n",
      "(3055, 12378) (509, 12378)\n",
      "(3564, 12378) (509, 12378)\n",
      "(4073, 12378) (509, 12378)\n",
      "(4582, 12378) (509, 12378)\n",
      "(5091, 12378) (509, 12378)\n"
     ]
    }
   ],
   "source": [
    "#To show how Time Series Split splits the data\n",
    "from sklearn.model_selection import TimeSeriesSplit\n",
    "tscv = TimeSeriesSplit(n_splits=10)\n",
    "for train, cv in tscv.split(X_train):\n",
    "#     print(\"%s %s\" % (train, cv))\n",
    "    print(X_train[train].shape, X_train[cv].shape)"
   ]
  },
  {
   "cell_type": "code",
   "execution_count": 344,
   "metadata": {},
   "outputs": [
    {
     "name": "stdout",
     "output_type": "stream",
     "text": [
      "Wall time: 0 ns\n",
      "Fitting 10 folds for each of 30 candidates, totalling 300 fits\n"
     ]
    },
    {
     "name": "stderr",
     "output_type": "stream",
     "text": [
      "[Parallel(n_jobs=1)]: Using backend SequentialBackend with 1 concurrent workers.\n",
      "[Parallel(n_jobs=1)]: Done 300 out of 300 | elapsed:  5.5min finished\n"
     ]
    },
    {
     "name": "stdout",
     "output_type": "stream",
     "text": [
      "Best HyperParameter:  {'C': 0.005, 'penalty': 'l2'}\n",
      "Best Accuracy: 63.28%\n"
     ]
    }
   ],
   "source": [
    "#GridSearchCV\n",
    "%time\n",
    "from sklearn.model_selection import GridSearchCV\n",
    "from sklearn.linear_model import LogisticRegression\n",
    "\n",
    "clf = LogisticRegression()\n",
    "#params we need to try on classifier\n",
    "param_grid = {'C':[1000,500,100,50,10,5,1,0.5,0.1,0.05,0.01,0.005,0.001,0.0005,0.0001],\n",
    "             'penalty':['l1','l2']} \n",
    "tscv = TimeSeriesSplit(n_splits=10) #For time based splitting\n",
    "gsv = GridSearchCV(clf,param_grid,cv=tscv,verbose=1,scoring='f1_micro')\n",
    "gsv.fit(X_train,y_train)\n",
    "#savetofile(gsv,\"Log Reg/gsv_bi\")\n",
    "print(\"Best HyperParameter: \",gsv.best_params_)\n",
    "print(\"Best Accuracy: %.2f%%\"%(gsv.best_score_*100))"
   ]
  },
  {
   "cell_type": "code",
   "execution_count": 345,
   "metadata": {},
   "outputs": [],
   "source": []
  },
  {
   "cell_type": "code",
   "execution_count": 346,
   "metadata": {},
   "outputs": [],
   "source": []
  },
  {
   "cell_type": "code",
   "execution_count": 364,
   "metadata": {},
   "outputs": [
    {
     "name": "stdout",
     "output_type": "stream",
     "text": [
      "Accuracy on train set: 99.679%\n",
      "Precision on train set: 0.997\n",
      "Recall on train set: 0.997\n",
      "F1-Score on train set: 0.997\n",
      "Non Zero weights: 61890\n",
      "Confusion Matrix of train set:\n",
      " [ [TN  FP]\n",
      " [FN TP] ]\n",
      "\n"
     ]
    }
   ],
   "source": [
    "from sklearn.metrics import accuracy_score\n",
    "from sklearn.metrics import precision_score,recall_score,f1_score,confusion_matrix,classification_report\n",
    "import seaborn as sns\n",
    "from pylab import *\n",
    "import matplotlib.pyplot as plt\n",
    "clf = LogisticRegression(C= 0.005, penalty= 'l2')\n",
    "clf.fit(X_train,y_train)\n",
    "y_train_pred = clf.predict(X_train)\n",
    "y_pred = clf.predict(X_test)\n",
    "print(\"Accuracy on train set: %0.3f%%\"%(accuracy_score(y_train, y_train_pred)*100))\n",
    "print(\"Precision on train set: %0.3f\"%(precision_score(y_train, y_train_pred,average='weighted')))\n",
    "print(\"Recall on train set: %0.3f\"%(recall_score(y_train, y_train_pred,average='weighted')))\n",
    "print(\"F1-Score on train set: %0.3f\"%(f1_score(y_train, y_train_pred,average='weighted')))\n",
    "print(\"Non Zero weights:\",np.count_nonzero(clf.coef_))\n",
    "print(\"Confusion Matrix of train set:\\n [ [TN  FP]\\n [FN TP] ]\\n\")"
   ]
  },
  {
   "cell_type": "code",
   "execution_count": 365,
   "metadata": {},
   "outputs": [
    {
     "name": "stdout",
     "output_type": "stream",
     "text": [
      "Accuracy on test set: 58.458%\n",
      "Precision on test set: 0.514\n",
      "Recall on test set: 0.585\n",
      "F1-Score on test set: 0.534\n",
      "Non Zero weights: 61890\n",
      "Confusion Matrix of test set:\n",
      " [ [TN  FP]\n",
      " [FN TP] ]\n",
      "\n"
     ]
    }
   ],
   "source": [
    "print(\"Accuracy on test set: %0.3f%%\"%(accuracy_score(y_test, y_pred)*100))\n",
    "print(\"Precision on test set: %0.3f\"%(precision_score(y_test, y_pred,average='weighted')))\n",
    "print(\"Recall on test set: %0.3f\"%(recall_score(y_test, y_pred,average='weighted')))\n",
    "print(\"F1-Score on test set: %0.3f\"%(f1_score(y_test, y_pred,average='weighted')))\n",
    "print(\"Non Zero weights:\",np.count_nonzero(clf.coef_))\n",
    "print(\"Confusion Matrix of test set:\\n [ [TN  FP]\\n [FN TP] ]\\n\")\n",
    "#print('Confusion matrix for the model is:')"
   ]
  },
  {
   "cell_type": "code",
   "execution_count": 349,
   "metadata": {},
   "outputs": [
    {
     "name": "stdout",
     "output_type": "stream",
     "text": [
      "Wall time: 0 ns\n",
      "Fitting 10 folds for each of 10 candidates, totalling 100 fits\n"
     ]
    },
    {
     "name": "stderr",
     "output_type": "stream",
     "text": [
      "[Parallel(n_jobs=1)]: Using backend SequentialBackend with 1 concurrent workers.\n",
      "[Parallel(n_jobs=1)]: Done 100 out of 100 | elapsed:  2.0min finished\n"
     ]
    },
    {
     "name": "stdout",
     "output_type": "stream",
     "text": [
      "Best HyperParameter:  {'penalty': 'l2', 'C': 0.01}\n",
      "Best Accuracy: 63.24%\n"
     ]
    }
   ],
   "source": [
    "#Using Randomized Search CV to find best parameters\n",
    "%time\n",
    "from sklearn.model_selection import RandomizedSearchCV\n",
    "from sklearn.linear_model import LogisticRegression\n",
    "\n",
    "clf = LogisticRegression()\n",
    "#params we need to try on classifier\n",
    "param_grid = { 'C':[1000,500,100,50,10,5,1,0.5,0.1,0.05,0.01,0.005,0.001,0.0005,0.0001],\n",
    "              'penalty':['l1','l2']}\n",
    "tscv = TimeSeriesSplit(n_splits=10) #For time based splitting\n",
    "gsv = RandomizedSearchCV(clf,param_grid,cv=tscv,verbose=1,scoring='f1_micro')\n",
    "gsv.fit(X_train,y_train)\n",
    "#savetofile(gsv,\"Log Reg/gsv_uni_r\")\n",
    "print(\"Best HyperParameter: \",gsv.best_params_)\n",
    "print(\"Best Accuracy: %.2f%%\"%(gsv.best_score_*100))"
   ]
  },
  {
   "cell_type": "code",
   "execution_count": 350,
   "metadata": {},
   "outputs": [],
   "source": []
  },
  {
   "cell_type": "code",
   "execution_count": 351,
   "metadata": {},
   "outputs": [
    {
     "name": "stdout",
     "output_type": "stream",
     "text": [
      "Accuracy on train set: 73.875%\n",
      "Precision on train set: 0.815\n",
      "Recall on train set: 0.739\n",
      "F1-Score on train set: 0.739\n",
      "Non Zero weights: 61890\n",
      "Confusion Matrix of train set:\n",
      " [ [TN  FP]\n",
      " [FN TP] ]\n",
      "\n",
      "Accuracy on test set: 60.917%\n",
      "Precision on test set: 0.468\n",
      "Recall on test set: 0.609\n",
      "F1-Score on test set: 0.468\n",
      "Non Zero weights: 61890\n",
      "Confusion Matrix of test set:\n",
      " [ [TN  FP]\n",
      " [FN TP] ]\n",
      "\n"
     ]
    }
   ],
   "source": [
    "clf = LogisticRegression(C= 0.0001, penalty= 'l2')\n",
    "clf.fit(X_train,y_train)\n",
    "y_train_pred = clf.predict(X_train)\n",
    "y_pred = clf.predict(X_test)\n",
    "print(\"Accuracy on train set: %0.3f%%\"%(accuracy_score(y_train, y_train_pred)*100))\n",
    "print(\"Precision on train set: %0.3f\"%(precision_score(y_train, y_train_pred,average='weighted')))\n",
    "print(\"Recall on train set: %0.3f\"%(recall_score(y_train, y_train_pred,average='weighted')))\n",
    "print(\"F1-Score on train set: %0.3f\"%(f1_score(y_train, y_train_pred,average='micro')))\n",
    "print(\"Non Zero weights:\",np.count_nonzero(clf.coef_))\n",
    "print(\"Confusion Matrix of train set:\\n [ [TN  FP]\\n [FN TP] ]\\n\")\n",
    "#plot_confusion_matrix(y_train, y_train_pred)\n",
    "print(\"Accuracy on test set: %0.3f%%\"%(accuracy_score(y_test, y_pred)*100))\n",
    "print(\"Precision on test set: %0.3f\"%(precision_score(y_test, y_pred,average='weighted')))\n",
    "print(\"Recall on test set: %0.3f\"%(recall_score(y_test, y_pred,average='weighted')))\n",
    "print(\"F1-Score on test set: %0.3f\"%(f1_score(y_test, y_pred,average='weighted')))\n",
    "print(\"Non Zero weights:\",np.count_nonzero(clf.coef_))\n",
    "print(\"Confusion Matrix of test set:\\n [ [TN  FP]\\n [FN TP] ]\\n\")"
   ]
  },
  {
   "cell_type": "code",
   "execution_count": 352,
   "metadata": {},
   "outputs": [
    {
     "name": "stdout",
     "output_type": "stream",
     "text": [
      "Train Data Size:  (5600, 141281)\n",
      "Test Data Size:  (2400, 141281)\n"
     ]
    }
   ],
   "source": [
    "#Bi-Grams\n",
    "#Now that we have our list of words describing positive and negative reviews lets analyse them.\n",
    "#We begin analysis by getting the frequency distribution of the words as shown below\n",
    "#Breaking into Train and test\n",
    "X_train, X_test, y_train, y_test = train_test_split(final['CleanedText'].values,final['Score'].values,test_size=0.3,shuffle=False)\n",
    "\n",
    "#taking one words and two consecutive words together\n",
    "bi_gram = CountVectorizer(ngram_range=(1,2)) \n",
    "X_train = bi_gram.fit_transform(X_train)\n",
    "#Normalize Data\n",
    "X_train = preprocessing.normalize(X_train)\n",
    "\n",
    "X_test = bi_gram.transform(X_test)\n",
    "#Normalize Data\n",
    "X_test = preprocessing.normalize(X_test)\n",
    "from sklearn.preprocessing import StandardScaler\n",
    "sc = StandardScaler(with_mean=False)\n",
    "X_train = sc.fit_transform(X_train)\n",
    "X_test= sc.transform(X_test)\n",
    "print(\"Train Data Size: \",X_train.shape)\n",
    "print(\"Test Data Size: \",X_test.shape)"
   ]
  },
  {
   "cell_type": "code",
   "execution_count": 353,
   "metadata": {},
   "outputs": [
    {
     "name": "stdout",
     "output_type": "stream",
     "text": [
      "Wall time: 0 ns\n",
      "Fitting 10 folds for each of 8 candidates, totalling 80 fits\n"
     ]
    },
    {
     "name": "stderr",
     "output_type": "stream",
     "text": [
      "[Parallel(n_jobs=1)]: Using backend SequentialBackend with 1 concurrent workers.\n",
      "[Parallel(n_jobs=1)]: Done  80 out of  80 | elapsed: 16.6min finished\n"
     ]
    },
    {
     "name": "stdout",
     "output_type": "stream",
     "text": [
      "Best HyperParameter:  {'C': 100, 'penalty': 'l2'}\n",
      "Best Accuracy: 62.75%\n"
     ]
    }
   ],
   "source": [
    "%time\n",
    "from sklearn.model_selection import GridSearchCV\n",
    "from sklearn.linear_model import LogisticRegression\n",
    "\n",
    "clf = LogisticRegression()\n",
    "#params we need to try on classifier\n",
    "#param_grid = {'C':[1000,500,100,50,10,5,1,0.5,0.1,0.05,0.01,0.005,0.001,0.0005,0.0001],\n",
    "param_grid = {'C':[1000,100,10,0.01],\n",
    "             'penalty':['l1','l2']} \n",
    "tscv = TimeSeriesSplit(n_splits=10) #For time based splitting\n",
    "gsv = GridSearchCV(clf,param_grid,cv=tscv,verbose=1,scoring='f1_micro')\n",
    "gsv.fit(X_train,y_train)\n",
    "#savetofile(gsv,\"Log Reg/gsv_bi\")\n",
    "print(\"Best HyperParameter: \",gsv.best_params_)\n",
    "print(\"Best Accuracy: %.2f%%\"%(gsv.best_score_*100))"
   ]
  },
  {
   "cell_type": "code",
   "execution_count": 354,
   "metadata": {},
   "outputs": [
    {
     "name": "stdout",
     "output_type": "stream",
     "text": [
      "Accuracy on train set: 100.000%\n",
      "Precision on train set: 1.000\n",
      "Recall on train set: 1.000\n",
      "F1-Score on train set: 1.000\n",
      "Non Zero weights: 706405\n",
      "Confusion Matrix of train set:\n",
      " [ [TN  FP]\n",
      " [FN TP] ]\n",
      "\n",
      "Accuracy on test set: 61.000%\n",
      "Precision on test set: 0.519\n",
      "Recall on test set: 0.610\n",
      "F1-Score on test set: 0.463\n",
      "Non Zero weights: 706405\n",
      "Confusion Matrix of test set:\n",
      " [ [TN  FP]\n",
      " [FN TP] ]\n",
      "\n"
     ]
    }
   ],
   "source": [
    "clf = LogisticRegression(C= 0.01, penalty= 'l2')\n",
    "clf.fit(X_train,y_train)\n",
    "y_train_pred = clf.predict(X_train)\n",
    "y_pred = clf.predict(X_test)\n",
    "print(\"Accuracy on train set: %0.3f%%\"%(accuracy_score(y_train, y_train_pred)*100))\n",
    "print(\"Precision on train set: %0.3f\"%(precision_score(y_train, y_train_pred,average='weighted')))\n",
    "print(\"Recall on train set: %0.3f\"%(recall_score(y_train, y_train_pred,average='weighted')))\n",
    "print(\"F1-Score on train set: %0.3f\"%(f1_score(y_train, y_train_pred,average='weighted')))\n",
    "print(\"Non Zero weights:\",np.count_nonzero(clf.coef_))\n",
    "print(\"Confusion Matrix of train set:\\n [ [TN  FP]\\n [FN TP] ]\\n\")\n",
    "#plot_confusion_matrix(y_train, y_train_pred)\n",
    "print(\"Accuracy on test set: %0.3f%%\"%(accuracy_score(y_test, y_pred)*100))\n",
    "print(\"Precision on test set: %0.3f\"%(precision_score(y_test, y_pred,average='weighted')))\n",
    "print(\"Recall on test set: %0.3f\"%(recall_score(y_test, y_pred,average='weighted')))\n",
    "print(\"F1-Score on test set: %0.3f\"%(f1_score(y_test, y_pred,average='weighted')))\n",
    "print(\"Non Zero weights:\",np.count_nonzero(clf.coef_))\n",
    "print(\"Confusion Matrix of test set:\\n [ [TN  FP]\\n [FN TP] ]\\n\")\n"
   ]
  },
  {
   "cell_type": "code",
   "execution_count": 355,
   "metadata": {},
   "outputs": [
    {
     "name": "stdout",
     "output_type": "stream",
     "text": [
      "Wall time: 0 ns\n",
      "Fitting 10 folds for each of 10 candidates, totalling 100 fits\n"
     ]
    },
    {
     "name": "stderr",
     "output_type": "stream",
     "text": [
      "[Parallel(n_jobs=1)]: Using backend SequentialBackend with 1 concurrent workers.\n",
      "[Parallel(n_jobs=1)]: Done 100 out of 100 | elapsed: 16.3min finished\n"
     ]
    },
    {
     "name": "stdout",
     "output_type": "stream",
     "text": [
      "Best HyperParameter:  {'penalty': 'l2', 'C': 0.0005}\n",
      "Best Accuracy: 62.75%\n"
     ]
    }
   ],
   "source": [
    "#Using Randomized Search CV to find best parameters\n",
    "#We can see how drastically the sparsity decreases from 467782 non-zero \n",
    "#weights(@ C=1000) to only 25153 non-zero weights(@ C=0.01) when we use L1 Regularization\n",
    "%time\n",
    "from sklearn.model_selection import RandomizedSearchCV\n",
    "from sklearn.linear_model import LogisticRegression\n",
    "\n",
    "clf = LogisticRegression()\n",
    "#params we need to try on classifier\n",
    "param_grid = {'C':[1000,500,100,50,10,5,1,0.5,0.1,0.05,0.01,0.005,0.001,0.0005,0.0001],\n",
    "              'penalty':['l1','l2']}\n",
    "tscv = TimeSeriesSplit(n_splits=10) #For time based splitting\n",
    "gsv = RandomizedSearchCV(clf,param_grid,cv=tscv,verbose=1,scoring='f1_micro')\n",
    "gsv.fit(X_train,y_train)\n",
    "#savetofile(gsv,\"Log Reg/gsv_bi_r\")\n",
    "print(\"Best HyperParameter: \",gsv.best_params_)\n",
    "print(\"Best Accuracy: %.2f%%\"%(gsv.best_score_*100))"
   ]
  },
  {
   "cell_type": "code",
   "execution_count": 356,
   "metadata": {},
   "outputs": [
    {
     "name": "stdout",
     "output_type": "stream",
     "text": [
      "Accuracy on train set: 100.000%\n",
      "Precision on train set: 1.000\n",
      "Recall on train set: 1.000\n",
      "F1-Score on train set: 1.000\n",
      "Non Zero weights: 706405\n",
      "Confusion Matrix of test set:\n",
      " [ [TN  FP]\n",
      " [FN TP] ]\n",
      "\n",
      "Accuracy on test set: 61.000%\n",
      "Precision on test set: 0.519\n",
      "Recall on test set: 0.610\n",
      "F1-Score on test set: 0.463\n",
      "Non Zero weights: 706405\n",
      "Confusion Matrix of test set:\n",
      " [ [TN  FP]\n",
      " [FN TP] ]\n",
      "\n"
     ]
    }
   ],
   "source": [
    "clf = LogisticRegression(C= 0.01, penalty= 'l2')\n",
    "clf.fit(X_train,y_train)\n",
    "y_train_pred = clf.predict(X_train)\n",
    "y_pred = clf.predict(X_test)\n",
    "print(\"Accuracy on train set: %0.3f%%\"%(accuracy_score(y_train, y_train_pred)*100))\n",
    "print(\"Precision on train set: %0.3f\"%(precision_score(y_train, y_train_pred,average='weighted')))\n",
    "print(\"Recall on train set: %0.3f\"%(recall_score(y_train, y_train_pred,average='weighted')))\n",
    "print(\"F1-Score on train set: %0.3f\"%(f1_score(y_train, y_train_pred,average='weighted')))\n",
    "print(\"Non Zero weights:\",np.count_nonzero(clf.coef_))\n",
    "print(\"Confusion Matrix of test set:\\n [ [TN  FP]\\n [FN TP] ]\\n\")\n",
    "\n",
    "print(\"Accuracy on test set: %0.3f%%\"%(accuracy_score(y_test, y_pred)*100))\n",
    "print(\"Precision on test set: %0.3f\"%(precision_score(y_test, y_pred,average='weighted')))\n",
    "print(\"Recall on test set: %0.3f\"%(recall_score(y_test, y_pred,average='weighted')))\n",
    "print(\"F1-Score on test set: %0.3f\"%(f1_score(y_test, y_pred,average='weighted')))\n",
    "print(\"Non Zero weights:\",np.count_nonzero(clf.coef_))\n",
    "print(\"Confusion Matrix of test set:\\n [ [TN  FP]\\n [FN TP] ]\\n\")\n",
    "\n"
   ]
  },
  {
   "cell_type": "code",
   "execution_count": 357,
   "metadata": {},
   "outputs": [
    {
     "name": "stdout",
     "output_type": "stream",
     "text": [
      "Train Data Size:  (5600, 12378)\n",
      "Test Data Size:  (2400, 12378)\n",
      "Wall time: 871 ms\n"
     ]
    }
   ],
   "source": [
    "\n",
    "%%time\n",
    "#TF-IDF\n",
    "from sklearn.feature_extraction.text import TfidfVectorizer\n",
    "from sklearn.model_selection import train_test_split\n",
    "from sklearn import preprocessing\n",
    "\n",
    "#Breaking into Train and test\n",
    "X_train, X_test, y_train, y_test = train_test_split(final['CleanedText'].values,final['Score'].values,test_size=0.3,shuffle=False)\n",
    "\n",
    "tfidf = TfidfVectorizer() \n",
    "X_train = tfidf.fit_transform(X_train)\n",
    "#Normalize Data\n",
    "X_train = preprocessing.normalize(X_train)\n",
    "\n",
    "X_test = tfidf.transform(X_test)\n",
    "#Normalize Data\n",
    "X_test = preprocessing.normalize(X_test)\n",
    "sc = StandardScaler(with_mean=False)\n",
    "X_train = sc.fit_transform(X_train)\n",
    "X_test= sc.transform(X_test)\n",
    "\n",
    "print(\"Train Data Size: \",X_train.shape)\n",
    "print(\"Test Data Size: \",X_test.shape)\n",
    "\n",
    "\n",
    "\n"
   ]
  },
  {
   "cell_type": "code",
   "execution_count": 358,
   "metadata": {},
   "outputs": [
    {
     "name": "stdout",
     "output_type": "stream",
     "text": [
      "Fitting 10 folds for each of 30 candidates, totalling 300 fits\n"
     ]
    },
    {
     "name": "stderr",
     "output_type": "stream",
     "text": [
      "[Parallel(n_jobs=1)]: Using backend SequentialBackend with 1 concurrent workers.\n",
      "[Parallel(n_jobs=1)]: Done 300 out of 300 | elapsed:  5.6min finished\n"
     ]
    },
    {
     "name": "stdout",
     "output_type": "stream",
     "text": [
      "Best HyperParameter:  {'C': 0.01, 'penalty': 'l2'}\n",
      "Best Accuracy: 63.28%\n"
     ]
    }
   ],
   "source": [
    "from sklearn.model_selection import GridSearchCV\n",
    "from sklearn.linear_model import LogisticRegression\n",
    "\n",
    "clf = LogisticRegression()\n",
    "\n",
    "#params we need to try on classifier\n",
    "param_grid = {'C':[1000,500,100,50,10,5,1,0.5,0.1,0.05,0.01,0.005,0.001,0.0005,0.0001],\n",
    "             'penalty':['l1','l2']} \n",
    "tscv = TimeSeriesSplit(n_splits=10) #For time based splitting\n",
    "gsv = GridSearchCV(clf,param_grid,cv=tscv,verbose=1,scoring='f1_micro')\n",
    "gsv.fit(X_train,y_train)\n",
    "\n",
    "print(\"Best HyperParameter: \",gsv.best_params_)\n",
    "print(\"Best Accuracy: %.2f%%\"%(gsv.best_score_*100))"
   ]
  },
  {
   "cell_type": "code",
   "execution_count": 366,
   "metadata": {},
   "outputs": [
    {
     "name": "stdout",
     "output_type": "stream",
     "text": [
      "Accuracy on train set: 100.000%\n",
      "Precision on train set: 1.000\n",
      "Recall on train set: 1.000\n",
      "F1-Score on train set: 1.000\n",
      "Non Zero weights: 61890\n",
      "Confusion Matrix of test set:\n",
      " [ [TN  FP]\n",
      " [FN TP] ]\n",
      "\n",
      "Accuracy on test set: 56.708%\n",
      "Precision on test set: 0.515\n",
      "Recall on test set: 0.567\n",
      "F1-Score on test set: 0.533\n",
      "Non Zero weights: 61890\n",
      "Confusion Matrix of test set:\n",
      " [ [TN  FP]\n",
      " [FN TP] ]\n",
      "\n"
     ]
    }
   ],
   "source": [
    "clf = LogisticRegression(C= 0.05, penalty= 'l2')\n",
    "clf.fit(X_train,y_train)\n",
    "y_train_pred = clf.predict(X_train)\n",
    "y_pred = clf.predict(X_test)\n",
    "print(\"Accuracy on train set: %0.3f%%\"%(accuracy_score(y_train, y_train_pred)*100))\n",
    "print(\"Precision on train set: %0.3f\"%(precision_score(y_train, y_train_pred,average='weighted')))\n",
    "print(\"Recall on train set: %0.3f\"%(recall_score(y_train, y_train_pred,average='weighted')))\n",
    "print(\"F1-Score on train set: %0.3f\"%(f1_score(y_train, y_train_pred,average='weighted')))\n",
    "print(\"Non Zero weights:\",np.count_nonzero(clf.coef_))\n",
    "print(\"Confusion Matrix of test set:\\n [ [TN  FP]\\n [FN TP] ]\\n\")\n",
    "print(\"Accuracy on test set: %0.3f%%\"%(accuracy_score(y_test, y_pred)*100))\n",
    "print(\"Precision on test set: %0.3f\"%(precision_score(y_test, y_pred,average='weighted')))\n",
    "print(\"Recall on test set: %0.3f\"%(recall_score(y_test, y_pred,average='weighted')))\n",
    "print(\"F1-Score on test set: %0.3f\"%(f1_score(y_test, y_pred,average='weighted')))\n",
    "print(\"Non Zero weights:\",np.count_nonzero(clf.coef_))\n",
    "print(\"Confusion Matrix of test set:\\n [ [TN  FP]\\n [FN TP] ]\\n\")\n"
   ]
  },
  {
   "cell_type": "code",
   "execution_count": 360,
   "metadata": {},
   "outputs": [
    {
     "name": "stdout",
     "output_type": "stream",
     "text": [
      "Accuracy on test set: 53.833%\n",
      "F1-Score on test set: 0.538\n",
      "Non Zero weights: 61890\n"
     ]
    }
   ],
   "source": [
    "from sklearn.linear_model import LogisticRegression\n",
    "\n",
    "clf = LogisticRegression(C= 1000, penalty= 'l2')\n",
    "clf.fit(X_train,y_train)\n",
    "y_pred = clf.predict(X_test)\n",
    "print(\"Accuracy on test set: %0.3f%%\"%(accuracy_score(y_test, y_pred)*100))\n",
    "print(\"F1-Score on test set: %0.3f\"%(f1_score(y_test, y_pred,average='micro')))\n",
    "print(\"Non Zero weights:\",np.count_nonzero(clf.coef_))"
   ]
  },
  {
   "cell_type": "code",
   "execution_count": 361,
   "metadata": {},
   "outputs": [
    {
     "name": "stdout",
     "output_type": "stream",
     "text": [
      "Wall time: 0 ns\n",
      "Fitting 10 folds for each of 10 candidates, totalling 100 fits\n"
     ]
    },
    {
     "name": "stderr",
     "output_type": "stream",
     "text": [
      "[Parallel(n_jobs=1)]: Using backend SequentialBackend with 1 concurrent workers.\n",
      "[Parallel(n_jobs=1)]: Done 100 out of 100 | elapsed:  1.7min finished\n"
     ]
    },
    {
     "name": "stdout",
     "output_type": "stream",
     "text": [
      "Best HyperParameter:  {'penalty': 'l2', 'C': 0.01}\n",
      "Best Accuracy: 63.28%\n"
     ]
    }
   ],
   "source": [
    "#Regularization Using Randomized Search CV to find best parameters\n",
    "%time\n",
    "from sklearn.model_selection import RandomizedSearchCV\n",
    "from sklearn.linear_model import LogisticRegression\n",
    "\n",
    "clf = LogisticRegression()\n",
    "#params we need to try on classifier\n",
    "param_grid = {'C':[1000,500,100,50,10,5,1,0.5,0.1,0.05,0.01,0.005,0.001,0.0005,0.0001]\n",
    "              ,'penalty':['l1','l2']}\n",
    "tscv = TimeSeriesSplit(n_splits=10) #For time based splitting\n",
    "gsv = RandomizedSearchCV(clf,param_grid,cv=tscv,verbose=1,scoring='f1_micro')\n",
    "gsv.fit(X_train,y_train)\n",
    "\n",
    "print(\"Best HyperParameter: \",gsv.best_params_)\n",
    "print(\"Best Accuracy: %.2f%%\"%(gsv.best_score_*100))\n",
    "\n",
    "\n"
   ]
  },
  {
   "cell_type": "code",
   "execution_count": 362,
   "metadata": {},
   "outputs": [
    {
     "name": "stdout",
     "output_type": "stream",
     "text": [
      "Accuracy on train set: 100.000%\n",
      "Precision on train set: 1.000\n",
      "Recall on train set: 1.000\n",
      "F1-Score on train set: 1.000\n",
      "Non Zero weights: 61890\n",
      "Confusion Matrix of test set:\n",
      " [ [TN  FP]\n",
      " [FN TP] ]\n",
      "\n",
      "Accuracy on test set: 56.708%\n",
      "Precision on test set: 0.515\n",
      "Recall on test set: 0.567\n",
      "F1-Score on test set: 0.533\n",
      "Non Zero weights: 61890\n",
      "Confusion Matrix of test set:\n",
      " [ [TN  FP]\n",
      " [FN TP] ]\n",
      "\n"
     ]
    }
   ],
   "source": [
    "clf = LogisticRegression(C= 0.05, penalty= 'l2')\n",
    "clf.fit(X_train,y_train)\n",
    "y_train_pred = clf.predict(X_train)\n",
    "y_pred = clf.predict(X_test)\n",
    "print(\"Accuracy on train set: %0.3f%%\"%(accuracy_score(y_train, y_train_pred)*100))\n",
    "print(\"Precision on train set: %0.3f\"%(precision_score(y_train, y_train_pred,average='weighted')))\n",
    "print(\"Recall on train set: %0.3f\"%(recall_score(y_train, y_train_pred,average='weighted')))\n",
    "print(\"F1-Score on train set: %0.3f\"%(f1_score(y_train, y_train_pred,average='weighted')))\n",
    "print(\"Non Zero weights:\",np.count_nonzero(clf.coef_))\n",
    "print(\"Confusion Matrix of test set:\\n [ [TN  FP]\\n [FN TP] ]\\n\")\n",
    "\n",
    "print(\"Accuracy on test set: %0.3f%%\"%(accuracy_score(y_test, y_pred)*100))\n",
    "print(\"Precision on test set: %0.3f\"%(precision_score(y_test, y_pred,average='weighted')))\n",
    "print(\"Recall on test set: %0.3f\"%(recall_score(y_test, y_pred,average='weighted')))\n",
    "print(\"F1-Score on test set: %0.3f\"%(f1_score(y_test, y_pred,average='weighted')))\n",
    "print(\"Non Zero weights:\",np.count_nonzero(clf.coef_))\n",
    "print(\"Confusion Matrix of test set:\\n [ [TN  FP]\\n [FN TP] ]\\n\")\n"
   ]
  },
  {
   "cell_type": "code",
   "execution_count": null,
   "metadata": {},
   "outputs": [],
   "source": []
  },
  {
   "cell_type": "code",
   "execution_count": null,
   "metadata": {},
   "outputs": [],
   "source": []
  },
  {
   "cell_type": "code",
   "execution_count": 363,
   "metadata": {},
   "outputs": [
    {
     "name": "stdout",
     "output_type": "stream",
     "text": [
      "+-------+--------------+--------------+-------+----------------+----------+---------+-----------+--------+\n",
      "| S.NO. |    MODEL     |    Method    |   C   | regularization | accuracy | f1score | precision | recall |\n",
      "+-------+--------------+--------------+-------+----------------+----------+---------+-----------+--------+\n",
      "|   1   | Bag of Words | gridsearch   |  0.05 |       l2       |  56.417  |  0.536  |   0.523   | 0.564  |\n",
      "|   2   | Bag of Words | randomsearch | 0.001 |       l2       |  60.917  |  0.468  |   0.468   | 0.609  |\n",
      "|   3   |    bigram    | gridsearch   |  0.01 |       l2       |   61.0   |  0.463  |    0.61   | 0.463  |\n",
      "|   4   |    bigram    | randomsearch |  0.01 |       l2       |   61.0   |  0.463  |    0.61   | 0.463  |\n",
      "|   5   |      td      | gridsearch   |  0.01 |       l2       |  56.708  |  0.533  |   0.567   | 0.533  |\n",
      "|   6   |      td      | randomsearch |  0.01 |       l2       |  56.708  |  0.533  |   0.567   | 0.533  |\n",
      "+-------+--------------+--------------+-------+----------------+----------+---------+-----------+--------+\n"
     ]
    }
   ],
   "source": [
    "from prettytable import PrettyTable\n",
    "\n",
    "# Names of models\n",
    "featurization = ['Bag of Words','Bag of Words','bigram','bigram','td','td']\n",
    "model=['gridsearch ','randomsearch','gridsearch ','randomsearch','gridsearch ','randomsearch']\n",
    "\n",
    "# Training accuracies\n",
    "F1score= [0.536,0.468,0.463,0.463,0.533,0.533]\n",
    "accuracy = [56.417,60.917,61.00,61.00,56.708,56.708]\n",
    "alpha=[0.05,0.001,0.01,0.01,0.01,0.01]\n",
    "precision=[0.523,0.468,0.610,0.610,0.567,0.567]\n",
    "recall=[0.564,0.609,0.463,0.463,0.533,0.533]\n",
    "numbering = [1,2,3,4,5,6]\n",
    "regularization=['l2','l2','l2','l2','l2','l2']\n",
    "\n",
    "# Initializing prettytable\n",
    "ptable = PrettyTable()\n",
    "\n",
    "# Adding columns\n",
    "ptable.add_column(\"S.NO.\",numbering)\n",
    "ptable.add_column(\"MODEL\",featurization)\n",
    "ptable.add_column(\"Method\",model)\n",
    "ptable.add_column(\"C\",alpha)\n",
    "ptable.add_column(\"regularization\",regularization)\n",
    "ptable.add_column(\"accuracy\",accuracy)\n",
    "ptable.add_column(\"f1score\",F1score)\n",
    "ptable.add_column(\"precision\",precision)\n",
    "ptable.add_column(\"recall\",recall)\n",
    "\n",
    "\n",
    "# Printing the Table\n",
    "print(ptable)"
   ]
  },
  {
   "cell_type": "code",
   "execution_count": null,
   "metadata": {},
   "outputs": [],
   "source": []
  },
  {
   "cell_type": "code",
   "execution_count": null,
   "metadata": {},
   "outputs": [],
   "source": []
  }
 ],
 "metadata": {
  "kernelspec": {
   "display_name": "Python 3",
   "language": "python",
   "name": "python3"
  },
  "language_info": {
   "codemirror_mode": {
    "name": "ipython",
    "version": 3
   },
   "file_extension": ".py",
   "mimetype": "text/x-python",
   "name": "python",
   "nbconvert_exporter": "python",
   "pygments_lexer": "ipython3",
   "version": "3.7.3"
  }
 },
 "nbformat": 4,
 "nbformat_minor": 4
}
