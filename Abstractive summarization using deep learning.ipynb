{
 "cells": [
  {
   "cell_type": "markdown",
   "metadata": {
    "colab_type": "text",
    "id": "qFuL-RBgXqgU"
   },
   "source": [
    "### Text Summarization using deep learning"
   ]
  },
  {
   "cell_type": "code",
   "execution_count": null,
   "metadata": {},
   "outputs": [],
   "source": [
    "we will build an abstractive based text summarizer using deep learning from the scratch in python using keras\n"
   ]
  },
  {
   "cell_type": "markdown",
   "metadata": {
    "colab_type": "text",
    "id": "F5dSoP8lGMZi"
   },
   "source": [
    "Customer reviews can often be long and descriptive. Analyzing these reviews manually, as you can imagine, is really time-consuming. This is where the brilliance of Natural Language Processing can be applied to generate a summary for long reviews."
   ]
  },
  {
   "cell_type": "markdown",
   "metadata": {},
   "source": [
    "#### Custom Attention Layer\n",
    "Keras does not officially support attention layer. So, we can either implement our own attention layer or use a third-party implementation"
   ]
  },
  {
   "cell_type": "code",
   "execution_count": 43,
   "metadata": {
    "colab": {},
    "colab_type": "code",
    "id": "Fi64aA0FFxcS"
   },
   "outputs": [],
   "source": [
    "from attention import AttentionLayer"
   ]
  },
  {
   "cell_type": "markdown",
   "metadata": {
    "colab_type": "text",
    "id": "JUValOzcHtEK"
   },
   "source": [
    "#Import the Libraries"
   ]
  },
  {
   "cell_type": "code",
   "execution_count": 2,
   "metadata": {
    "_cell_guid": "b1076dfc-b9ad-4769-8c92-a6c4dae69d19",
    "_uuid": "8f2839f25d086af736a60e9eeb907d3b93b6e0e5",
    "colab": {},
    "colab_type": "code",
    "id": "_Jpu8qLEFxcY",
    "outputId": "95968e01-faac-4911-c802-9c008a4e62cf"
   },
   "outputs": [
    {
     "name": "stderr",
     "output_type": "stream",
     "text": [
      "Using TensorFlow backend.\n"
     ]
    }
   ],
   "source": [
    "import numpy as np\n",
    "import pandas as pd \n",
    "import re\n",
    "from bs4 import BeautifulSoup\n",
    "from keras.preprocessing.text import Tokenizer \n",
    "from keras.preprocessing.sequence import pad_sequences\n",
    "from nltk.corpus import stopwords\n",
    "from tensorflow.keras.layers import Input, LSTM, Embedding, Dense, Concatenate, TimeDistributed\n",
    "from tensorflow.keras.models import Model\n",
    "from tensorflow.keras.callbacks import EarlyStopping\n",
    "import warnings\n",
    "pd.set_option(\"display.max_colwidth\", 200)\n",
    "warnings.filterwarnings(\"ignore\")"
   ]
  },
  {
   "cell_type": "markdown",
   "metadata": {
    "colab_type": "text",
    "id": "UVakjZ3oICgx"
   },
   "source": [
    "#Read the dataset\n",
    "\n",
    "This dataset consists of reviews of fine foods from Amazon. The data spans a period of more than 10 years, including all ~500,000 reviews up to October 2012. These reviews include product and user information, ratings, plain text review, and summary. It also includes reviews from all other Amazon categories."
   ]
  },
  {
   "cell_type": "code",
   "execution_count": 44,
   "metadata": {
    "colab": {},
    "colab_type": "code",
    "id": "wnK5o4Z1Fxcj"
   },
   "outputs": [],
   "source": [
    "data=pd.read_csv(r\"C:\\Users\\DELL\\Desktop\\Reviews.csv\")"
   ]
  },
  {
   "cell_type": "markdown",
   "metadata": {
    "colab_type": "text",
    "id": "kGNQKvCaISIn"
   },
   "source": [
    "### Drop Duplicates and NA values"
   ]
  },
  {
   "cell_type": "code",
   "execution_count": 45,
   "metadata": {
    "colab": {},
    "colab_type": "code",
    "id": "Cjul88oOFxcr"
   },
   "outputs": [],
   "source": [
    "data.drop_duplicates(subset=['Text'],inplace=True)#dropping duplicates\n",
    "data.dropna(axis=0,inplace=True)#dropping na"
   ]
  },
  {
   "cell_type": "markdown",
   "metadata": {
    "colab_type": "text",
    "id": "qi0xD6BkIWAm"
   },
   "source": [
    "###  Dataset details\n",
    "\n",
    "Let us look at datatypes and shape of the dataset"
   ]
  },
  {
   "cell_type": "code",
   "execution_count": 46,
   "metadata": {
    "colab": {},
    "colab_type": "code",
    "id": "__fy-JxTFxc9",
    "outputId": "d42c6e36-bbc8-43c2-de0e-d3effe3e8c4c"
   },
   "outputs": [
    {
     "name": "stdout",
     "output_type": "stream",
     "text": [
      "<class 'pandas.core.frame.DataFrame'>\n",
      "Int64Index: 19308 entries, 0 to 19978\n",
      "Data columns (total 10 columns):\n",
      "Id                        19308 non-null int64\n",
      "ProductId                 19308 non-null object\n",
      "UserId                    19308 non-null object\n",
      "ProfileName               19308 non-null object\n",
      "HelpfulnessNumerator      19308 non-null int64\n",
      "HelpfulnessDenominator    19308 non-null int64\n",
      "Score                     19308 non-null int64\n",
      "Time                      19308 non-null int64\n",
      "Summary                   19308 non-null object\n",
      "Text                      19308 non-null object\n",
      "dtypes: int64(5), object(5)\n",
      "memory usage: 1.6+ MB\n"
     ]
    }
   ],
   "source": [
    "data.info()"
   ]
  },
  {
   "cell_type": "markdown",
   "metadata": {
    "colab_type": "text",
    "id": "r0xLYACiFxdJ"
   },
   "source": [
    "#Preprocessing\n",
    "\n",
    "Performing basic preprocessing steps is very important before we get to the model building part. Using messy and uncleaned text data is a potentially disastrous move. So in this step, we will drop all the unwanted symbols, characters, etc. from the text that do not affect the objective of our problem.\n",
    "we are using contraction_mapping as a dictionary"
   ]
  },
  {
   "cell_type": "code",
   "execution_count": 47,
   "metadata": {
    "colab": {},
    "colab_type": "code",
    "id": "0s6IY-x2FxdL"
   },
   "outputs": [],
   "source": [
    "contraction_mapping = {\"ain't\": \"is not\", \"aren't\": \"are not\",\"can't\": \"cannot\", \"'cause\": \"because\", \"could've\": \"could have\", \"couldn't\": \"could not\",\n",
    "                           \"didn't\": \"did not\",  \"doesn't\": \"does not\", \"don't\": \"do not\", \"hadn't\": \"had not\", \"hasn't\": \"has not\", \"haven't\": \"have not\",\n",
    "                           \"he'd\": \"he would\",\"he'll\": \"he will\", \"he's\": \"he is\", \"how'd\": \"how did\", \"how'd'y\": \"how do you\", \"how'll\": \"how will\", \"how's\": \"how is\",\n",
    "                           \"I'd\": \"I would\", \"I'd've\": \"I would have\", \"I'll\": \"I will\", \"I'll've\": \"I will have\",\"I'm\": \"I am\", \"I've\": \"I have\", \"i'd\": \"i would\",\n",
    "                           \"i'd've\": \"i would have\", \"i'll\": \"i will\",  \"i'll've\": \"i will have\",\"i'm\": \"i am\", \"i've\": \"i have\", \"isn't\": \"is not\", \"it'd\": \"it would\",\n",
    "                           \"it'd've\": \"it would have\", \"it'll\": \"it will\", \"it'll've\": \"it will have\",\"it's\": \"it is\", \"let's\": \"let us\", \"ma'am\": \"madam\",\n",
    "                           \"mayn't\": \"may not\", \"might've\": \"might have\",\"mightn't\": \"might not\",\"mightn't've\": \"might not have\", \"must've\": \"must have\",\n",
    "                           \"mustn't\": \"must not\", \"mustn't've\": \"must not have\", \"needn't\": \"need not\", \"needn't've\": \"need not have\",\"o'clock\": \"of the clock\",\n",
    "                           \"oughtn't\": \"ought not\", \"oughtn't've\": \"ought not have\", \"shan't\": \"shall not\", \"sha'n't\": \"shall not\", \"shan't've\": \"shall not have\",\n",
    "                           \"she'd\": \"she would\", \"she'd've\": \"she would have\", \"she'll\": \"she will\", \"she'll've\": \"she will have\", \"she's\": \"she is\",\n",
    "                           \"should've\": \"should have\", \"shouldn't\": \"should not\", \"shouldn't've\": \"should not have\", \"so've\": \"so have\",\"so's\": \"so as\",\n",
    "                           \"this's\": \"this is\",\"that'd\": \"that would\", \"that'd've\": \"that would have\", \"that's\": \"that is\", \"there'd\": \"there would\",\n",
    "                           \"there'd've\": \"there would have\", \"there's\": \"there is\", \"here's\": \"here is\",\"they'd\": \"they would\", \"they'd've\": \"they would have\",\n",
    "                           \"they'll\": \"they will\", \"they'll've\": \"they will have\", \"they're\": \"they are\", \"they've\": \"they have\", \"to've\": \"to have\",\n",
    "                           \"wasn't\": \"was not\", \"we'd\": \"we would\", \"we'd've\": \"we would have\", \"we'll\": \"we will\", \"we'll've\": \"we will have\", \"we're\": \"we are\",\n",
    "                           \"we've\": \"we have\", \"weren't\": \"were not\", \"what'll\": \"what will\", \"what'll've\": \"what will have\", \"what're\": \"what are\",\n",
    "                           \"what's\": \"what is\", \"what've\": \"what have\", \"when's\": \"when is\", \"when've\": \"when have\", \"where'd\": \"where did\", \"where's\": \"where is\",\n",
    "                           \"where've\": \"where have\", \"who'll\": \"who will\", \"who'll've\": \"who will have\", \"who's\": \"who is\", \"who've\": \"who have\",\n",
    "                           \"why's\": \"why is\", \"why've\": \"why have\", \"will've\": \"will have\", \"won't\": \"will not\", \"won't've\": \"will not have\",\n",
    "                           \"would've\": \"would have\", \"wouldn't\": \"would not\", \"wouldn't've\": \"would not have\", \"y'all\": \"you all\",\n",
    "                           \"y'all'd\": \"you all would\",\"y'all'd've\": \"you all would have\",\"y'all're\": \"you all are\",\"y'all've\": \"you all have\",\n",
    "                           \"you'd\": \"you would\", \"you'd've\": \"you would have\", \"you'll\": \"you will\", \"you'll've\": \"you will have\",\n",
    "                           \"you're\": \"you are\", \"you've\": \"you have\"}"
   ]
  },
  {
   "cell_type": "markdown",
   "metadata": {
    "colab_type": "text",
    "id": "2JFRXFHmI7Mj"
   },
   "source": [
    "We will perform the below preprocessing tasks for our data:\n",
    "\n",
    "1.Convert everything to lowercase\n",
    "\n",
    "2.Remove HTML tags\n",
    "\n",
    "3.Contraction mapping\n",
    "\n",
    "4.Remove (‘s)\n",
    "\n",
    "5.Remove any text inside the parenthesis ( )\n",
    "\n",
    "6.Eliminate punctuations and special characters\n",
    "\n",
    "7.Remove stopwords\n",
    "\n",
    "8.Remove short words\n",
    "\n",
    "Let’s define the function:"
   ]
  },
  {
   "cell_type": "code",
   "execution_count": 48,
   "metadata": {
    "colab": {},
    "colab_type": "code",
    "id": "XZr-u3OEFxdT"
   },
   "outputs": [],
   "source": [
    "stop_words = set(stopwords.words('english')) \n",
    "\n",
    "def text_cleaner(text,num):\n",
    "    newString = text.lower()\n",
    "    newString = BeautifulSoup(newString, \"lxml\").text\n",
    "    newString = re.sub(r'\\([^)]*\\)', '', newString)\n",
    "    newString = re.sub('\"','', newString)\n",
    "    newString = ' '.join([contraction_mapping[t] if t in contraction_mapping else t for t in newString.split(\" \")])    \n",
    "    newString = re.sub(r\"'s\\b\",\"\",newString)\n",
    "    newString = re.sub(\"[^a-zA-Z]\", \" \", newString) \n",
    "    newString = re.sub('[m]{2,}', 'mm', newString)\n",
    "    if(num==0):\n",
    "        tokens = [w for w in newString.split() if not w in stop_words]\n",
    "    else:\n",
    "        tokens=newString.split()\n",
    "    long_words=[]\n",
    "    for i in tokens:\n",
    "        if len(i)>1:                                                 #removing short word\n",
    "            long_words.append(i)   \n",
    "    return (\" \".join(long_words)).strip()"
   ]
  },
  {
   "cell_type": "code",
   "execution_count": 49,
   "metadata": {
    "colab": {},
    "colab_type": "code",
    "id": "A2QAeCHWFxdY"
   },
   "outputs": [],
   "source": [
    "#call the function\n",
    "cleaned_text = []\n",
    "for t in data['Text']:\n",
    "    cleaned_text.append(text_cleaner(t,0)) "
   ]
  },
  {
   "cell_type": "markdown",
   "metadata": {
    "colab_type": "text",
    "id": "snRZY8wjLao2"
   },
   "source": [
    "Let us look at the first five preprocessed reviews"
   ]
  },
  {
   "cell_type": "code",
   "execution_count": 51,
   "metadata": {
    "colab": {},
    "colab_type": "code",
    "id": "NCAIkhWbFxdh",
    "outputId": "c2da1a36-4488-4e32-ef9e-fcfe496e374d"
   },
   "outputs": [
    {
     "data": {
      "text/plain": [
       "['bought several vitality canned dog food products found good quality product looks like stew processed meat smells better labrador finicky appreciates product better',\n",
       " 'product arrived labeled jumbo salted peanuts peanuts actually small sized unsalted sure error vendor intended represent product jumbo',\n",
       " 'confection around centuries light pillowy citrus gelatin nuts case filberts cut tiny squares liberally coated powdered sugar tiny mouthful heaven chewy flavorful highly recommend yummy treat familiar story lewis lion witch wardrobe treat seduces edmund selling brother sisters witch',\n",
       " 'looking secret ingredient robitussin believe found got addition root beer extract ordered made cherry soda flavor medicinal',\n",
       " 'great taffy great price wide assortment yummy taffy delivery quick taffy lover deal']"
      ]
     },
     "execution_count": 51,
     "metadata": {},
     "output_type": "execute_result"
    }
   ],
   "source": [
    "cleaned_text[:5]  "
   ]
  },
  {
   "cell_type": "code",
   "execution_count": 52,
   "metadata": {
    "colab": {},
    "colab_type": "code",
    "id": "GsRXocxoFxd-"
   },
   "outputs": [],
   "source": [
    "#call the function\n",
    "cleaned_summary = []\n",
    "for t in data['Summary']:\n",
    "    cleaned_summary.append(text_cleaner(t,1))"
   ]
  },
  {
   "cell_type": "markdown",
   "metadata": {
    "colab_type": "text",
    "id": "oZeD0gs6Lnb-"
   },
   "source": [
    "Let us look at the first 10 preprocessed summaries"
   ]
  },
  {
   "cell_type": "code",
   "execution_count": 53,
   "metadata": {
    "colab": {},
    "colab_type": "code",
    "id": "jQJdZcAzFxee",
    "outputId": "a1fbe683-c03f-4afb-addf-e075021c121b"
   },
   "outputs": [
    {
     "data": {
      "text/plain": [
       "['good quality dog food',\n",
       " 'not as advertised',\n",
       " 'delight says it all',\n",
       " 'cough medicine',\n",
       " 'great taffy',\n",
       " 'nice taffy',\n",
       " 'great just as good as the expensive brands',\n",
       " 'wonderful tasty taffy',\n",
       " 'yay barley',\n",
       " 'healthy dog food']"
      ]
     },
     "execution_count": 53,
     "metadata": {},
     "output_type": "execute_result"
    }
   ],
   "source": [
    "cleaned_summary[:10]"
   ]
  },
  {
   "cell_type": "code",
   "execution_count": 54,
   "metadata": {
    "colab": {},
    "colab_type": "code",
    "id": "L1zLpnqsFxey"
   },
   "outputs": [],
   "source": [
    "data['cleaned_text']=cleaned_text\n",
    "data['cleaned_summary']=cleaned_summary"
   ]
  },
  {
   "cell_type": "markdown",
   "metadata": {
    "colab_type": "text",
    "id": "KT_D2cLiLy77"
   },
   "source": [
    "### Drop empty rows"
   ]
  },
  {
   "cell_type": "code",
   "execution_count": 55,
   "metadata": {
    "colab": {},
    "colab_type": "code",
    "id": "sYK390unFxfA"
   },
   "outputs": [],
   "source": [
    "data.replace('', np.nan, inplace=True)\n",
    "data.dropna(axis=0,inplace=True)"
   ]
  },
  {
   "cell_type": "code",
   "execution_count": 56,
   "metadata": {
    "colab": {},
    "colab_type": "code",
    "id": "MdF76AHHFxgw",
    "outputId": "e3bbe165-4235-482f-bfd4-36a3f1d95290"
   },
   "outputs": [
    {
     "data": {
      "image/png": "[encoded data removed]",
      "text/plain": [
       "<Figure size 432x288 with 2 Axes>"
      ]
     },
     "metadata": {
      "needs_background": "light"
     },
     "output_type": "display_data"
    }
   ],
   "source": [
    "import matplotlib.pyplot as plt\n",
    "\n",
    "text_word_count = []\n",
    "summary_word_count = []\n",
    "\n",
    "# populate the lists with sentence lengths\n",
    "for i in data['cleaned_text']:\n",
    "      text_word_count.append(len(i.split()))\n",
    "\n",
    "for i in data['cleaned_summary']:\n",
    "      summary_word_count.append(len(i.split()))\n",
    "\n",
    "length_df = pd.DataFrame({'text':text_word_count, 'summary':summary_word_count})\n",
    "\n",
    "length_df.hist(bins = 30)\n",
    "plt.show()"
   ]
  },
  {
   "cell_type": "markdown",
   "metadata": {
    "colab_type": "text",
    "id": "QwdSGIhGMEbz"
   },
   "source": [
    "Fix the maximum length of the summary to 8 since that seems to be the majority summary length.\n",
    "proportion of the length of summaries below 8"
   ]
  },
  {
   "cell_type": "code",
   "execution_count": 57,
   "metadata": {
    "colab": {},
    "colab_type": "code",
    "id": "7JRjwdIOFxg3",
    "outputId": "f968be82-c539-471d-ce23-16f18b059ea0"
   },
   "outputs": [
    {
     "name": "stdout",
     "output_type": "stream",
     "text": [
      "0.9430245217481467\n"
     ]
    }
   ],
   "source": [
    "cnt=0\n",
    "for i in data['cleaned_summary']:\n",
    "    if(len(i.split())<=8):\n",
    "        cnt=cnt+1\n",
    "print(cnt/len(data['cleaned_summary']))"
   ]
  },
  {
   "cell_type": "markdown",
   "metadata": {
    "colab_type": "text",
    "id": "yYB4Ga9KMjEu"
   },
   "source": [
    "We observe that 94% of the summaries have length below 8. So, we can fix maximum length of summary to 8.\n",
    "\n",
    "Let us fix the maximum length of review to 30"
   ]
  },
  {
   "cell_type": "code",
   "execution_count": 58,
   "metadata": {
    "colab": {},
    "colab_type": "code",
    "id": "ZKD5VOWqFxhC"
   },
   "outputs": [],
   "source": [
    "max_text_len=30\n",
    "max_summary_len=8"
   ]
  },
  {
   "cell_type": "markdown",
   "metadata": {
    "colab_type": "text",
    "id": "E6d48E-8M4VO"
   },
   "source": [
    "Let us select the reviews and summaries whose length falls below or equal to **max_text_len** and **max_summary_len**"
   ]
  },
  {
   "cell_type": "code",
   "execution_count": 59,
   "metadata": {
    "colab": {},
    "colab_type": "code",
    "id": "yY0tEJP0FxhI"
   },
   "outputs": [],
   "source": [
    "cleaned_text =np.array(data['cleaned_text'])\n",
    "cleaned_summary=np.array(data['cleaned_summary'])\n",
    "\n",
    "short_text=[]\n",
    "short_summary=[]\n",
    "\n",
    "for i in range(len(cleaned_text)):\n",
    "    if(len(cleaned_summary[i].split())<=max_summary_len and len(cleaned_text[i].split())<=max_text_len):\n",
    "        short_text.append(cleaned_text[i])\n",
    "        short_summary.append(cleaned_summary[i])\n",
    "        \n",
    "df=pd.DataFrame({'text':short_text,'summary':short_summary})"
   ]
  },
  {
   "cell_type": "markdown",
   "metadata": {
    "colab_type": "text",
    "id": "tR1uh8xSNUma"
   },
   "source": [
    "Remember to add the **START** and **END** special tokens at the beginning and end of the summary. Here, I have chosen **sostok** and **eostok** as START and END tokens"
   ]
  },
  {
   "cell_type": "code",
   "execution_count": 60,
   "metadata": {
    "colab": {},
    "colab_type": "code",
    "id": "EwLUH78CFxhg"
   },
   "outputs": [],
   "source": [
    "df['summary'] = df['summary'].apply(lambda x : 'sostok '+ x + ' eostok')"
   ]
  },
  {
   "cell_type": "code",
   "execution_count": 61,
   "metadata": {
    "colab": {},
    "colab_type": "code",
    "id": "RakakKHcFxhl"
   },
   "outputs": [],
   "source": [
    "from sklearn.model_selection import train_test_split\n",
    "x_tr,x_val,y_tr,y_val=train_test_split(np.array(df['text']),np.array(df['summary']),test_size=0.1,random_state=0,shuffle=True) "
   ]
  },
  {
   "cell_type": "markdown",
   "metadata": {
    "colab_type": "text",
    "id": "Vq1mqyOHOtIl"
   },
   "source": [
    "#Preparing the Tokenizer\n",
    "\n",
    "A tokenizer builds the vocabulary and converts a word sequence to an integer sequence. Go ahead and build tokenizers for text and summary:\n",
    "\n",
    "#Text Tokenizer"
   ]
  },
  {
   "cell_type": "code",
   "execution_count": 62,
   "metadata": {
    "colab": {},
    "colab_type": "code",
    "id": "oRHTgX6hFxhq"
   },
   "outputs": [],
   "source": [
    "from keras.preprocessing.text import Tokenizer \n",
    "from keras.preprocessing.sequence import pad_sequences\n",
    "\n",
    "#prepare a tokenizer for reviews on training data\n",
    "x_tokenizer = Tokenizer() \n",
    "x_tokenizer.fit_on_texts(list(x_tr))"
   ]
  },
  {
   "cell_type": "markdown",
   "metadata": {
    "colab_type": "text",
    "id": "RzvLwYL_PDcx"
   },
   "source": [
    "\n",
    "\n",
    "Here, I am defining the threshold to be 4 which means word whose count is below 4 is considered as a rare word"
   ]
  },
  {
   "cell_type": "code",
   "execution_count": 63,
   "metadata": {
    "colab": {},
    "colab_type": "code",
    "id": "y8KronV2Fxhx",
    "outputId": "d2eb2f27-fbbc-4e61-9556-3c3ff5e4327b"
   },
   "outputs": [
    {
     "name": "stdout",
     "output_type": "stream",
     "text": [
      "% of rare words in vocabulary: 66.89049586776859\n",
      "Total Coverage of rare words: 6.417143627086275\n"
     ]
    }
   ],
   "source": [
    "thresh=4\n",
    "\n",
    "cnt=0\n",
    "tot_cnt=0\n",
    "freq=0\n",
    "tot_freq=0\n",
    "\n",
    "for key,value in x_tokenizer.word_counts.items():\n",
    "    tot_cnt=tot_cnt+1\n",
    "    tot_freq=tot_freq+value\n",
    "    if(value<thresh):\n",
    "        cnt=cnt+1\n",
    "        freq=freq+value\n",
    "    \n",
    "print(\"% of rare words in vocabulary:\",(cnt/tot_cnt)*100)\n",
    "print(\"Total Coverage of rare words:\",(freq/tot_freq)*100)"
   ]
  },
  {
   "cell_type": "markdown",
   "metadata": {
    "colab_type": "text",
    "id": "So-J-5kzQIeO"
   },
   "source": [
    "**Remember**:\n",
    "\n",
    "\n",
    "* **tot_cnt** gives the size of vocabulary (which means every unique words in the text)\n",
    " \n",
    "*   **cnt** gives me the no. of rare words whose count falls below threshold\n",
    "\n",
    "*  **tot_cnt - cnt** gives me the top most common words \n",
    "\n",
    "Let us define the tokenizer with top most common words for reviews."
   ]
  },
  {
   "cell_type": "code",
   "execution_count": 64,
   "metadata": {
    "colab": {},
    "colab_type": "code",
    "id": "J2giEsF3Fxh3"
   },
   "outputs": [],
   "source": [
    "#prepare a tokenizer for reviews on training data\n",
    "x_tokenizer = Tokenizer(num_words=tot_cnt-cnt) \n",
    "x_tokenizer.fit_on_texts(list(x_tr))\n",
    "\n",
    "#convert text sequences into integer sequences\n",
    "x_tr_seq    =   x_tokenizer.texts_to_sequences(x_tr) \n",
    "x_val_seq   =   x_tokenizer.texts_to_sequences(x_val)\n",
    "\n",
    "#padding zero upto maximum length\n",
    "x_tr    =   pad_sequences(x_tr_seq,  maxlen=max_text_len, padding='post')\n",
    "x_val   =   pad_sequences(x_val_seq, maxlen=max_text_len, padding='post')\n",
    "\n",
    "#size of vocabulary ( +1 for padding token)\n",
    "x_voc   =  x_tokenizer.num_words + 1\n"
   ]
  },
  {
   "cell_type": "code",
   "execution_count": 65,
   "metadata": {
    "colab": {},
    "colab_type": "code",
    "id": "DCbGMsm4FxiA",
    "outputId": "2d9165f0-e542-4114-91f3-e070d483fce9"
   },
   "outputs": [
    {
     "data": {
      "text/plain": [
       "3847"
      ]
     },
     "execution_count": 65,
     "metadata": {},
     "output_type": "execute_result"
    }
   ],
   "source": [
    "x_voc"
   ]
  },
  {
   "cell_type": "markdown",
   "metadata": {
    "colab_type": "text",
    "id": "uQfKP3sqRxi9"
   },
   "source": [
    "#Summary Tokenizer"
   ]
  },
  {
   "cell_type": "code",
   "execution_count": 66,
   "metadata": {
    "colab": {},
    "colab_type": "code",
    "id": "eRHqyBkBFxiJ"
   },
   "outputs": [],
   "source": [
    "#prepare a tokenizer for reviews on training data\n",
    "y_tokenizer = Tokenizer()   \n",
    "y_tokenizer.fit_on_texts(list(y_tr))"
   ]
  },
  {
   "cell_type": "markdown",
   "metadata": {
    "colab_type": "text",
    "id": "KInA6O6ZSkJz"
   },
   "source": [
    "#Rarewords and its Coverage\n",
    "\n",
    "Let us look at the proportion rare words and its total coverage in the entire summary\n",
    "\n",
    "Here, I am defining the threshold to be 6 which means word whose count is below 6 is considered as a rare word"
   ]
  },
  {
   "cell_type": "code",
   "execution_count": 67,
   "metadata": {
    "colab": {},
    "colab_type": "code",
    "id": "yzE5OiRLFxiM",
    "outputId": "7f7a4f89-b088-4847-8172-09e5a2383d0e"
   },
   "outputs": [
    {
     "name": "stdout",
     "output_type": "stream",
     "text": [
      "% of rare words in vocabulary: 82.33944954128441\n",
      "Total Coverage of rare words: 10.91750944315828\n"
     ]
    }
   ],
   "source": [
    "thresh=6\n",
    "\n",
    "cnt=0\n",
    "tot_cnt=0\n",
    "freq=0\n",
    "tot_freq=0\n",
    "\n",
    "for key,value in y_tokenizer.word_counts.items():\n",
    "    tot_cnt=tot_cnt+1\n",
    "    tot_freq=tot_freq+value\n",
    "    if(value<thresh):\n",
    "        cnt=cnt+1\n",
    "        freq=freq+value\n",
    "    \n",
    "print(\"% of rare words in vocabulary:\",(cnt/tot_cnt)*100)\n",
    "print(\"Total Coverage of rare words:\",(freq/tot_freq)*100)"
   ]
  },
  {
   "cell_type": "markdown",
   "metadata": {
    "colab_type": "text",
    "id": "0PBhzKuRSw_9"
   },
   "source": [
    "Let us define the tokenizer with top most common words for summary."
   ]
  },
  {
   "cell_type": "code",
   "execution_count": 68,
   "metadata": {
    "colab": {},
    "colab_type": "code",
    "id": "-fswLvIgFxiR"
   },
   "outputs": [],
   "source": [
    "#prepare a tokenizer for reviews on training data\n",
    "y_tokenizer = Tokenizer(num_words=tot_cnt-cnt) \n",
    "y_tokenizer.fit_on_texts(list(y_tr))\n",
    "\n",
    "#convert text sequences into integer sequences\n",
    "y_tr_seq    =   y_tokenizer.texts_to_sequences(y_tr) \n",
    "y_val_seq   =   y_tokenizer.texts_to_sequences(y_val) \n",
    "\n",
    "#padding zero upto maximum length\n",
    "y_tr    =   pad_sequences(y_tr_seq, maxlen=max_summary_len, padding='post')\n",
    "y_val   =   pad_sequences(y_val_seq, maxlen=max_summary_len, padding='post')\n",
    "\n",
    "#size of vocabulary\n",
    "y_voc  =   y_tokenizer.num_words +1"
   ]
  },
  {
   "cell_type": "markdown",
   "metadata": {
    "colab_type": "text",
    "id": "qqwDUT5oTFmn"
   },
   "source": [
    "Let us check whether word count of start token is equal to length of the training data"
   ]
  },
  {
   "cell_type": "code",
   "execution_count": 69,
   "metadata": {
    "colab": {},
    "colab_type": "code",
    "id": "pR8IX9FRFxiY",
    "outputId": "b116cdbd-42c4-4ede-9f6d-46284115393e"
   },
   "outputs": [
    {
     "data": {
      "text/plain": [
       "(9470, 9470)"
      ]
     },
     "execution_count": 69,
     "metadata": {},
     "output_type": "execute_result"
    }
   ],
   "source": [
    "y_tokenizer.word_counts['sostok'],len(y_tr)   "
   ]
  },
  {
   "cell_type": "markdown",
   "metadata": {
    "colab_type": "text",
    "id": "LVFhFVguTTtw"
   },
   "source": [
    "Here, I am deleting the rows that contain only **START** and **END** tokens"
   ]
  },
  {
   "cell_type": "code",
   "execution_count": 70,
   "metadata": {
    "colab": {},
    "colab_type": "code",
    "id": "kZ-vW82sFxih"
   },
   "outputs": [],
   "source": [
    "ind=[]\n",
    "for i in range(len(y_tr)):\n",
    "    cnt=0\n",
    "    for j in y_tr[i]:\n",
    "        if j!=0:\n",
    "            cnt=cnt+1\n",
    "    if(cnt==2):\n",
    "        ind.append(i)\n",
    "\n",
    "y_tr=np.delete(y_tr,ind, axis=0)\n",
    "x_tr=np.delete(x_tr,ind, axis=0)"
   ]
  },
  {
   "cell_type": "code",
   "execution_count": 71,
   "metadata": {
    "colab": {},
    "colab_type": "code",
    "id": "cx5NISuMFxik"
   },
   "outputs": [],
   "source": [
    "ind=[]\n",
    "for i in range(len(y_val)):\n",
    "    cnt=0\n",
    "    for j in y_val[i]:\n",
    "        if j!=0:\n",
    "            cnt=cnt+1\n",
    "    if(cnt==2):\n",
    "        ind.append(i)\n",
    "\n",
    "y_val=np.delete(y_val,ind, axis=0)\n",
    "x_val=np.delete(x_val,ind, axis=0)"
   ]
  },
  {
   "cell_type": "markdown",
   "metadata": {
    "colab_type": "text",
    "id": "wOtlDcthFxip"
   },
   "source": [
    "###  Model building"
   ]
  },
  {
   "cell_type": "code",
   "execution_count": 72,
   "metadata": {
    "colab": {},
    "colab_type": "code",
    "id": "zXef38nBFxir",
    "outputId": "7ae99521-46f8-4c6f-9cba-4979deffeee8"
   },
   "outputs": [
    {
     "name": "stdout",
     "output_type": "stream",
     "text": [
      "__________________________________________________________________________________________________\n",
      "Layer (type)                    Output Shape         Param #     Connected to                     \n",
      "==================================================================================================\n",
      "input_1 (InputLayer)            (None, 30)           0                                            \n",
      "__________________________________________________________________________________________________\n",
      "embedding (Embedding)           (None, 30, 100)      384700      input_1[0][0]                    \n",
      "__________________________________________________________________________________________________\n",
      "lstm (LSTM)                     [(None, 30, 300), (N 481200      embedding[0][0]                  \n",
      "__________________________________________________________________________________________________\n",
      "input_2 (InputLayer)            (None, None)         0                                            \n",
      "__________________________________________________________________________________________________\n",
      "lstm_1 (LSTM)                   [(None, 30, 300), (N 721200      lstm[0][0]                       \n",
      "__________________________________________________________________________________________________\n",
      "embedding_1 (Embedding)         (None, None, 100)    69400       input_2[0][0]                    \n",
      "__________________________________________________________________________________________________\n",
      "lstm_2 (LSTM)                   [(None, 30, 300), (N 721200      lstm_1[0][0]                     \n",
      "__________________________________________________________________________________________________\n",
      "lstm_3 (LSTM)                   [(None, None, 300),  481200      embedding_1[0][0]                \n",
      "                                                                 lstm_2[0][1]                     \n",
      "                                                                 lstm_2[0][2]                     \n",
      "__________________________________________________________________________________________________\n",
      "attention_layer (AttentionLayer [(None, None, 300),  180300      lstm_2[0][0]                     \n",
      "                                                                 lstm_3[0][0]                     \n",
      "__________________________________________________________________________________________________\n",
      "concat_layer (Concatenate)      (None, None, 600)    0           lstm_3[0][0]                     \n",
      "                                                                 attention_layer[0][0]            \n",
      "__________________________________________________________________________________________________\n",
      "time_distributed (TimeDistribut (None, None, 694)    417094      concat_layer[0][0]               \n",
      "==================================================================================================\n",
      "Total params: 3,456,294\n",
      "Trainable params: 3,456,294\n",
      "Non-trainable params: 0\n",
      "__________________________________________________________________________________________________\n"
     ]
    }
   ],
   "source": [
    "from keras import backend as K \n",
    "K.clear_session()\n",
    "\n",
    "latent_dim = 300\n",
    "embedding_dim=100\n",
    "\n",
    "# Encoder\n",
    "encoder_inputs = Input(shape=(max_text_len,))\n",
    "\n",
    "#embedding layer\n",
    "enc_emb =  Embedding(x_voc, embedding_dim,trainable=True)(encoder_inputs)\n",
    "\n",
    "#encoder lstm 1\n",
    "encoder_lstm1 = LSTM(latent_dim,return_sequences=True,return_state=True,dropout=0.4,recurrent_dropout=0.4)\n",
    "encoder_output1, state_h1, state_c1 = encoder_lstm1(enc_emb)\n",
    "\n",
    "#encoder lstm 2\n",
    "encoder_lstm2 = LSTM(latent_dim,return_sequences=True,return_state=True,dropout=0.4,recurrent_dropout=0.4)\n",
    "encoder_output2, state_h2, state_c2 = encoder_lstm2(encoder_output1)\n",
    "\n",
    "#encoder lstm 3\n",
    "encoder_lstm3=LSTM(latent_dim, return_state=True, return_sequences=True,dropout=0.4,recurrent_dropout=0.4)\n",
    "encoder_outputs, state_h, state_c= encoder_lstm3(encoder_output2)\n",
    "\n",
    "# Set up the decoder, using `encoder_states` as initial state.\n",
    "decoder_inputs = Input(shape=(None,))\n",
    "\n",
    "#embedding layer\n",
    "dec_emb_layer = Embedding(y_voc, embedding_dim,trainable=True)\n",
    "dec_emb = dec_emb_layer(decoder_inputs)\n",
    "\n",
    "decoder_lstm = LSTM(latent_dim, return_sequences=True, return_state=True,dropout=0.4,recurrent_dropout=0.2)\n",
    "decoder_outputs,decoder_fwd_state, decoder_back_state = decoder_lstm(dec_emb,initial_state=[state_h, state_c])\n",
    "\n",
    "# Attention layer\n",
    "attn_layer = AttentionLayer(name='attention_layer')\n",
    "attn_out, attn_states = attn_layer([encoder_outputs, decoder_outputs])\n",
    "\n",
    "# Concat attention input and decoder LSTM output\n",
    "decoder_concat_input = Concatenate(axis=-1, name='concat_layer')([decoder_outputs, attn_out])\n",
    "\n",
    "#dense layer\n",
    "decoder_dense =  TimeDistributed(Dense(y_voc, activation='softmax'))\n",
    "decoder_outputs = decoder_dense(decoder_concat_input)\n",
    "\n",
    "# Define the model \n",
    "model = Model([encoder_inputs, decoder_inputs], decoder_outputs)\n",
    "\n",
    "model.summary() "
   ]
  },
  {
   "cell_type": "code",
   "execution_count": 73,
   "metadata": {
    "colab": {},
    "colab_type": "code",
    "id": "Lwfi1Fm8Fxiz"
   },
   "outputs": [],
   "source": [
    "model.compile(optimizer='rmsprop', loss='sparse_categorical_crossentropy')"
   ]
  },
  {
   "cell_type": "code",
   "execution_count": 74,
   "metadata": {
    "colab": {},
    "colab_type": "code",
    "id": "s-A3J92MUljB"
   },
   "outputs": [],
   "source": [
    "es = EarlyStopping(monitor='val_loss', mode='min', verbose=1,patience=2)"
   ]
  },
  {
   "cell_type": "markdown",
   "metadata": {
    "colab_type": "text",
    "id": "Mw6CVECaUq5b"
   },
   "source": [
    "We’ll train the model on a batch size of 128 and validate it on the holdout set (which is 10% of our dataset):"
   ]
  },
  {
   "cell_type": "code",
   "execution_count": 75,
   "metadata": {
    "colab": {},
    "colab_type": "code",
    "id": "ETnPzA4OFxi3",
    "outputId": "477e374f-7cf2-4d60-f86e-2c49c9cebedb"
   },
   "outputs": [
    {
     "name": "stdout",
     "output_type": "stream",
     "text": [
      "Train on 8956 samples, validate on 999 samples\n",
      "Epoch 1/50\n",
      "8956/8956 [==============================] - 390s 44ms/sample - loss: 2.8316 - val_loss: 2.4218\n",
      "Epoch 2/50\n",
      "8956/8956 [==============================] - 306s 34ms/sample - loss: 2.3531 - val_loss: 2.3101\n",
      "Epoch 3/50\n",
      "8956/8956 [==============================] - 307s 34ms/sample - loss: 2.2671 - val_loss: 2.2680\n",
      "Epoch 4/50\n",
      "8956/8956 [==============================] - 310s 35ms/sample - loss: 2.2165 - val_loss: 2.2353\n",
      "Epoch 5/50\n",
      "8956/8956 [==============================] - 320s 36ms/sample - loss: 2.1685 - val_loss: 2.2020\n",
      "Epoch 6/50\n",
      "8956/8956 [==============================] - 302s 34ms/sample - loss: 2.1230 - val_loss: 2.1723\n",
      "Epoch 7/50\n",
      "8956/8956 [==============================] - 297s 33ms/sample - loss: 2.0776 - val_loss: 2.1442\n",
      "Epoch 8/50\n",
      "8956/8956 [==============================] - 290s 32ms/sample - loss: 2.0269 - val_loss: 2.1048\n",
      "Epoch 9/50\n",
      "8956/8956 [==============================] - 293s 33ms/sample - loss: 1.9769 - val_loss: 2.0725\n",
      "Epoch 10/50\n",
      "8956/8956 [==============================] - 331s 37ms/sample - loss: 1.9282 - val_loss: 2.0467\n",
      "Epoch 11/50\n",
      "8956/8956 [==============================] - 331s 37ms/sample - loss: 1.8864 - val_loss: 2.0268\n",
      "Epoch 12/50\n",
      "8956/8956 [==============================] - 302s 34ms/sample - loss: 1.8482 - val_loss: 2.0149\n",
      "Epoch 13/50\n",
      "8956/8956 [==============================] - 305s 34ms/sample - loss: 1.8105 - val_loss: 2.0002\n",
      "Epoch 14/50\n",
      "8956/8956 [==============================] - 306s 34ms/sample - loss: 1.7766 - val_loss: 1.9931\n",
      "Epoch 15/50\n",
      "8956/8956 [==============================] - 311s 35ms/sample - loss: 1.7456 - val_loss: 1.9886\n",
      "Epoch 16/50\n",
      "8956/8956 [==============================] - 307s 34ms/sample - loss: 1.7158 - val_loss: 1.9843\n",
      "Epoch 17/50\n",
      "8956/8956 [==============================] - 318s 36ms/sample - loss: 1.6859 - val_loss: 1.9746\n",
      "Epoch 18/50\n",
      "8956/8956 [==============================] - 343s 38ms/sample - loss: 1.6588 - val_loss: 1.9816\n",
      "Epoch 19/50\n",
      "8956/8956 [==============================] - 303s 34ms/sample - loss: 1.6320 - val_loss: 1.9819\n",
      "Epoch 00019: early stopping\n"
     ]
    }
   ],
   "source": [
    "history=model.fit([x_tr,y_tr[:,:-1]], y_tr.reshape(y_tr.shape[0],y_tr.shape[1], 1)[:,1:] ,epochs=50,callbacks=[es],batch_size=128, validation_data=([x_val,y_val[:,:-1]], y_val.reshape(y_val.shape[0],y_val.shape[1], 1)[:,1:]))"
   ]
  },
  {
   "cell_type": "markdown",
   "metadata": {
    "colab_type": "text",
    "id": "0ezKYOp2UxG5"
   },
   "source": [
    "#Understanding the Diagnostic plot\n",
    "\n",
    "Now, we will plot a few diagnostic plots to understand the behavior of the model over time:"
   ]
  },
  {
   "cell_type": "code",
   "execution_count": 76,
   "metadata": {
    "colab": {},
    "colab_type": "code",
    "id": "tDTNLAURFxjE",
    "outputId": "e2ea6e44-3931-4014-97a1-03fa2a441228"
   },
   "outputs": [
    {
     "data": {
      "image/png": "[encoded data removed]",
      "text/plain": [
       "<Figure size 432x288 with 1 Axes>"
      ]
     },
     "metadata": {
      "needs_background": "light"
     },
     "output_type": "display_data"
    }
   ],
   "source": [
    "from matplotlib import pyplot\n",
    "pyplot.plot(history.history['loss'], label='train')\n",
    "pyplot.plot(history.history['val_loss'], label='test')\n",
    "pyplot.legend()\n",
    "pyplot.show()\n"
   ]
  },
  {
   "cell_type": "code",
   "execution_count": 77,
   "metadata": {
    "colab": {},
    "colab_type": "code",
    "id": "sBX0zZnOFxjW"
   },
   "outputs": [],
   "source": [
    "reverse_target_word_index=y_tokenizer.index_word\n",
    "reverse_source_word_index=x_tokenizer.index_word\n",
    "target_word_index=y_tokenizer.word_index"
   ]
  },
  {
   "cell_type": "markdown",
   "metadata": {
    "colab_type": "text",
    "id": "eM_nU_VvFxjq"
   },
   "source": [
    "# Inference\n",
    "\n",
    "Set up the inference for the encoder and decoder:"
   ]
  },
  {
   "cell_type": "code",
   "execution_count": 78,
   "metadata": {
    "colab": {},
    "colab_type": "code",
    "id": "9QkrNV-4Fxjt"
   },
   "outputs": [],
   "source": [
    "# Encode the input sequence to get the feature vector\n",
    "encoder_model = Model(inputs=encoder_inputs,outputs=[encoder_outputs, state_h, state_c])\n",
    "\n",
    "# Decoder setup\n",
    "# Below tensors will hold the states of the previous time step\n",
    "decoder_state_input_h = Input(shape=(latent_dim,))\n",
    "decoder_state_input_c = Input(shape=(latent_dim,))\n",
    "decoder_hidden_state_input = Input(shape=(max_text_len,latent_dim))\n",
    "\n",
    "# Get the embeddings of the decoder sequence\n",
    "dec_emb2= dec_emb_layer(decoder_inputs) \n",
    "# To predict the next word in the sequence, set the initial states to the states from the previous time step\n",
    "decoder_outputs2, state_h2, state_c2 = decoder_lstm(dec_emb2, initial_state=[decoder_state_input_h, decoder_state_input_c])\n",
    "\n",
    "#attention inference\n",
    "attn_out_inf, attn_states_inf = attn_layer([decoder_hidden_state_input, decoder_outputs2])\n",
    "decoder_inf_concat = Concatenate(axis=-1, name='concat')([decoder_outputs2, attn_out_inf])\n",
    "\n",
    "# A dense softmax layer to generate prob dist. over the target vocabulary\n",
    "decoder_outputs2 = decoder_dense(decoder_inf_concat) \n",
    "\n",
    "# Final decoder model\n",
    "decoder_model = Model(\n",
    "    [decoder_inputs] + [decoder_hidden_state_input,decoder_state_input_h, decoder_state_input_c],\n",
    "    [decoder_outputs2] + [state_h2, state_c2])"
   ]
  },
  {
   "cell_type": "code",
   "execution_count": 79,
   "metadata": {
    "colab": {},
    "colab_type": "code",
    "id": "6f6TTFnBFxj6"
   },
   "outputs": [],
   "source": [
    "def decode_sequence(input_seq):\n",
    "    # Encode the input as state vectors.\n",
    "    e_out, e_h, e_c = encoder_model.predict(input_seq)\n",
    "    \n",
    "    # Generate empty target sequence of length 1.\n",
    "    target_seq = np.zeros((1,1))\n",
    "    \n",
    "    # Populate the first word of target sequence with the start word.\n",
    "    target_seq[0, 0] = target_word_index['sostok']\n",
    "\n",
    "    stop_condition = False\n",
    "    decoded_sentence = ''\n",
    "    while not stop_condition:\n",
    "      \n",
    "        output_tokens, h, c = decoder_model.predict([target_seq] + [e_out, e_h, e_c])\n",
    "\n",
    "        # Sample a token\n",
    "        sampled_token_index = np.argmax(output_tokens[0, -1, :])\n",
    "        sampled_token = reverse_target_word_index[sampled_token_index]\n",
    "        \n",
    "        if(sampled_token!='eostok'):\n",
    "            decoded_sentence += ' '+sampled_token\n",
    "\n",
    "        # Exit condition: either hit max length or find stop word.\n",
    "        if (sampled_token == 'eostok'  or len(decoded_sentence.split()) >= (max_summary_len-1)):\n",
    "            stop_condition = True\n",
    "\n",
    "        # Update the target sequence (of length 1).\n",
    "        target_seq = np.zeros((1,1))\n",
    "        target_seq[0, 0] = sampled_token_index\n",
    "\n",
    "        # Update internal states\n",
    "        e_h, e_c = h, c\n",
    "\n",
    "    return decoded_sentence"
   ]
  },
  {
   "cell_type": "markdown",
   "metadata": {
    "colab_type": "text",
    "id": "6GuDf4TPWt6_"
   },
   "source": [
    "Let us define the functions to convert an integer sequence to a word sequence for summary as well as the reviews:"
   ]
  },
  {
   "cell_type": "code",
   "execution_count": 80,
   "metadata": {
    "colab": {},
    "colab_type": "code",
    "id": "aAUntznIFxj9"
   },
   "outputs": [],
   "source": [
    "def seq2summary(input_seq):\n",
    "    newString=''\n",
    "    for i in input_seq:\n",
    "        if((i!=0 and i!=target_word_index['sostok']) and i!=target_word_index['eostok']):\n",
    "            newString=newString+reverse_target_word_index[i]+' '\n",
    "    return newString\n",
    "\n",
    "def seq2text(input_seq):\n",
    "    newString=''\n",
    "    for i in input_seq:\n",
    "        if(i!=0):\n",
    "            newString=newString+reverse_source_word_index[i]+' '\n",
    "    return newString"
   ]
  },
  {
   "cell_type": "markdown",
   "metadata": {
    "colab_type": "text",
    "id": "9gM4ALyfWwA9"
   },
   "source": [
    "Here are a few summaries generated by the model:"
   ]
  },
  {
   "cell_type": "code",
   "execution_count": 81,
   "metadata": {
    "colab": {},
    "colab_type": "code",
    "id": "BUtQmQTmFxkI",
    "outputId": "f407d9fc-e0cd-4082-98f5-bd1f562dc26f"
   },
   "outputs": [
    {
     "name": "stdout",
     "output_type": "stream",
     "text": [
      "Review: loved packs flavors except chocolate covered melted one great big everyday summer cannot blame anyone \n",
      "Original summary: nuts great chocolate melted \n",
      "Predicted summary:  great\n",
      "\n",
      "\n",
      "Review: like darker roast guess ok would buy brew middle selection keurig full cup \n",
      "Original summary: too mild \n",
      "Predicted summary:  great coffee\n",
      "\n",
      "\n",
      "Review: fill cups great use custom coffee come cup variety disposable fill several ready also drink herbal tea buy bulk make kuerig would definitely buy hand \n",
      "Original summary: great to have on \n",
      "Predicted summary:  great coffee\n",
      "\n",
      "\n",
      "Review: tablets really fun try parents friends loved well worked drink store bought orange juice though sickly sweet sugar added acid favorite fresh pineapple sucking limes \n",
      "Original summary: flavor \n",
      "Predicted summary:  good but not good\n",
      "\n",
      "\n",
      "Review: soup sweet left salt full sugar grams sugar per serving two servings sweet also dairy butter vegan someone dairy allergies \n",
      "Original summary: not soup \n",
      "Predicted summary:  not like the money\n",
      "\n",
      "\n",
      "Review: seriously food purchased baby ever eaten everything given poor thing gagged gagged every spoon tried \n",
      "Original summary: had to out \n",
      "Predicted summary:  not\n",
      "\n",
      "\n",
      "Review: definitely best tasting sure milk pods causing aftertaste tried coffee straight milk creamer tasted better \n",
      "Original summary: my favorite of the \n",
      "Predicted summary:  great coffee\n",
      "\n",
      "\n",
      "Review: love chip started dieting satisfy every bit salty cravings perfect taste amazing get bad reviews love \n",
      "Original summary: bad these are amazing \n",
      "Predicted summary:  great\n",
      "\n",
      "\n",
      "Review: good tasted like oatmeal cookies coconut rather small price might fly people pay healthy days \n",
      "Original summary: nom nom nom excellent \n",
      "Predicted summary:  yummy\n",
      "\n",
      "\n",
      "Review: wanted lite seeing product looked forward great bacon taste house taste greasy taste also buy product \n",
      "Original summary: ok \n",
      "Predicted summary:  not what expected\n",
      "\n",
      "\n",
      "Review: never bonsai go purchased japanese kit arrived thrilled everything needed instructions clear tree healthy never showed thank eve garden \n",
      "Original summary: perfect little \n",
      "Predicted summary:  cat food\n",
      "\n",
      "\n",
      "Review: good product price amazon excellent really like coming door subscribe save excellent way shop \n",
      "Original summary: cat food \n",
      "Predicted summary:  great product\n",
      "\n",
      "\n",
      "Review: expected great taste healthy good shipment packing great fair value order thank \n",
      "Original summary: great taste \n",
      "Predicted summary:  good product\n",
      "\n",
      "\n",
      "Review: hot full great jerky sauces love \n",
      "Original summary: full of flavor \n",
      "Predicted summary:  great hot chocolate\n",
      "\n",
      "\n",
      "Review: opening numerous bags found none chips flavoring completely plain gross even happen \n",
      "Original summary: off \n",
      "Predicted summary:  these are great\n",
      "\n",
      "\n",
      "Review: stuff really works makes lemons taste sweet gave friend loved ordered give friends great party idea try sorts foods change flavor fun experiment \n",
      "Original summary: really works \n",
      "Predicted summary:  great taste\n",
      "\n",
      "\n",
      "Review: great assortment price give stars peppermint weak peppermint add extract nice cocoa flavor tho reminds homemade \n",
      "Original summary: very pleased \n",
      "Predicted summary:  not good\n",
      "\n",
      "\n",
      "Review: chili filling mildly spicy cooks well however makes microwave \n",
      "Original summary: good chili \n",
      "Predicted summary:  good product\n",
      "\n",
      "\n",
      "Review: ounces tad expensive would say drink grams sugar also negative sugar lover big enough quench thirst delicious enough find coming back natural citrus \n",
      "Original summary: small size and mediocre taste \n",
      "Predicted summary:  not as good as\n",
      "\n",
      "\n",
      "Review: excellent coffee flavor robust without bitter would give five star rating amount grounds produced drink last cup \n",
      "Original summary: you will need \n",
      "Predicted summary:  great coffee\n",
      "\n",
      "\n",
      "Review: truly best tried tried many like strong coffee turned bitter aftertaste try coffee strong flavorful smooth practically perfect love smell brews \n",
      "Original summary: bold yet smooth \n",
      "Predicted summary:  best coffee\n",
      "\n",
      "\n",
      "Review: made mistake thinking product simply brown sugar flavored splenda read product details stating actually brown sugar mistake \n",
      "Original summary: this product has sugar in it \n",
      "Predicted summary:  not\n",
      "\n",
      "\n",
      "Review: hot sauce good shipping fine would reccomend product people much else say hot sauce \n",
      "Original summary: good hot sauce \n",
      "Predicted summary:  great hot chocolate\n",
      "\n",
      "\n",
      "Review: ordered finding good cook olive oil first time trying ghee really like ran bought another brand ghee story definitely like one better wish bigger size \n",
      "Original summary: love it \n",
      "Predicted summary:  great product\n",
      "\n",
      "\n",
      "Review: able find base three dollars cents much cheaper amazon asking love natural roasted peanut taste kids love mixing \n",
      "Original summary: great product but buying it \n",
      "Predicted summary:  great product\n",
      "\n",
      "\n",
      "Review: really like light airy almost like chips instead cookies flavor yummy oreo chocolate know love \n",
      "Original summary: very good snack \n",
      "Predicted summary:  great snack\n",
      "\n",
      "\n",
      "Review: even receive correct product received raw peanuts option return amazon allow contact got reply buy \n",
      "Original summary: terrible \n",
      "Predicted summary:  not\n",
      "\n",
      "\n",
      "Review: chips really good fun getting variety pack good regular chips probably also nearly fattening bad regular chips given healthier version want chips would highly recommend \n",
      "Original summary: delicious and healthy chips \n",
      "Predicted summary:  these are great\n",
      "\n",
      "\n",
      "Review: coffee great great bag said sure seller got bag sealed never opened \n",
      "Original summary: coffee \n",
      "Predicted summary:  great coffee\n",
      "\n",
      "\n",
      "Review: found rice years ago went back regular rice since flavor second none might little expensive regular rice worth dissapointed \n",
      "Original summary: eating it for \n",
      "Predicted summary:  not good\n",
      "\n",
      "\n",
      "Review: product good tried house enjoyed however case ordered contained cups worth hassle sending back however would hesitate order item amazon \n",
      "Original summary: product good cups \n",
      "Predicted summary:  good product\n",
      "\n",
      "\n",
      "Review: plant arrived packaged healthy came good instructions growing enjoy raising \n",
      "Original summary: healthy interesting plant \n",
      "Predicted summary:  cat food\n",
      "\n",
      "\n",
      "Review: really good hard chew like beef nuggets dry much downside bag stays moist inside little messy try eat bag drive home grease \n",
      "Original summary: much better than beef \n",
      "Predicted summary:  not as good as\n",
      "\n",
      "\n",
      "Review: much better protein products even taste great fill like shakes work quickly relatively cheap good things get \n",
      "Original summary: great ingredients and quality product \n",
      "Predicted summary:  great product\n",
      "\n",
      "\n",
      "Review: like one add collection works fits nicely counter top machine top drawer saving space smoothly \n",
      "Original summary: nice \n",
      "Predicted summary:  wonderful\n",
      "\n",
      "\n",
      "Review: love tea dieting best always purchase tea family \n",
      "Original summary: wonderful \n",
      "Predicted summary:  tea\n",
      "\n",
      "\n",
      "Review: using mushrooms cooking twenty plus years roland extra fancy purchased best ever used including mushrooms bought italy back usa \n",
      "Original summary: an excellent product \n",
      "Predicted summary:  great product\n",
      "\n",
      "\n",
      "Review: deal awesome arrived halloween indicated enough satisfy trick love quality product much less expensive local store candy \n",
      "Original summary: awesome deal \n",
      "Predicted summary:  great\n",
      "\n",
      "\n",
      "Review: product weak could even make supposed hot chocolate never buy waste money \n",
      "Original summary: okay hot chocolate \n",
      "Predicted summary:  not like the money\n",
      "\n",
      "\n",
      "Review: mix makes delicious pancakes gluten eating family wanted mine instead also make sausage balls biscuits biscuits gravy good \n",
      "Original summary: best pancakes \n",
      "Predicted summary:  best brownies ever\n",
      "\n",
      "\n",
      "Review: disappointed tried pancake mix going gluten free bisquick go pancake mix high expectations gluten free mix texture little weird soft dry prefer pamela pancake mix one \n",
      "Original summary: so so pancake mix \n",
      "Predicted summary:  not like the best\n",
      "\n",
      "\n",
      "Review: crackers amazing absolutely love anyone never buy another cracker quality outstanding italian crackers taste like mother used make lived italy \n",
      "Original summary: best crackers ever \n",
      "Predicted summary:  delicious\n",
      "\n",
      "\n",
      "Review: switched decaf looking decent cup keurig machine interested subscribe save options fairly light roast like brew middle setting think brewed larger would think light \n",
      "Original summary: pretty good decaf \n",
      "Predicted summary:  best coffee\n",
      "\n",
      "\n",
      "Review: really choice comes soy dairy free baking uses palm kernel oil consistancy regular seems bake fine need soy dairy free highly recommend \n",
      "Original summary: the only soy and free \n"
     ]
    },
    {
     "name": "stdout",
     "output_type": "stream",
     "text": [
      "Predicted summary:  great\n",
      "\n",
      "\n",
      "Review: reading previous comments people stated know flavored coffee clearly states bought mine brought amazon secure delightful flavored coffee pleasant wake morning \n",
      "Original summary: outstanding \n",
      "Predicted summary:  great coffee\n",
      "\n",
      "\n",
      "Review: older dog medium size mixed breed back problems also tea cup pom surgery love treat ingredients good easy way get take glucosamine chondroitin need \n",
      "Original summary: my dogs love this product \n",
      "Predicted summary:  great product\n",
      "\n",
      "\n",
      "Review: cookies really good unlike many offering cookies well packed none broken good value found store \n",
      "Original summary: cookies \n",
      "Predicted summary:  cookies\n",
      "\n",
      "\n",
      "Review: one favorite teas digestion probably drink cups tea every day \n",
      "Original summary: stomach tea \n",
      "Predicted summary:  tea\n",
      "\n",
      "\n",
      "Review: received product timely manner quality product good product well purpose ordered thanks \n",
      "Original summary: tasty \n",
      "Predicted summary:  good product\n",
      "\n",
      "\n",
      "Review: delicious salty sit eat ounce bags time give stars plus stop eating delicious \n",
      "Original summary: potato chips \n",
      "Predicted summary:  not like\n",
      "\n",
      "\n",
      "Review: using spike seasoning six years think great use almost meats soups stews \n",
      "Original summary: seasoning is great \n",
      "Predicted summary:  great product\n",
      "\n",
      "\n",
      "Review: love oil use mainly cooking hair order amazon cannot find \n",
      "Original summary: great purchase \n",
      "Predicted summary:  great product\n",
      "\n",
      "\n",
      "Review: dog little maltese loves product knows get reward business works every time also received product timely fashion thanks amazon \n",
      "Original summary: dog loves it \n",
      "Predicted summary:  my dog loves these\n",
      "\n",
      "\n",
      "Review: good tasting tea need sugar drinking one cup per day usually mid day blood pressure sure long takes help lower helps even little worth drinking especially since tasty \n",
      "Original summary: tea \n",
      "Predicted summary:  tea\n",
      "\n",
      "\n",
      "Review: carbonated version orange celcius drink perfect drink first thing morning starts day right drinking half celcius morning couple years long get keep starting day celcius \n",
      "Original summary: best morning drink \n",
      "Predicted summary:  delicious\n",
      "\n",
      "\n",
      "Review: found tea excellent reason stars instead shop get one containers open thing well sealed \n",
      "Original summary: yummy tea \n",
      "Predicted summary:  tea\n",
      "\n",
      "\n",
      "Review: ghee delicious little goes long way flavor wonderful aroma vegetable dishes burn easily like butter highly recommended \n",
      "Original summary: delicious \n",
      "Predicted summary:  best hot chocolate ever\n",
      "\n",
      "\n",
      "Review: poor product thinking looking mail order seafood amazon buy locally \n",
      "Original summary: sour and gross \n",
      "Predicted summary:  not\n",
      "\n",
      "\n",
      "Review: absolutely best hot chocolate sweet adults kids easy make add milk intense mixing required dissolves easily \n",
      "Original summary: the best hot cocoa \n",
      "Predicted summary:  best hot chocolate ever\n",
      "\n",
      "\n",
      "Review: always loved apple butter pb makes great glaze pork also touch apple salad plain apple always brand quality taste \n",
      "Original summary: butter not just for \n",
      "Predicted summary:  best brownies\n",
      "\n",
      "\n",
      "Review: really sure product would work expectations never buy ready made cups truly product \n",
      "Original summary: much better than \n",
      "Predicted summary:  good product\n",
      "\n",
      "\n",
      "Review: glutino crackers taste better gluten free crackers tried nice many choices available need alternatives \n",
      "Original summary: crackers \n",
      "Predicted summary:  delicious\n",
      "\n",
      "\n",
      "Review: glad finally available boyfriend loves try buy every month \n",
      "Original summary: microwave pork rinds \n",
      "Predicted summary:  great product\n",
      "\n",
      "\n",
      "Review: good prefer taste baking mixes scratch store bought pretty good much cheaper local grocery stores per box local stores area \n",
      "Original summary: bisquick \n",
      "Predicted summary:  great\n",
      "\n",
      "\n",
      "Review: truly enjoy good cup coffee give morning wolfgang puck really knows produce fine cup thanks \n",
      "Original summary: great cup of coffee \n",
      "Predicted summary:  great coffee\n",
      "\n",
      "\n",
      "Review: lived us yrs miss twizzlers go back visit someone visits always stock say yum sell mexico buyer often able buy right \n",
      "Original summary: please these in \n",
      "Predicted summary:  my\n",
      "\n",
      "\n",
      "Review: kiwi berry flavor sweet taste neither strawberry kiwi overpowering instead best flavors little carbonation favorite switch flavor \n",
      "Original summary: but sweet \n",
      "Predicted summary:  best gf cracker\n",
      "\n",
      "\n",
      "Review: dog loves treat aware whenever go stored give treat long hair etc \n",
      "Original summary: perfect treat \n",
      "Predicted summary:  my dog loves these\n",
      "\n",
      "\n",
      "Review: love coffee ounces per always make two time best tasting never anything great coffee dolce gusto \n",
      "Original summary: coffee \n",
      "Predicted summary:  great coffee\n",
      "\n",
      "\n",
      "Review: love chocolate found one best cookie real chocolate chunks every bit dream trust im real chocolate lover one black diamond read somebody said cheap product cookies super \n",
      "Original summary: yumm \n",
      "Predicted summary:  best brownies ever\n",
      "\n",
      "\n",
      "Review: thai coconut ginger noodles quick easy prepare delicious noodles enjoy share side dish another noodle \n",
      "Original summary: tasty and easy \n",
      "Predicted summary:  good product\n",
      "\n",
      "\n",
      "Review: tea excellent tea hot making iced tea great flavor aftertaste \n",
      "Original summary: tea \n",
      "Predicted summary:  tea\n",
      "\n",
      "\n",
      "Review: happy made purchase exactly think good value arrived quickly spike honestly best \n",
      "Original summary: good value \n",
      "Predicted summary:  great product\n",
      "\n",
      "\n",
      "Review: often bag sitting around work snacking really contrast snack foods \n",
      "Original summary: love this stuff \n",
      "Predicted summary:  great product\n",
      "\n",
      "\n",
      "Review: bought packet individual creamers keep track calories one creamer calories delicious add great flavor coffee recommended also store since last quite time enjoy cup coffee \n",
      "Original summary: delicious flavor \n",
      "Predicted summary:  great coffee\n",
      "\n",
      "\n",
      "Review: tried almost every meal one simply filling lunch dinner even snack tv know something good \n",
      "Original summary: out here \n",
      "Predicted summary:  great product\n",
      "\n",
      "\n",
      "Review: little one loves line food love convenient europe two weeks packed ton trip several easy convenient healthy love \n",
      "Original summary: perfect for \n",
      "Predicted summary:  great product\n",
      "\n",
      "\n",
      "Review: made peanut butter flour surprisingly good need put salt sweetner one taste personally like plain cannot beat lower calories lower fat price \n",
      "Original summary: great alternative to peanut butter \n",
      "Predicted summary:  best brownies ever\n",
      "\n",
      "\n",
      "Review: love french vanilla coffee gives day great start easy use one cup time waste \n",
      "Original summary: delicious \n",
      "Predicted summary:  great coffee\n",
      "\n",
      "\n",
      "Review: good deal flavor often carried stores honey berry flaver good thing things nature yum \n",
      "Original summary: drops \n",
      "Predicted summary:  great product\n",
      "\n",
      "\n",
      "Review: one eats cannot give best review son gobbles take star rating give stars since know organic worry eating review vegetables might star seem care peas much \n",
      "Original summary: great for on the go \n",
      "Predicted summary:  great\n",
      "\n",
      "\n",
      "Review: affordable product works well quite like enough plants reason spend money expensive moisture cheap effective product starts \n",
      "Original summary: healthy no more over \n",
      "Predicted summary:  good\n",
      "\n",
      "\n",
      "Review: interesting fun way spend evening tablet somewhat tart flavor sampled everything cheese fruits salt vinegar chips much great little mouth \n",
      "Original summary: fun little \n",
      "Predicted summary:  not\n",
      "\n",
      "\n",
      "Review: used two months sure helped dog still thinks already cut back cut back recommendation product directions loves taste lost even pounds would surprised worse though seem hunger \n",
      "Original summary: it or it \n",
      "Predicted summary:  pill pockets\n",
      "\n",
      "\n",
      "Review: enjoyable tea refreshing taste count pack excellent buy compared store prices \n",
      "Original summary: my tea \n",
      "Predicted summary:  tea\n",
      "\n",
      "\n",
      "Review: coffee awesome kinda bold sweetness excellent son says international creamer find dairy section \n",
      "Original summary: for coffee lovers \n",
      "Predicted summary:  great coffee\n",
      "\n",
      "\n",
      "Review: best coffee wake morning bitter right enjoyed served \n",
      "Original summary: best coffee \n",
      "Predicted summary:  great coffee\n",
      "\n",
      "\n",
      "Review: love things unlike products actually tastes really good would recommend family friends \n",
      "Original summary: awesome \n",
      "Predicted summary:  great\n",
      "\n",
      "\n",
      "Review: dog heart failure cannot standard dog treats salt perfect likes hunt snacks perfect toss let go nuts really likes \n",
      "Original summary: got them for my dog with \n",
      "Predicted summary:  dog treats\n",
      "\n",
      "\n",
      "Review: chip addict far tastiest non homemade chips ever plus healthy problem cannot decide flavor favorite \n",
      "Original summary: yum \n"
     ]
    },
    {
     "name": "stdout",
     "output_type": "stream",
     "text": [
      "Predicted summary:  great snack\n",
      "\n",
      "\n",
      "Review: love belgian waffles mix makes delicious waffle without trouble making scratch really good fussy tried pancakes yet \n",
      "Original summary: great taste and great price \n",
      "Predicted summary:  yummy\n",
      "\n",
      "\n",
      "Review: somewhat disappointed apple chips purchased apple chips past really loved thought would similar rather tasteless chips big mushy consistency would buy \n",
      "Original summary: chips \n",
      "Predicted summary:  not good\n",
      "\n",
      "\n",
      "Review: gf diet months used new product old quality company excellent results still use variety box goes long way little expensive worth \n",
      "Original summary: bisquick good \n",
      "Predicted summary:  good\n",
      "\n",
      "\n",
      "Review: yumm sat cafe along eating vanilla ice cream syrup top fell love cherries strong taste cherry syrup taste sensation watch could get addicted \n",
      "Original summary: in can \n",
      "Predicted summary:  great\n",
      "\n",
      "\n",
      "Review: never problem anything amazon ordered cases earth best baby food tasty nutritious variety offer grams protein iron subscribe save cannot get enough eats everyday \n",
      "Original summary: my son loves these \n",
      "Predicted summary:  great\n",
      "\n",
      "\n",
      "Review: stuff really works middle pop water bottle set flavor fine goes easy \n",
      "Original summary: great for \n",
      "Predicted summary:  great product\n",
      "\n",
      "\n",
      "Review: service excellent product looking price fault wife wanted could find anywhere days got went sunflower food stores found identical item thank service better next time bill \n",
      "Original summary: great product but way to expensive \n",
      "Predicted summary:  great product\n",
      "\n",
      "\n",
      "Review: reese consistently excellent always makes popcorn taste great use brand buy bulk prefer plain salt version cheesy quite good \n",
      "Original summary: popcorn lover \n",
      "Predicted summary:  not like\n",
      "\n",
      "\n",
      "Review: try vanilla tootsie rolls regular chocolate ones good best ever \n",
      "Original summary: vanilla \n",
      "Predicted summary:  great product\n",
      "\n",
      "\n",
      "Review: always hated starbucks burnt bitter taste great blend still strong without burn roasting low quality beans burned hide bad taste \n",
      "Original summary: perfect blend \n",
      "Predicted summary:  great coffee\n",
      "\n",
      "\n"
     ]
    }
   ],
   "source": [
    "for i in range(0,100):\n",
    "    print(\"Review:\",seq2text(x_tr[i]))\n",
    "    print(\"Original summary:\",seq2summary(y_tr[i]))\n",
    "    print(\"Predicted summary:\",decode_sequence(x_tr[i].reshape(1,max_text_len)))\n",
    "    print(\"\\n\")"
   ]
  },
  {
   "cell_type": "markdown",
   "metadata": {
    "colab_type": "text",
    "id": "OTkaYNjHW4lC"
   },
   "source": [
    "\n",
    "### Future work\n",
    "\n",
    "TO develop using different types of deep learning models and compare the evaluation metrics\n",
    "\n"
   ]
  }
 ],
 "metadata": {
  "colab": {
   "collapsed_sections": [],
   "name": "How to build own text summarizer using deep learning.ipynb",
   "provenance": [],
   "version": "0.3.2"
  },
  "kernelspec": {
   "display_name": "Python 3",
   "language": "python",
   "name": "python3"
  },
  "language_info": {
   "codemirror_mode": {
    "name": "ipython",
    "version": 3
   },
   "file_extension": ".py",
   "mimetype": "text/x-python",
   "name": "python",
   "nbconvert_exporter": "python",
   "pygments_lexer": "ipython3",
   "version": "3.7.3"
  }
 },
 "nbformat": 4,
 "nbformat_minor": 1
}
